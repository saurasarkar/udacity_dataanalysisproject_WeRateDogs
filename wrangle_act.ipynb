{
 "cells": [
  {
   "cell_type": "markdown",
   "metadata": {},
   "source": [
    "# Introduction"
   ]
  },
  {
   "cell_type": "markdown",
   "metadata": {},
   "source": [
    "The report includes the effort for Data Analysis for the WeRateDogs twitter based dog ratings as of August 2017. WeRateDogs has a unique approach to their rating system, that has resulted in a strong Twitter following. WeRateDogs ratings which are out of 10, are more commonly above this mark and they also have a customized dog classification with a dedicated 'dogtionary' classifying the different dog stages. All of these factors will be considered using the data provided directly by WeRateDogs, while combining more information by directly gathering data using the Twitter API Tweepy. Another layer was added for data that includes AI predictions for the different dog breeds in question. \n",
    "\n",
    "The original twitter data provided by WeRateDogs consisted of over 5000 different tweets. This data was futher enhanced to only include tweets with images to work in conjunction with the image prediction data.The enhanced data also includes the tweet text which was extracted to include 'rating', 'dog name', and 'dog stage' (doggo, floof(er), pupper, puppo). The twitter API gathering effort was to extract important indicators like 'retweet count' and 'favorite count'. And the dog prediction file makes an effort to be as robust as possible including efforts at predicting the breed acompanied by a prediction confidence calculation.\n",
    "\n",
    "All the different sources will be gathered, assessed, cleaned and combined to provide a master data file to effectively provide a clear insight on the WeRateDogs rating system.\n"
   ]
  },
  {
   "cell_type": "markdown",
   "metadata": {},
   "source": [
    "# Gather"
   ]
  },
  {
   "cell_type": "code",
   "execution_count": 1,
   "metadata": {},
   "outputs": [],
   "source": [
    "#imports\n",
    "\n",
    "import pandas as pd\n",
    "import numpy as np\n",
    "import tweepy\n",
    "import json\n",
    "import time"
   ]
  },
  {
   "cell_type": "markdown",
   "metadata": {},
   "source": [
    "#### Dataframe 1 - Created from csv file provided by WeRateDogs\n",
    "Dataframe below is the enhanced dataframe that consists of 2356 observations of the the original 5000+ provided by WeRateDogs twitter archive. The data in the dataframe below is filtered to only include data that has ratings. The dataframe was also extracted to include some important new columns: 'rating', 'dog name', and 'dog stage' (doggo, floof(er), pupper, puppo)"
   ]
  },
  {
   "cell_type": "code",
   "execution_count": 5,
   "metadata": {},
   "outputs": [
    {
     "data": {
      "text/plain": [
       "(2356, 17)"
      ]
     },
     "execution_count": 5,
     "metadata": {},
     "output_type": "execute_result"
    }
   ],
   "source": [
    "dfratedogs = pd.read_csv('twitter-archive-enhanced.csv')\n",
    "dfratedogs.shape"
   ]
  },
  {
   "cell_type": "markdown",
   "metadata": {},
   "source": [
    "#### Dataframe 2 - Created from tsv file in Udacity Dog breed predictor data\n",
    "Dataframe below was extracted from a dog breed 'image prediction file' stored on a Udacity hosted server. The dataframe below includes dog breed predictions based on the image file from the specific twitter post. The file also includes other assessments like 'confidence' of the prediction and whether the image assesses the picture as that of a dog."
   ]
  },
  {
   "cell_type": "code",
   "execution_count": 6,
   "metadata": {},
   "outputs": [
    {
     "data": {
      "text/plain": [
       "(2075, 12)"
      ]
     },
     "execution_count": 6,
     "metadata": {},
     "output_type": "execute_result"
    }
   ],
   "source": [
    "# Latest pandas doesn't require request library to import from URL\n",
    "tsv_url = 'https://d17h27t6h515a5.cloudfront.net/topher/2017/August/599fd2ad_image-predictions/image-predictions.tsv'\n",
    "dfbreed = pd.read_csv(tsv_url, sep = '\\t')\n",
    "dfbreed.shape"
   ]
  },
  {
   "cell_type": "markdown",
   "metadata": {},
   "source": [
    "#### Dataframe 3 - RateDogs missing Data retreived using twitter API \n",
    "Dataframe will utilize twitter API to gather other informaiton like 'retweet count' and 'favorite count'"
   ]
  },
  {
   "cell_type": "code",
   "execution_count": 7,
   "metadata": {},
   "outputs": [],
   "source": [
    "# Keys removed for project submission\n",
    "consumer_key = ''\n",
    "consumer_secret = ''\n",
    "access_token = ''\n",
    "access_secret = ''\n",
    "\n",
    "auth = tweepy.OAuthHandler(consumer_key, consumer_secret)\n",
    "auth.set_access_token(access_token, access_secret)\n",
    "\n",
    "# API Instance\n",
    "api = tweepy.API(auth, \n",
    "                 wait_on_rate_limit=True, \n",
    "                 wait_on_rate_limit_notify=True,\n",
    "                 parser = tweepy.parsers.JSONParser(),)"
   ]
  },
  {
   "cell_type": "markdown",
   "metadata": {},
   "source": [
    "Total time taken for the API fetch below was approximately 40 minutes. The code below was run for 40 minutes storing all the fetched information in a JSOn textfile"
   ]
  },
  {
   "cell_type": "code",
   "execution_count": 4,
   "metadata": {},
   "outputs": [
    {
     "name": "stdout",
     "output_type": "stream",
     "text": [
      "888202515573088257 _ [{'code': 144, 'message': 'No status found with that ID.'}]\n",
      "Rate limit reached. Sleeping for: 423\n",
      "873697596434513921 _ [{'code': 144, 'message': 'No status found with that ID.'}]\n",
      "869988702071779329 _ [{'code': 144, 'message': 'No status found with that ID.'}]\n",
      "866816280283807744 _ [{'code': 144, 'message': 'No status found with that ID.'}]\n",
      "861769973181624320 _ [{'code': 144, 'message': 'No status found with that ID.'}]\n",
      "845459076796616705 _ [{'code': 144, 'message': 'No status found with that ID.'}]\n",
      "842892208864923648 _ [{'code': 144, 'message': 'No status found with that ID.'}]\n",
      "837012587749474308 _ [{'code': 144, 'message': 'No status found with that ID.'}]\n",
      "827228250799742977 _ [{'code': 144, 'message': 'No status found with that ID.'}]\n",
      "802247111496568832 _ [{'code': 144, 'message': 'No status found with that ID.'}]\n",
      "775096608509886464 _ [{'code': 144, 'message': 'No status found with that ID.'}]\n",
      "771004394259247104 _ [{'code': 179, 'message': 'Sorry, you are not authorized to see this status.'}]\n",
      "770743923962707968 _ [{'code': 144, 'message': 'No status found with that ID.'}]\n",
      "754011816964026368 _ [{'code': 144, 'message': 'No status found with that ID.'}]\n",
      "Rate limit reached. Sleeping for: 726\n",
      "Rate limit reached. Sleeping for: 725\n",
      "2344.6193549633026\n"
     ]
    }
   ],
   "source": [
    "# external time measurer for this using time library\n",
    "start = time.time()\n",
    "\n",
    "# Start by creating list to capture specific data from WeRateDogs using tweep API\n",
    "favtweet_list = []\n",
    "for tweetid in dfratedogs.tweet_id:\n",
    "    try:\n",
    "        fetch = api.get_status(tweetid, tweet_mode='extended')\n",
    "        favtweet_list.append({'tweet_id': int(fetch['id_str']), \n",
    "                            'retweet_count': int(fetch['retweet_count']),\n",
    "                            'favorite_count': int(fetch['favorite_count'])})\n",
    "    # catch *all* exceptions and print out tweet id      \n",
    "    except Exception as e: \n",
    "        print(str(tweetid)+ \" _ \" + str(e)) \n",
    "    \n",
    "end = time.time() #run after API fetch is complete\n",
    "print(end - start)\n",
    "with open('tweet_json.txt', 'w') as outfile:  \n",
    "    json.dump(favtweet_list, outfile)"
   ]
  },
  {
   "cell_type": "code",
   "execution_count": 8,
   "metadata": {},
   "outputs": [
    {
     "data": {
      "text/plain": [
       "(2342, 3)"
      ]
     },
     "execution_count": 8,
     "metadata": {},
     "output_type": "execute_result"
    }
   ],
   "source": [
    "#Convert json text file into a pandas dataframe\n",
    "dfapi = pd.read_json('tweet_json.txt')\n",
    "\n",
    "# Fewer observations from the tweet API as certain IDs could not be found\n",
    "dfapi.shape"
   ]
  },
  {
   "cell_type": "code",
   "execution_count": 9,
   "metadata": {},
   "outputs": [],
   "source": [
    "# list of failed ids to be used later\n",
    "failedids_list = [888202515573088257,873697596434513921,869988702071779329,866816280283807744,861769973181624320,\n",
    "              845459076796616705,842892208864923648,837012587749474308,827228250799742977,802247111496568832,\n",
    "              775096608509886464,771004394259247104,770743923962707968,754011816964026368]"
   ]
  },
  {
   "cell_type": "markdown",
   "metadata": {},
   "source": [
    "# Assess\n",
    "    "
   ]
  },
  {
   "cell_type": "markdown",
   "metadata": {},
   "source": [
    "#### Dataframe 1 - WeRateDogs Enhanced Data"
   ]
  },
  {
   "cell_type": "code",
   "execution_count": 10,
   "metadata": {
    "scrolled": true
   },
   "outputs": [
    {
     "name": "stdout",
     "output_type": "stream",
     "text": [
      "<class 'pandas.core.frame.DataFrame'>\n",
      "RangeIndex: 2356 entries, 0 to 2355\n",
      "Data columns (total 17 columns):\n",
      "tweet_id                      2356 non-null int64\n",
      "in_reply_to_status_id         78 non-null float64\n",
      "in_reply_to_user_id           78 non-null float64\n",
      "timestamp                     2356 non-null object\n",
      "source                        2356 non-null object\n",
      "text                          2356 non-null object\n",
      "retweeted_status_id           181 non-null float64\n",
      "retweeted_status_user_id      181 non-null float64\n",
      "retweeted_status_timestamp    181 non-null object\n",
      "expanded_urls                 2297 non-null object\n",
      "rating_numerator              2356 non-null int64\n",
      "rating_denominator            2356 non-null int64\n",
      "name                          2356 non-null object\n",
      "doggo                         2356 non-null object\n",
      "floofer                       2356 non-null object\n",
      "pupper                        2356 non-null object\n",
      "puppo                         2356 non-null object\n",
      "dtypes: float64(4), int64(3), object(10)\n",
      "memory usage: 313.0+ KB\n"
     ]
    }
   ],
   "source": [
    "dfratedogs.info()"
   ]
  },
  {
   "cell_type": "code",
   "execution_count": 11,
   "metadata": {},
   "outputs": [
    {
     "data": {
      "text/html": [
       "<div>\n",
       "<style>\n",
       "    .dataframe thead tr:only-child th {\n",
       "        text-align: right;\n",
       "    }\n",
       "\n",
       "    .dataframe thead th {\n",
       "        text-align: left;\n",
       "    }\n",
       "\n",
       "    .dataframe tbody tr th {\n",
       "        vertical-align: top;\n",
       "    }\n",
       "</style>\n",
       "<table border=\"1\" class=\"dataframe\">\n",
       "  <thead>\n",
       "    <tr style=\"text-align: right;\">\n",
       "      <th></th>\n",
       "      <th>tweet_id</th>\n",
       "      <th>in_reply_to_status_id</th>\n",
       "      <th>in_reply_to_user_id</th>\n",
       "      <th>timestamp</th>\n",
       "      <th>source</th>\n",
       "      <th>text</th>\n",
       "      <th>retweeted_status_id</th>\n",
       "      <th>retweeted_status_user_id</th>\n",
       "      <th>retweeted_status_timestamp</th>\n",
       "      <th>expanded_urls</th>\n",
       "      <th>rating_numerator</th>\n",
       "      <th>rating_denominator</th>\n",
       "      <th>name</th>\n",
       "      <th>doggo</th>\n",
       "      <th>floofer</th>\n",
       "      <th>pupper</th>\n",
       "      <th>puppo</th>\n",
       "    </tr>\n",
       "  </thead>\n",
       "  <tbody>\n",
       "    <tr>\n",
       "      <th>2354</th>\n",
       "      <td>666029285002620928</td>\n",
       "      <td>NaN</td>\n",
       "      <td>NaN</td>\n",
       "      <td>2015-11-15 23:05:30 +0000</td>\n",
       "      <td>&lt;a href=\"http://twitter.com/download/iphone\" r...</td>\n",
       "      <td>This is a western brown Mitsubishi terrier. Up...</td>\n",
       "      <td>NaN</td>\n",
       "      <td>NaN</td>\n",
       "      <td>NaN</td>\n",
       "      <td>https://twitter.com/dog_rates/status/666029285...</td>\n",
       "      <td>7</td>\n",
       "      <td>10</td>\n",
       "      <td>a</td>\n",
       "      <td>None</td>\n",
       "      <td>None</td>\n",
       "      <td>None</td>\n",
       "      <td>None</td>\n",
       "    </tr>\n",
       "    <tr>\n",
       "      <th>2355</th>\n",
       "      <td>666020888022790149</td>\n",
       "      <td>NaN</td>\n",
       "      <td>NaN</td>\n",
       "      <td>2015-11-15 22:32:08 +0000</td>\n",
       "      <td>&lt;a href=\"http://twitter.com/download/iphone\" r...</td>\n",
       "      <td>Here we have a Japanese Irish Setter. Lost eye...</td>\n",
       "      <td>NaN</td>\n",
       "      <td>NaN</td>\n",
       "      <td>NaN</td>\n",
       "      <td>https://twitter.com/dog_rates/status/666020888...</td>\n",
       "      <td>8</td>\n",
       "      <td>10</td>\n",
       "      <td>None</td>\n",
       "      <td>None</td>\n",
       "      <td>None</td>\n",
       "      <td>None</td>\n",
       "      <td>None</td>\n",
       "    </tr>\n",
       "  </tbody>\n",
       "</table>\n",
       "</div>"
      ],
      "text/plain": [
       "                tweet_id  in_reply_to_status_id  in_reply_to_user_id  \\\n",
       "2354  666029285002620928                    NaN                  NaN   \n",
       "2355  666020888022790149                    NaN                  NaN   \n",
       "\n",
       "                      timestamp  \\\n",
       "2354  2015-11-15 23:05:30 +0000   \n",
       "2355  2015-11-15 22:32:08 +0000   \n",
       "\n",
       "                                                 source  \\\n",
       "2354  <a href=\"http://twitter.com/download/iphone\" r...   \n",
       "2355  <a href=\"http://twitter.com/download/iphone\" r...   \n",
       "\n",
       "                                                   text  retweeted_status_id  \\\n",
       "2354  This is a western brown Mitsubishi terrier. Up...                  NaN   \n",
       "2355  Here we have a Japanese Irish Setter. Lost eye...                  NaN   \n",
       "\n",
       "      retweeted_status_user_id retweeted_status_timestamp  \\\n",
       "2354                       NaN                        NaN   \n",
       "2355                       NaN                        NaN   \n",
       "\n",
       "                                          expanded_urls  rating_numerator  \\\n",
       "2354  https://twitter.com/dog_rates/status/666029285...                 7   \n",
       "2355  https://twitter.com/dog_rates/status/666020888...                 8   \n",
       "\n",
       "      rating_denominator  name doggo floofer pupper puppo  \n",
       "2354                  10     a  None    None   None  None  \n",
       "2355                  10  None  None    None   None  None  "
      ]
     },
     "execution_count": 11,
     "metadata": {},
     "output_type": "execute_result"
    }
   ],
   "source": [
    "dfratedogs.tail(2)"
   ]
  },
  {
   "cell_type": "markdown",
   "metadata": {},
   "source": [
    "* TIDINESS: dog stages ('doggo', 'floofer', 'pupper', 'puppo') are dog classifications set up as a column header\n",
    "* QUALITY: 'timestamp' includes an obsolete seconds portion (+0000) and is of the wrong datatype\n",
    "* QUALITY: Incorret 'name' entries like 'None' and single characters names identified\n"
   ]
  },
  {
   "cell_type": "code",
   "execution_count": 12,
   "metadata": {},
   "outputs": [
    {
     "data": {
      "text/plain": [
       "19    RT @dog_rates: This is Canela. She attempted some fancy porch pics. They were unsuccessful. 13/10 someone help her https://t.co/cLyzpcUcMX    \n",
       "32    RT @Athletics: 12/10 #BATP https://t.co/WxwJmvjfxo                                                                                            \n",
       "36    RT @dog_rates: This is Lilly. She just parallel barked. Kindly requests a reward now. 13/10 would pet so well https://t.co/SATN4If5H5         \n",
       "68    RT @dog_rates: This is Emmy. She was adopted today. Massive round of pupplause for Emmy and her new family. 14/10 for all involved https://…  \n",
       "73    RT @dog_rates: Meet Shadow. In an attempt to reach maximum zooming borkdrive, he tore his ACL. Still 13/10 tho. Help him out below\\n\\nhttps:/…\n",
       "Name: text, dtype: object"
      ]
     },
     "execution_count": 12,
     "metadata": {},
     "output_type": "execute_result"
    }
   ],
   "source": [
    "# Observe columns for 'retweets' and 'in reply'\n",
    "# set_option below sets the column width to max in order to display complete 'text' field\n",
    "pd.set_option('display.max_colwidth', -1)\n",
    "dfratedogs[dfratedogs.retweeted_status_id.notnull()]['text'].head()"
   ]
  },
  {
   "cell_type": "code",
   "execution_count": 13,
   "metadata": {},
   "outputs": [
    {
     "data": {
      "text/html": [
       "<div>\n",
       "<style>\n",
       "    .dataframe thead tr:only-child th {\n",
       "        text-align: right;\n",
       "    }\n",
       "\n",
       "    .dataframe thead th {\n",
       "        text-align: left;\n",
       "    }\n",
       "\n",
       "    .dataframe tbody tr th {\n",
       "        vertical-align: top;\n",
       "    }\n",
       "</style>\n",
       "<table border=\"1\" class=\"dataframe\">\n",
       "  <thead>\n",
       "    <tr style=\"text-align: right;\">\n",
       "      <th></th>\n",
       "      <th>tweet_id</th>\n",
       "      <th>in_reply_to_status_id</th>\n",
       "      <th>in_reply_to_user_id</th>\n",
       "      <th>timestamp</th>\n",
       "      <th>source</th>\n",
       "      <th>text</th>\n",
       "      <th>retweeted_status_id</th>\n",
       "      <th>retweeted_status_user_id</th>\n",
       "      <th>retweeted_status_timestamp</th>\n",
       "      <th>expanded_urls</th>\n",
       "      <th>rating_numerator</th>\n",
       "      <th>rating_denominator</th>\n",
       "      <th>name</th>\n",
       "      <th>doggo</th>\n",
       "      <th>floofer</th>\n",
       "      <th>pupper</th>\n",
       "      <th>puppo</th>\n",
       "    </tr>\n",
       "  </thead>\n",
       "  <tbody>\n",
       "    <tr>\n",
       "      <th>36</th>\n",
       "      <td>885311592912609280</td>\n",
       "      <td>NaN</td>\n",
       "      <td>NaN</td>\n",
       "      <td>2017-07-13 01:35:06 +0000</td>\n",
       "      <td>&lt;a href=\"http://twitter.com/download/iphone\" rel=\"nofollow\"&gt;Twitter for iPhone&lt;/a&gt;</td>\n",
       "      <td>RT @dog_rates: This is Lilly. She just parallel barked. Kindly requests a reward now. 13/10 would pet so well https://t.co/SATN4If5H5</td>\n",
       "      <td>8.305833e+17</td>\n",
       "      <td>4.196984e+09</td>\n",
       "      <td>2017-02-12 01:04:29 +0000</td>\n",
       "      <td>https://twitter.com/dog_rates/status/830583320585068544/photo/1,https://twitter.com/dog_rates/status/830583320585068544/photo/1,https://twitter.com/dog_rates/status/830583320585068544/photo/1,https://twitter.com/dog_rates/status/830583320585068544/photo/1</td>\n",
       "      <td>13</td>\n",
       "      <td>10</td>\n",
       "      <td>Lilly</td>\n",
       "      <td>None</td>\n",
       "      <td>None</td>\n",
       "      <td>None</td>\n",
       "      <td>None</td>\n",
       "    </tr>\n",
       "    <tr>\n",
       "      <th>356</th>\n",
       "      <td>830583320585068544</td>\n",
       "      <td>NaN</td>\n",
       "      <td>NaN</td>\n",
       "      <td>2017-02-12 01:04:29 +0000</td>\n",
       "      <td>&lt;a href=\"http://twitter.com/download/iphone\" rel=\"nofollow\"&gt;Twitter for iPhone&lt;/a&gt;</td>\n",
       "      <td>This is Lilly. She just parallel barked. Kindly requests a reward now. 13/10 would pet so well https://t.co/SATN4If5H5</td>\n",
       "      <td>NaN</td>\n",
       "      <td>NaN</td>\n",
       "      <td>NaN</td>\n",
       "      <td>https://twitter.com/dog_rates/status/830583320585068544/photo/1,https://twitter.com/dog_rates/status/830583320585068544/photo/1</td>\n",
       "      <td>13</td>\n",
       "      <td>10</td>\n",
       "      <td>Lilly</td>\n",
       "      <td>None</td>\n",
       "      <td>None</td>\n",
       "      <td>None</td>\n",
       "      <td>None</td>\n",
       "    </tr>\n",
       "  </tbody>\n",
       "</table>\n",
       "</div>"
      ],
      "text/plain": [
       "               tweet_id  in_reply_to_status_id  in_reply_to_user_id  \\\n",
       "36   885311592912609280 NaN                    NaN                    \n",
       "356  830583320585068544 NaN                    NaN                    \n",
       "\n",
       "                     timestamp  \\\n",
       "36   2017-07-13 01:35:06 +0000   \n",
       "356  2017-02-12 01:04:29 +0000   \n",
       "\n",
       "                                                                                 source  \\\n",
       "36   <a href=\"http://twitter.com/download/iphone\" rel=\"nofollow\">Twitter for iPhone</a>   \n",
       "356  <a href=\"http://twitter.com/download/iphone\" rel=\"nofollow\">Twitter for iPhone</a>   \n",
       "\n",
       "                                                                                                                                      text  \\\n",
       "36   RT @dog_rates: This is Lilly. She just parallel barked. Kindly requests a reward now. 13/10 would pet so well https://t.co/SATN4If5H5   \n",
       "356  This is Lilly. She just parallel barked. Kindly requests a reward now. 13/10 would pet so well https://t.co/SATN4If5H5                  \n",
       "\n",
       "     retweeted_status_id  retweeted_status_user_id retweeted_status_timestamp  \\\n",
       "36   8.305833e+17         4.196984e+09              2017-02-12 01:04:29 +0000   \n",
       "356 NaN                  NaN                        NaN                         \n",
       "\n",
       "                                                                                                                                                                                                                                                       expanded_urls  \\\n",
       "36   https://twitter.com/dog_rates/status/830583320585068544/photo/1,https://twitter.com/dog_rates/status/830583320585068544/photo/1,https://twitter.com/dog_rates/status/830583320585068544/photo/1,https://twitter.com/dog_rates/status/830583320585068544/photo/1   \n",
       "356  https://twitter.com/dog_rates/status/830583320585068544/photo/1,https://twitter.com/dog_rates/status/830583320585068544/photo/1                                                                                                                                   \n",
       "\n",
       "     rating_numerator  rating_denominator   name doggo floofer pupper puppo  \n",
       "36   13                10                  Lilly  None  None    None   None  \n",
       "356  13                10                  Lilly  None  None    None   None  "
      ]
     },
     "execution_count": 13,
     "metadata": {},
     "output_type": "execute_result"
    }
   ],
   "source": [
    "# Use \"lilly\" as an example to observe actual post and retweet post\n",
    "dfratedogs[dfratedogs.name == 'Lilly']"
   ]
  },
  {
   "cell_type": "code",
   "execution_count": 14,
   "metadata": {},
   "outputs": [
    {
     "data": {
      "text/plain": [
       "30    @NonWhiteHat @MayhewMayhem omg hello tanner you are a scary good boy 12/10 would pet with extreme caution\n",
       "55    @roushfenway These are good dogs but 17/10 is an emotional impulse rating. More like 13/10s              \n",
       "Name: text, dtype: object"
      ]
     },
     "execution_count": 14,
     "metadata": {},
     "output_type": "execute_result"
    }
   ],
   "source": [
    "# Do the same for 'reply' tweets\n",
    "pd.set_option('display.max_colwidth', -1)\n",
    "dfratedogs[dfratedogs.in_reply_to_status_id.notnull()]['text'].head(2)"
   ]
  },
  {
   "cell_type": "code",
   "execution_count": 15,
   "metadata": {},
   "outputs": [],
   "source": [
    "# reset colwidth back to default\n",
    "pd.set_option('display.max_colwidth', 50)\n"
   ]
  },
  {
   "cell_type": "markdown",
   "metadata": {},
   "source": [
    "* QUALITY: Rows where 'retweeted_status_id', 'retweeted_status_user_id', 'retweeted_status_timestamp' are not null are duplicates of original postings\n",
    "* QUALITY: Rows where 'in_reply_to_status_id', 'in_reply_to_user_id' are not null are not null are duplicates of original postings"
   ]
  },
  {
   "cell_type": "code",
   "execution_count": 16,
   "metadata": {},
   "outputs": [
    {
     "data": {
      "text/plain": [
       "529    <a href=\"http://vine.co\" rel=\"nofollow\">Vine -...\n",
       "562    <a href=\"http://vine.co\" rel=\"nofollow\">Vine -...\n",
       "Name: source, dtype: object"
      ]
     },
     "execution_count": 16,
     "metadata": {},
     "output_type": "execute_result"
    }
   ],
   "source": [
    "# Pattern in 'source' column is that source is either 'twitter' or 'vine'\n",
    "dfratedogs[~dfratedogs.source.str.contains('twitter')]['source'].head(2)"
   ]
  },
  {
   "cell_type": "code",
   "execution_count": 17,
   "metadata": {},
   "outputs": [
    {
     "data": {
      "text/plain": [
       "0    <a href=\"http://twitter.com/download/iphone\" r...\n",
       "1    <a href=\"http://twitter.com/download/iphone\" r...\n",
       "Name: source, dtype: object"
      ]
     },
     "execution_count": 17,
     "metadata": {},
     "output_type": "execute_result"
    }
   ],
   "source": [
    "dfratedogs[dfratedogs.source.str.contains('twitter')]['source'].head(2)"
   ]
  },
  {
   "cell_type": "markdown",
   "metadata": {},
   "source": [
    "* QUALITY: 'source' identifies a URL which is too specific to be useful as discrete data for analaysis"
   ]
  },
  {
   "cell_type": "code",
   "execution_count": 18,
   "metadata": {},
   "outputs": [
    {
     "data": {
      "text/plain": [
       "photo    2077\n",
       "video      82\n",
       "ZI1rq       2\n",
       "3LZqX       2\n",
       "aj1Vp       2\n",
       "Name: expanded_urls, dtype: int64"
      ]
     },
     "execution_count": 18,
     "metadata": {},
     "output_type": "execute_result"
    }
   ],
   "source": [
    "# Pattern in expanded urls is that the post is mostly 'photo' or 'video' with other unique URLS\n",
    "dfratedogs[~dfratedogs.expanded_urls.str.contains('photo').isnull()]['expanded_urls'].str[-7:-2].value_counts().head()\n"
   ]
  },
  {
   "cell_type": "markdown",
   "metadata": {},
   "source": [
    "* QUALITY: 'expanded_urls' is not grouped together in discrete buckets to be useful for data analysis\n"
   ]
  },
  {
   "cell_type": "code",
   "execution_count": 19,
   "metadata": {},
   "outputs": [
    {
     "data": {
      "text/html": [
       "<div>\n",
       "<style>\n",
       "    .dataframe thead tr:only-child th {\n",
       "        text-align: right;\n",
       "    }\n",
       "\n",
       "    .dataframe thead th {\n",
       "        text-align: left;\n",
       "    }\n",
       "\n",
       "    .dataframe tbody tr th {\n",
       "        vertical-align: top;\n",
       "    }\n",
       "</style>\n",
       "<table border=\"1\" class=\"dataframe\">\n",
       "  <thead>\n",
       "    <tr style=\"text-align: right;\">\n",
       "      <th></th>\n",
       "      <th>tweet_id</th>\n",
       "      <th>in_reply_to_status_id</th>\n",
       "      <th>in_reply_to_user_id</th>\n",
       "      <th>timestamp</th>\n",
       "      <th>source</th>\n",
       "      <th>text</th>\n",
       "      <th>retweeted_status_id</th>\n",
       "      <th>retweeted_status_user_id</th>\n",
       "      <th>retweeted_status_timestamp</th>\n",
       "      <th>expanded_urls</th>\n",
       "      <th>rating_numerator</th>\n",
       "      <th>rating_denominator</th>\n",
       "      <th>name</th>\n",
       "      <th>doggo</th>\n",
       "      <th>floofer</th>\n",
       "      <th>pupper</th>\n",
       "      <th>puppo</th>\n",
       "    </tr>\n",
       "  </thead>\n",
       "  <tbody>\n",
       "    <tr>\n",
       "      <th>30</th>\n",
       "      <td>886267009285017600</td>\n",
       "      <td>8.862664e+17</td>\n",
       "      <td>2.281182e+09</td>\n",
       "      <td>2017-07-15 16:51:35 +0000</td>\n",
       "      <td>&lt;a href=\"http://twitter.com/download/iphone\" r...</td>\n",
       "      <td>@NonWhiteHat @MayhewMayhem omg hello tanner yo...</td>\n",
       "      <td>NaN</td>\n",
       "      <td>NaN</td>\n",
       "      <td>NaN</td>\n",
       "      <td>NaN</td>\n",
       "      <td>12</td>\n",
       "      <td>10</td>\n",
       "      <td>None</td>\n",
       "      <td>None</td>\n",
       "      <td>None</td>\n",
       "      <td>None</td>\n",
       "      <td>None</td>\n",
       "    </tr>\n",
       "    <tr>\n",
       "      <th>32</th>\n",
       "      <td>886054160059072513</td>\n",
       "      <td>NaN</td>\n",
       "      <td>NaN</td>\n",
       "      <td>2017-07-15 02:45:48 +0000</td>\n",
       "      <td>&lt;a href=\"http://twitter.com/download/iphone\" r...</td>\n",
       "      <td>RT @Athletics: 12/10 #BATP https://t.co/WxwJmv...</td>\n",
       "      <td>8.860537e+17</td>\n",
       "      <td>19607400.0</td>\n",
       "      <td>2017-07-15 02:44:07 +0000</td>\n",
       "      <td>https://twitter.com/dog_rates/status/886053434...</td>\n",
       "      <td>12</td>\n",
       "      <td>10</td>\n",
       "      <td>None</td>\n",
       "      <td>None</td>\n",
       "      <td>None</td>\n",
       "      <td>None</td>\n",
       "      <td>None</td>\n",
       "    </tr>\n",
       "    <tr>\n",
       "      <th>35</th>\n",
       "      <td>885518971528720385</td>\n",
       "      <td>NaN</td>\n",
       "      <td>NaN</td>\n",
       "      <td>2017-07-13 15:19:09 +0000</td>\n",
       "      <td>&lt;a href=\"http://twitter.com/download/iphone\" r...</td>\n",
       "      <td>I have a new hero and his name is Howard. 14/1...</td>\n",
       "      <td>NaN</td>\n",
       "      <td>NaN</td>\n",
       "      <td>NaN</td>\n",
       "      <td>https://twitter.com/4bonds2carbon/status/88551...</td>\n",
       "      <td>14</td>\n",
       "      <td>10</td>\n",
       "      <td>None</td>\n",
       "      <td>None</td>\n",
       "      <td>None</td>\n",
       "      <td>None</td>\n",
       "      <td>None</td>\n",
       "    </tr>\n",
       "    <tr>\n",
       "      <th>42</th>\n",
       "      <td>884247878851493888</td>\n",
       "      <td>NaN</td>\n",
       "      <td>NaN</td>\n",
       "      <td>2017-07-10 03:08:17 +0000</td>\n",
       "      <td>&lt;a href=\"http://twitter.com/download/iphone\" r...</td>\n",
       "      <td>OMG HE DIDN'T MEAN TO HE WAS JUST TRYING A LIT...</td>\n",
       "      <td>NaN</td>\n",
       "      <td>NaN</td>\n",
       "      <td>NaN</td>\n",
       "      <td>https://twitter.com/kaijohnson_19/status/88396...</td>\n",
       "      <td>13</td>\n",
       "      <td>10</td>\n",
       "      <td>None</td>\n",
       "      <td>None</td>\n",
       "      <td>None</td>\n",
       "      <td>None</td>\n",
       "      <td>None</td>\n",
       "    </tr>\n",
       "    <tr>\n",
       "      <th>55</th>\n",
       "      <td>881633300179243008</td>\n",
       "      <td>8.816070e+17</td>\n",
       "      <td>4.738443e+07</td>\n",
       "      <td>2017-07-02 21:58:53 +0000</td>\n",
       "      <td>&lt;a href=\"http://twitter.com/download/iphone\" r...</td>\n",
       "      <td>@roushfenway These are good dogs but 17/10 is ...</td>\n",
       "      <td>NaN</td>\n",
       "      <td>NaN</td>\n",
       "      <td>NaN</td>\n",
       "      <td>NaN</td>\n",
       "      <td>17</td>\n",
       "      <td>10</td>\n",
       "      <td>None</td>\n",
       "      <td>None</td>\n",
       "      <td>None</td>\n",
       "      <td>None</td>\n",
       "      <td>None</td>\n",
       "    </tr>\n",
       "    <tr>\n",
       "      <th>64</th>\n",
       "      <td>879674319642796034</td>\n",
       "      <td>8.795538e+17</td>\n",
       "      <td>3.105441e+09</td>\n",
       "      <td>2017-06-27 12:14:36 +0000</td>\n",
       "      <td>&lt;a href=\"http://twitter.com/download/iphone\" r...</td>\n",
       "      <td>@RealKentMurphy 14/10 confirmed</td>\n",
       "      <td>NaN</td>\n",
       "      <td>NaN</td>\n",
       "      <td>NaN</td>\n",
       "      <td>NaN</td>\n",
       "      <td>14</td>\n",
       "      <td>10</td>\n",
       "      <td>None</td>\n",
       "      <td>None</td>\n",
       "      <td>None</td>\n",
       "      <td>None</td>\n",
       "      <td>None</td>\n",
       "    </tr>\n",
       "    <tr>\n",
       "      <th>72</th>\n",
       "      <td>878604707211726852</td>\n",
       "      <td>NaN</td>\n",
       "      <td>NaN</td>\n",
       "      <td>2017-06-24 13:24:20 +0000</td>\n",
       "      <td>&lt;a href=\"http://twitter.com/download/iphone\" r...</td>\n",
       "      <td>Martha is stunning how h*ckin dare you. 13/10 ...</td>\n",
       "      <td>NaN</td>\n",
       "      <td>NaN</td>\n",
       "      <td>NaN</td>\n",
       "      <td>https://twitter.com/bbcworld/status/8785998685...</td>\n",
       "      <td>13</td>\n",
       "      <td>10</td>\n",
       "      <td>None</td>\n",
       "      <td>None</td>\n",
       "      <td>None</td>\n",
       "      <td>None</td>\n",
       "      <td>None</td>\n",
       "    </tr>\n",
       "    <tr>\n",
       "      <th>83</th>\n",
       "      <td>876537666061221889</td>\n",
       "      <td>NaN</td>\n",
       "      <td>NaN</td>\n",
       "      <td>2017-06-18 20:30:39 +0000</td>\n",
       "      <td>&lt;a href=\"http://twitter.com/download/iphone\" r...</td>\n",
       "      <td>I can say with the pupmost confidence that the...</td>\n",
       "      <td>NaN</td>\n",
       "      <td>NaN</td>\n",
       "      <td>NaN</td>\n",
       "      <td>https://twitter.com/mpstowerham/status/8761629...</td>\n",
       "      <td>14</td>\n",
       "      <td>10</td>\n",
       "      <td>None</td>\n",
       "      <td>None</td>\n",
       "      <td>None</td>\n",
       "      <td>None</td>\n",
       "      <td>None</td>\n",
       "    </tr>\n",
       "    <tr>\n",
       "      <th>88</th>\n",
       "      <td>875097192612077568</td>\n",
       "      <td>NaN</td>\n",
       "      <td>NaN</td>\n",
       "      <td>2017-06-14 21:06:43 +0000</td>\n",
       "      <td>&lt;a href=\"http://twitter.com/download/iphone\" r...</td>\n",
       "      <td>You'll get your package when that precious man...</td>\n",
       "      <td>NaN</td>\n",
       "      <td>NaN</td>\n",
       "      <td>NaN</td>\n",
       "      <td>https://twitter.com/drboondoc/status/874413398...</td>\n",
       "      <td>13</td>\n",
       "      <td>10</td>\n",
       "      <td>None</td>\n",
       "      <td>None</td>\n",
       "      <td>None</td>\n",
       "      <td>None</td>\n",
       "      <td>None</td>\n",
       "    </tr>\n",
       "    <tr>\n",
       "      <th>110</th>\n",
       "      <td>871102520638267392</td>\n",
       "      <td>NaN</td>\n",
       "      <td>NaN</td>\n",
       "      <td>2017-06-03 20:33:19 +0000</td>\n",
       "      <td>&lt;a href=\"http://twitter.com/download/iphone\" r...</td>\n",
       "      <td>Never doubt a doggo 14/10 https://t.co/AbBLh2FZCH</td>\n",
       "      <td>NaN</td>\n",
       "      <td>NaN</td>\n",
       "      <td>NaN</td>\n",
       "      <td>https://twitter.com/animalcog/status/871075758...</td>\n",
       "      <td>14</td>\n",
       "      <td>10</td>\n",
       "      <td>None</td>\n",
       "      <td>doggo</td>\n",
       "      <td>None</td>\n",
       "      <td>None</td>\n",
       "      <td>None</td>\n",
       "    </tr>\n",
       "    <tr>\n",
       "      <th>113</th>\n",
       "      <td>870726314365509632</td>\n",
       "      <td>8.707262e+17</td>\n",
       "      <td>1.648776e+07</td>\n",
       "      <td>2017-06-02 19:38:25 +0000</td>\n",
       "      <td>&lt;a href=\"http://twitter.com/download/iphone\" r...</td>\n",
       "      <td>@ComplicitOwl @ShopWeRateDogs &amp;gt;10/10 is res...</td>\n",
       "      <td>NaN</td>\n",
       "      <td>NaN</td>\n",
       "      <td>NaN</td>\n",
       "      <td>NaN</td>\n",
       "      <td>10</td>\n",
       "      <td>10</td>\n",
       "      <td>None</td>\n",
       "      <td>None</td>\n",
       "      <td>None</td>\n",
       "      <td>None</td>\n",
       "      <td>None</td>\n",
       "    </tr>\n",
       "    <tr>\n",
       "      <th>133</th>\n",
       "      <td>866720684873056260</td>\n",
       "      <td>NaN</td>\n",
       "      <td>NaN</td>\n",
       "      <td>2017-05-22 18:21:28 +0000</td>\n",
       "      <td>&lt;a href=\"http://twitter.com/download/iphone\" r...</td>\n",
       "      <td>He was providing for his family 13/10 how dare...</td>\n",
       "      <td>NaN</td>\n",
       "      <td>NaN</td>\n",
       "      <td>NaN</td>\n",
       "      <td>https://twitter.com/nbcnews/status/86645871888...</td>\n",
       "      <td>13</td>\n",
       "      <td>10</td>\n",
       "      <td>None</td>\n",
       "      <td>None</td>\n",
       "      <td>None</td>\n",
       "      <td>None</td>\n",
       "      <td>None</td>\n",
       "    </tr>\n",
       "    <tr>\n",
       "      <th>148</th>\n",
       "      <td>863427515083354112</td>\n",
       "      <td>8.634256e+17</td>\n",
       "      <td>7.759620e+07</td>\n",
       "      <td>2017-05-13 16:15:35 +0000</td>\n",
       "      <td>&lt;a href=\"http://twitter.com/download/iphone\" r...</td>\n",
       "      <td>@Jack_Septic_Eye I'd need a few more pics to p...</td>\n",
       "      <td>NaN</td>\n",
       "      <td>NaN</td>\n",
       "      <td>NaN</td>\n",
       "      <td>NaN</td>\n",
       "      <td>12</td>\n",
       "      <td>10</td>\n",
       "      <td>None</td>\n",
       "      <td>None</td>\n",
       "      <td>None</td>\n",
       "      <td>None</td>\n",
       "      <td>None</td>\n",
       "    </tr>\n",
       "    <tr>\n",
       "      <th>179</th>\n",
       "      <td>857214891891077121</td>\n",
       "      <td>8.571567e+17</td>\n",
       "      <td>1.806710e+08</td>\n",
       "      <td>2017-04-26 12:48:51 +0000</td>\n",
       "      <td>&lt;a href=\"http://twitter.com/download/iphone\" r...</td>\n",
       "      <td>@Marc_IRL pixelated af 12/10</td>\n",
       "      <td>NaN</td>\n",
       "      <td>NaN</td>\n",
       "      <td>NaN</td>\n",
       "      <td>NaN</td>\n",
       "      <td>12</td>\n",
       "      <td>10</td>\n",
       "      <td>None</td>\n",
       "      <td>None</td>\n",
       "      <td>None</td>\n",
       "      <td>None</td>\n",
       "      <td>None</td>\n",
       "    </tr>\n",
       "    <tr>\n",
       "      <th>185</th>\n",
       "      <td>856330835276025856</td>\n",
       "      <td>NaN</td>\n",
       "      <td>NaN</td>\n",
       "      <td>2017-04-24 02:15:55 +0000</td>\n",
       "      <td>&lt;a href=\"http://twitter.com/download/iphone\" r...</td>\n",
       "      <td>RT @Jenna_Marbles: @dog_rates Thanks for ratin...</td>\n",
       "      <td>8.563302e+17</td>\n",
       "      <td>66699013.0</td>\n",
       "      <td>2017-04-24 02:13:14 +0000</td>\n",
       "      <td>NaN</td>\n",
       "      <td>14</td>\n",
       "      <td>10</td>\n",
       "      <td>None</td>\n",
       "      <td>None</td>\n",
       "      <td>None</td>\n",
       "      <td>None</td>\n",
       "      <td>None</td>\n",
       "    </tr>\n",
       "    <tr>\n",
       "      <th>186</th>\n",
       "      <td>856288084350160898</td>\n",
       "      <td>8.562860e+17</td>\n",
       "      <td>2.792810e+08</td>\n",
       "      <td>2017-04-23 23:26:03 +0000</td>\n",
       "      <td>&lt;a href=\"http://twitter.com/download/iphone\" r...</td>\n",
       "      <td>@xianmcguire @Jenna_Marbles Kardashians wouldn...</td>\n",
       "      <td>NaN</td>\n",
       "      <td>NaN</td>\n",
       "      <td>NaN</td>\n",
       "      <td>NaN</td>\n",
       "      <td>14</td>\n",
       "      <td>10</td>\n",
       "      <td>None</td>\n",
       "      <td>None</td>\n",
       "      <td>None</td>\n",
       "      <td>None</td>\n",
       "      <td>None</td>\n",
       "    </tr>\n",
       "    <tr>\n",
       "      <th>188</th>\n",
       "      <td>855862651834028034</td>\n",
       "      <td>8.558616e+17</td>\n",
       "      <td>1.943518e+08</td>\n",
       "      <td>2017-04-22 19:15:32 +0000</td>\n",
       "      <td>&lt;a href=\"http://twitter.com/download/iphone\" r...</td>\n",
       "      <td>@dhmontgomery We also gave snoop dogg a 420/10...</td>\n",
       "      <td>NaN</td>\n",
       "      <td>NaN</td>\n",
       "      <td>NaN</td>\n",
       "      <td>NaN</td>\n",
       "      <td>420</td>\n",
       "      <td>10</td>\n",
       "      <td>None</td>\n",
       "      <td>None</td>\n",
       "      <td>None</td>\n",
       "      <td>None</td>\n",
       "      <td>None</td>\n",
       "    </tr>\n",
       "    <tr>\n",
       "      <th>189</th>\n",
       "      <td>855860136149123072</td>\n",
       "      <td>8.558585e+17</td>\n",
       "      <td>1.361572e+07</td>\n",
       "      <td>2017-04-22 19:05:32 +0000</td>\n",
       "      <td>&lt;a href=\"http://twitter.com/download/iphone\" r...</td>\n",
       "      <td>@s8n You tried very hard to portray this good ...</td>\n",
       "      <td>NaN</td>\n",
       "      <td>NaN</td>\n",
       "      <td>NaN</td>\n",
       "      <td>NaN</td>\n",
       "      <td>666</td>\n",
       "      <td>10</td>\n",
       "      <td>None</td>\n",
       "      <td>None</td>\n",
       "      <td>None</td>\n",
       "      <td>None</td>\n",
       "      <td>None</td>\n",
       "    </tr>\n",
       "    <tr>\n",
       "      <th>190</th>\n",
       "      <td>855857698524602368</td>\n",
       "      <td>NaN</td>\n",
       "      <td>NaN</td>\n",
       "      <td>2017-04-22 18:55:51 +0000</td>\n",
       "      <td>&lt;a href=\"http://twitter.com/download/iphone\" r...</td>\n",
       "      <td>HE'S LIKE \"WAIT A MINUTE I'M AN ANIMAL THIS IS...</td>\n",
       "      <td>NaN</td>\n",
       "      <td>NaN</td>\n",
       "      <td>NaN</td>\n",
       "      <td>https://twitter.com/perfy/status/8558573181681...</td>\n",
       "      <td>13</td>\n",
       "      <td>10</td>\n",
       "      <td>None</td>\n",
       "      <td>None</td>\n",
       "      <td>None</td>\n",
       "      <td>None</td>\n",
       "      <td>None</td>\n",
       "    </tr>\n",
       "    <tr>\n",
       "      <th>192</th>\n",
       "      <td>855818117272018944</td>\n",
       "      <td>NaN</td>\n",
       "      <td>NaN</td>\n",
       "      <td>2017-04-22 16:18:34 +0000</td>\n",
       "      <td>&lt;a href=\"http://twitter.com/download/iphone\" r...</td>\n",
       "      <td>I HEARD HE TIED HIS OWN BOWTIE MARK AND HE JUS...</td>\n",
       "      <td>NaN</td>\n",
       "      <td>NaN</td>\n",
       "      <td>NaN</td>\n",
       "      <td>https://twitter.com/markhalperin/status/855656...</td>\n",
       "      <td>13</td>\n",
       "      <td>10</td>\n",
       "      <td>None</td>\n",
       "      <td>None</td>\n",
       "      <td>None</td>\n",
       "      <td>None</td>\n",
       "      <td>None</td>\n",
       "    </tr>\n",
       "    <tr>\n",
       "      <th>218</th>\n",
       "      <td>850333567704068097</td>\n",
       "      <td>8.503288e+17</td>\n",
       "      <td>2.195506e+07</td>\n",
       "      <td>2017-04-07 13:04:55 +0000</td>\n",
       "      <td>&lt;a href=\"http://twitter.com/download/iphone\" r...</td>\n",
       "      <td>@markhoppus MARK THAT DOG HAS SEEN AND EXPERIE...</td>\n",
       "      <td>NaN</td>\n",
       "      <td>NaN</td>\n",
       "      <td>NaN</td>\n",
       "      <td>NaN</td>\n",
       "      <td>13</td>\n",
       "      <td>10</td>\n",
       "      <td>None</td>\n",
       "      <td>None</td>\n",
       "      <td>None</td>\n",
       "      <td>None</td>\n",
       "      <td>None</td>\n",
       "    </tr>\n",
       "    <tr>\n",
       "      <th>228</th>\n",
       "      <td>848213670039564288</td>\n",
       "      <td>8.482121e+17</td>\n",
       "      <td>4.196984e+09</td>\n",
       "      <td>2017-04-01 16:41:12 +0000</td>\n",
       "      <td>&lt;a href=\"http://twitter.com/download/iphone\" r...</td>\n",
       "      <td>Jerry just apuppologized to me. He said there ...</td>\n",
       "      <td>NaN</td>\n",
       "      <td>NaN</td>\n",
       "      <td>NaN</td>\n",
       "      <td>NaN</td>\n",
       "      <td>11</td>\n",
       "      <td>10</td>\n",
       "      <td>None</td>\n",
       "      <td>None</td>\n",
       "      <td>None</td>\n",
       "      <td>None</td>\n",
       "      <td>None</td>\n",
       "    </tr>\n",
       "    <tr>\n",
       "      <th>234</th>\n",
       "      <td>847617282490613760</td>\n",
       "      <td>8.476062e+17</td>\n",
       "      <td>4.196984e+09</td>\n",
       "      <td>2017-03-31 01:11:22 +0000</td>\n",
       "      <td>&lt;a href=\"http://twitter.com/download/iphone\" r...</td>\n",
       "      <td>.@breaannanicolee PUPDATE: Cannon has a heart ...</td>\n",
       "      <td>NaN</td>\n",
       "      <td>NaN</td>\n",
       "      <td>NaN</td>\n",
       "      <td>NaN</td>\n",
       "      <td>13</td>\n",
       "      <td>10</td>\n",
       "      <td>None</td>\n",
       "      <td>None</td>\n",
       "      <td>None</td>\n",
       "      <td>None</td>\n",
       "      <td>None</td>\n",
       "    </tr>\n",
       "    <tr>\n",
       "      <th>241</th>\n",
       "      <td>846505985330044928</td>\n",
       "      <td>NaN</td>\n",
       "      <td>NaN</td>\n",
       "      <td>2017-03-27 23:35:28 +0000</td>\n",
       "      <td>&lt;a href=\"http://twitter.com/download/iphone\" r...</td>\n",
       "      <td>THIS WAS NOT HIS FAULT HE HAD NO IDEA. 11/10 S...</td>\n",
       "      <td>NaN</td>\n",
       "      <td>NaN</td>\n",
       "      <td>NaN</td>\n",
       "      <td>https://twitter.com/shomaristone/status/846484...</td>\n",
       "      <td>11</td>\n",
       "      <td>10</td>\n",
       "      <td>None</td>\n",
       "      <td>None</td>\n",
       "      <td>None</td>\n",
       "      <td>None</td>\n",
       "      <td>None</td>\n",
       "    </tr>\n",
       "    <tr>\n",
       "      <th>243</th>\n",
       "      <td>846139713627017216</td>\n",
       "      <td>NaN</td>\n",
       "      <td>NaN</td>\n",
       "      <td>2017-03-26 23:20:02 +0000</td>\n",
       "      <td>&lt;a href=\"http://twitter.com/download/iphone\" r...</td>\n",
       "      <td>SHE DID AN ICY ZOOM AND KNEW WHEN TO PUT ON TH...</td>\n",
       "      <td>NaN</td>\n",
       "      <td>NaN</td>\n",
       "      <td>NaN</td>\n",
       "      <td>https://twitter.com/csncapitals/status/8460884...</td>\n",
       "      <td>13</td>\n",
       "      <td>10</td>\n",
       "      <td>None</td>\n",
       "      <td>None</td>\n",
       "      <td>None</td>\n",
       "      <td>None</td>\n",
       "      <td>None</td>\n",
       "    </tr>\n",
       "    <tr>\n",
       "      <th>256</th>\n",
       "      <td>843981021012017153</td>\n",
       "      <td>NaN</td>\n",
       "      <td>NaN</td>\n",
       "      <td>2017-03-21 00:22:10 +0000</td>\n",
       "      <td>&lt;a href=\"http://twitter.com/download/iphone\" r...</td>\n",
       "      <td>HE WAS DOING A SNOOZE NO SHAME IN A SNOOZE 13/...</td>\n",
       "      <td>NaN</td>\n",
       "      <td>NaN</td>\n",
       "      <td>NaN</td>\n",
       "      <td>https://twitter.com/brianstack153/status/79679...</td>\n",
       "      <td>13</td>\n",
       "      <td>10</td>\n",
       "      <td>None</td>\n",
       "      <td>None</td>\n",
       "      <td>None</td>\n",
       "      <td>None</td>\n",
       "      <td>None</td>\n",
       "    </tr>\n",
       "    <tr>\n",
       "      <th>269</th>\n",
       "      <td>841320156043304961</td>\n",
       "      <td>NaN</td>\n",
       "      <td>NaN</td>\n",
       "      <td>2017-03-13 16:08:50 +0000</td>\n",
       "      <td>&lt;a href=\"http://twitter.com/download/iphone\" r...</td>\n",
       "      <td>We don't rate penguins, but if we did, this on...</td>\n",
       "      <td>NaN</td>\n",
       "      <td>NaN</td>\n",
       "      <td>NaN</td>\n",
       "      <td>https://twitter.com/abc/status/841311395547250688</td>\n",
       "      <td>12</td>\n",
       "      <td>10</td>\n",
       "      <td>None</td>\n",
       "      <td>None</td>\n",
       "      <td>None</td>\n",
       "      <td>None</td>\n",
       "      <td>None</td>\n",
       "    </tr>\n",
       "    <tr>\n",
       "      <th>274</th>\n",
       "      <td>840698636975636481</td>\n",
       "      <td>8.406983e+17</td>\n",
       "      <td>8.405479e+17</td>\n",
       "      <td>2017-03-11 22:59:09 +0000</td>\n",
       "      <td>&lt;a href=\"http://twitter.com/download/iphone\" r...</td>\n",
       "      <td>@0_kelvin_0 &amp;gt;10/10 is reserved for puppos s...</td>\n",
       "      <td>NaN</td>\n",
       "      <td>NaN</td>\n",
       "      <td>NaN</td>\n",
       "      <td>NaN</td>\n",
       "      <td>10</td>\n",
       "      <td>10</td>\n",
       "      <td>None</td>\n",
       "      <td>None</td>\n",
       "      <td>None</td>\n",
       "      <td>None</td>\n",
       "      <td>None</td>\n",
       "    </tr>\n",
       "    <tr>\n",
       "      <th>283</th>\n",
       "      <td>838952994649550848</td>\n",
       "      <td>NaN</td>\n",
       "      <td>NaN</td>\n",
       "      <td>2017-03-07 03:22:35 +0000</td>\n",
       "      <td>&lt;a href=\"http://twitter.com/download/iphone\" r...</td>\n",
       "      <td>SHE MISPLACED HER HOOMAN 13/10 MISTAKES HAPPEN...</td>\n",
       "      <td>NaN</td>\n",
       "      <td>NaN</td>\n",
       "      <td>NaN</td>\n",
       "      <td>https://twitter.com/ktla/status/83894871422799...</td>\n",
       "      <td>13</td>\n",
       "      <td>10</td>\n",
       "      <td>None</td>\n",
       "      <td>None</td>\n",
       "      <td>None</td>\n",
       "      <td>None</td>\n",
       "      <td>None</td>\n",
       "    </tr>\n",
       "    <tr>\n",
       "      <th>290</th>\n",
       "      <td>838150277551247360</td>\n",
       "      <td>8.381455e+17</td>\n",
       "      <td>2.195506e+07</td>\n",
       "      <td>2017-03-04 22:12:52 +0000</td>\n",
       "      <td>&lt;a href=\"http://twitter.com/download/iphone\" r...</td>\n",
       "      <td>@markhoppus 182/10</td>\n",
       "      <td>NaN</td>\n",
       "      <td>NaN</td>\n",
       "      <td>NaN</td>\n",
       "      <td>NaN</td>\n",
       "      <td>182</td>\n",
       "      <td>10</td>\n",
       "      <td>None</td>\n",
       "      <td>None</td>\n",
       "      <td>None</td>\n",
       "      <td>None</td>\n",
       "      <td>None</td>\n",
       "    </tr>\n",
       "    <tr>\n",
       "      <th>...</th>\n",
       "      <td>...</td>\n",
       "      <td>...</td>\n",
       "      <td>...</td>\n",
       "      <td>...</td>\n",
       "      <td>...</td>\n",
       "      <td>...</td>\n",
       "      <td>...</td>\n",
       "      <td>...</td>\n",
       "      <td>...</td>\n",
       "      <td>...</td>\n",
       "      <td>...</td>\n",
       "      <td>...</td>\n",
       "      <td>...</td>\n",
       "      <td>...</td>\n",
       "      <td>...</td>\n",
       "      <td>...</td>\n",
       "      <td>...</td>\n",
       "    </tr>\n",
       "    <tr>\n",
       "      <th>1625</th>\n",
       "      <td>684830982659280897</td>\n",
       "      <td>NaN</td>\n",
       "      <td>NaN</td>\n",
       "      <td>2016-01-06 20:16:44 +0000</td>\n",
       "      <td>&lt;a href=\"http://vine.co\" rel=\"nofollow\"&gt;Vine -...</td>\n",
       "      <td>This little fella really hates stairs. Prefers...</td>\n",
       "      <td>NaN</td>\n",
       "      <td>NaN</td>\n",
       "      <td>NaN</td>\n",
       "      <td>https://vine.co/v/eEZXZI1rqxX</td>\n",
       "      <td>13</td>\n",
       "      <td>10</td>\n",
       "      <td>None</td>\n",
       "      <td>None</td>\n",
       "      <td>None</td>\n",
       "      <td>pupper</td>\n",
       "      <td>None</td>\n",
       "    </tr>\n",
       "    <tr>\n",
       "      <th>1628</th>\n",
       "      <td>684588130326986752</td>\n",
       "      <td>NaN</td>\n",
       "      <td>NaN</td>\n",
       "      <td>2016-01-06 04:11:43 +0000</td>\n",
       "      <td>&lt;a href=\"http://vine.co\" rel=\"nofollow\"&gt;Vine -...</td>\n",
       "      <td>This pupper just got his first kiss. 12/10 he'...</td>\n",
       "      <td>NaN</td>\n",
       "      <td>NaN</td>\n",
       "      <td>NaN</td>\n",
       "      <td>https://vine.co/v/ihWIxntjtO7</td>\n",
       "      <td>12</td>\n",
       "      <td>10</td>\n",
       "      <td>None</td>\n",
       "      <td>None</td>\n",
       "      <td>None</td>\n",
       "      <td>pupper</td>\n",
       "      <td>None</td>\n",
       "    </tr>\n",
       "    <tr>\n",
       "      <th>1640</th>\n",
       "      <td>684147889187209216</td>\n",
       "      <td>NaN</td>\n",
       "      <td>NaN</td>\n",
       "      <td>2016-01-04 23:02:22 +0000</td>\n",
       "      <td>&lt;a href=\"http://vine.co\" rel=\"nofollow\"&gt;Vine -...</td>\n",
       "      <td>This is Sweets the English Bulldog. Waves back...</td>\n",
       "      <td>NaN</td>\n",
       "      <td>NaN</td>\n",
       "      <td>NaN</td>\n",
       "      <td>https://vine.co/v/ib2nTOEuuOI</td>\n",
       "      <td>12</td>\n",
       "      <td>10</td>\n",
       "      <td>Sweets</td>\n",
       "      <td>None</td>\n",
       "      <td>None</td>\n",
       "      <td>pupper</td>\n",
       "      <td>None</td>\n",
       "    </tr>\n",
       "    <tr>\n",
       "      <th>1650</th>\n",
       "      <td>683515932363329536</td>\n",
       "      <td>NaN</td>\n",
       "      <td>NaN</td>\n",
       "      <td>2016-01-03 05:11:12 +0000</td>\n",
       "      <td>&lt;a href=\"http://vine.co\" rel=\"nofollow\"&gt;Vine -...</td>\n",
       "      <td>HEY PUP WHAT'S THE PART OF THE HUMAN BODY THAT...</td>\n",
       "      <td>NaN</td>\n",
       "      <td>NaN</td>\n",
       "      <td>NaN</td>\n",
       "      <td>https://vine.co/v/ibvnzrauFuV</td>\n",
       "      <td>11</td>\n",
       "      <td>10</td>\n",
       "      <td>None</td>\n",
       "      <td>None</td>\n",
       "      <td>None</td>\n",
       "      <td>None</td>\n",
       "      <td>None</td>\n",
       "    </tr>\n",
       "    <tr>\n",
       "      <th>1663</th>\n",
       "      <td>682808988178739200</td>\n",
       "      <td>6.827884e+17</td>\n",
       "      <td>4.196984e+09</td>\n",
       "      <td>2016-01-01 06:22:03 +0000</td>\n",
       "      <td>&lt;a href=\"http://twitter.com/download/iphone\" r...</td>\n",
       "      <td>I'm aware that I could've said 20/16, but here...</td>\n",
       "      <td>NaN</td>\n",
       "      <td>NaN</td>\n",
       "      <td>NaN</td>\n",
       "      <td>NaN</td>\n",
       "      <td>20</td>\n",
       "      <td>16</td>\n",
       "      <td>None</td>\n",
       "      <td>None</td>\n",
       "      <td>None</td>\n",
       "      <td>None</td>\n",
       "      <td>None</td>\n",
       "    </tr>\n",
       "    <tr>\n",
       "      <th>1676</th>\n",
       "      <td>682088079302213632</td>\n",
       "      <td>NaN</td>\n",
       "      <td>NaN</td>\n",
       "      <td>2015-12-30 06:37:25 +0000</td>\n",
       "      <td>&lt;a href=\"http://vine.co\" rel=\"nofollow\"&gt;Vine -...</td>\n",
       "      <td>I'm not sure what this dog is doing but it's p...</td>\n",
       "      <td>NaN</td>\n",
       "      <td>NaN</td>\n",
       "      <td>NaN</td>\n",
       "      <td>https://vine.co/v/iqMjlxULzbn</td>\n",
       "      <td>12</td>\n",
       "      <td>10</td>\n",
       "      <td>None</td>\n",
       "      <td>None</td>\n",
       "      <td>None</td>\n",
       "      <td>None</td>\n",
       "      <td>None</td>\n",
       "    </tr>\n",
       "    <tr>\n",
       "      <th>1689</th>\n",
       "      <td>681340665377193984</td>\n",
       "      <td>6.813394e+17</td>\n",
       "      <td>4.196984e+09</td>\n",
       "      <td>2015-12-28 05:07:27 +0000</td>\n",
       "      <td>&lt;a href=\"http://twitter.com/download/iphone\" r...</td>\n",
       "      <td>I've been told there's a slight possibility he...</td>\n",
       "      <td>NaN</td>\n",
       "      <td>NaN</td>\n",
       "      <td>NaN</td>\n",
       "      <td>NaN</td>\n",
       "      <td>5</td>\n",
       "      <td>10</td>\n",
       "      <td>None</td>\n",
       "      <td>None</td>\n",
       "      <td>None</td>\n",
       "      <td>None</td>\n",
       "      <td>None</td>\n",
       "    </tr>\n",
       "    <tr>\n",
       "      <th>1706</th>\n",
       "      <td>680805554198020098</td>\n",
       "      <td>NaN</td>\n",
       "      <td>NaN</td>\n",
       "      <td>2015-12-26 17:41:07 +0000</td>\n",
       "      <td>&lt;a href=\"http://vine.co\" rel=\"nofollow\"&gt;Vine -...</td>\n",
       "      <td>This guy's dog broke. So sad. 9/10 would still...</td>\n",
       "      <td>NaN</td>\n",
       "      <td>NaN</td>\n",
       "      <td>NaN</td>\n",
       "      <td>https://vine.co/v/iAP0Ugzi2PO</td>\n",
       "      <td>9</td>\n",
       "      <td>10</td>\n",
       "      <td>None</td>\n",
       "      <td>None</td>\n",
       "      <td>None</td>\n",
       "      <td>None</td>\n",
       "      <td>None</td>\n",
       "    </tr>\n",
       "    <tr>\n",
       "      <th>1728</th>\n",
       "      <td>679872969355714560</td>\n",
       "      <td>NaN</td>\n",
       "      <td>NaN</td>\n",
       "      <td>2015-12-24 03:55:21 +0000</td>\n",
       "      <td>&lt;a href=\"http://vine.co\" rel=\"nofollow\"&gt;Vine -...</td>\n",
       "      <td>This is Rocco. He's in a very intense game of ...</td>\n",
       "      <td>NaN</td>\n",
       "      <td>NaN</td>\n",
       "      <td>NaN</td>\n",
       "      <td>https://vine.co/v/iAAxTbj1UAM</td>\n",
       "      <td>10</td>\n",
       "      <td>10</td>\n",
       "      <td>Rocco</td>\n",
       "      <td>None</td>\n",
       "      <td>None</td>\n",
       "      <td>None</td>\n",
       "      <td>None</td>\n",
       "    </tr>\n",
       "    <tr>\n",
       "      <th>1743</th>\n",
       "      <td>679405845277462528</td>\n",
       "      <td>NaN</td>\n",
       "      <td>NaN</td>\n",
       "      <td>2015-12-22 20:59:10 +0000</td>\n",
       "      <td>&lt;a href=\"http://vine.co\" rel=\"nofollow\"&gt;Vine -...</td>\n",
       "      <td>Crazy unseen footage from Jurassic Park. 10/10...</td>\n",
       "      <td>NaN</td>\n",
       "      <td>NaN</td>\n",
       "      <td>NaN</td>\n",
       "      <td>https://vine.co/v/iKVFEigMLxP</td>\n",
       "      <td>10</td>\n",
       "      <td>10</td>\n",
       "      <td>None</td>\n",
       "      <td>None</td>\n",
       "      <td>None</td>\n",
       "      <td>None</td>\n",
       "      <td>None</td>\n",
       "    </tr>\n",
       "    <tr>\n",
       "      <th>1750</th>\n",
       "      <td>679001094530465792</td>\n",
       "      <td>NaN</td>\n",
       "      <td>NaN</td>\n",
       "      <td>2015-12-21 18:10:50 +0000</td>\n",
       "      <td>&lt;a href=\"http://vine.co\" rel=\"nofollow\"&gt;Vine -...</td>\n",
       "      <td>This is Rascal. He's paddling an imaginary can...</td>\n",
       "      <td>NaN</td>\n",
       "      <td>NaN</td>\n",
       "      <td>NaN</td>\n",
       "      <td>https://vine.co/v/iKIwAzEatd6</td>\n",
       "      <td>11</td>\n",
       "      <td>10</td>\n",
       "      <td>Rascal</td>\n",
       "      <td>None</td>\n",
       "      <td>None</td>\n",
       "      <td>None</td>\n",
       "      <td>None</td>\n",
       "    </tr>\n",
       "    <tr>\n",
       "      <th>1760</th>\n",
       "      <td>678708137298427904</td>\n",
       "      <td>NaN</td>\n",
       "      <td>NaN</td>\n",
       "      <td>2015-12-20 22:46:44 +0000</td>\n",
       "      <td>&lt;a href=\"http://vine.co\" rel=\"nofollow\"&gt;Vine -...</td>\n",
       "      <td>Here we are witnessing a wild field pupper. Lo...</td>\n",
       "      <td>NaN</td>\n",
       "      <td>NaN</td>\n",
       "      <td>NaN</td>\n",
       "      <td>https://vine.co/v/eQjxxYaQ60K</td>\n",
       "      <td>10</td>\n",
       "      <td>10</td>\n",
       "      <td>None</td>\n",
       "      <td>None</td>\n",
       "      <td>None</td>\n",
       "      <td>pupper</td>\n",
       "      <td>None</td>\n",
       "    </tr>\n",
       "    <tr>\n",
       "      <th>1774</th>\n",
       "      <td>678023323247357953</td>\n",
       "      <td>6.780211e+17</td>\n",
       "      <td>4.196984e+09</td>\n",
       "      <td>2015-12-19 01:25:31 +0000</td>\n",
       "      <td>&lt;a href=\"http://twitter.com/download/iphone\" r...</td>\n",
       "      <td>After getting lost in Reese's eyes for several...</td>\n",
       "      <td>NaN</td>\n",
       "      <td>NaN</td>\n",
       "      <td>NaN</td>\n",
       "      <td>NaN</td>\n",
       "      <td>13</td>\n",
       "      <td>10</td>\n",
       "      <td>None</td>\n",
       "      <td>None</td>\n",
       "      <td>None</td>\n",
       "      <td>None</td>\n",
       "      <td>None</td>\n",
       "    </tr>\n",
       "    <tr>\n",
       "      <th>1776</th>\n",
       "      <td>677961670166224897</td>\n",
       "      <td>NaN</td>\n",
       "      <td>NaN</td>\n",
       "      <td>2015-12-18 21:20:32 +0000</td>\n",
       "      <td>&lt;a href=\"http://vine.co\" rel=\"nofollow\"&gt;Vine -...</td>\n",
       "      <td>This is Izzy. She's showing off the dance move...</td>\n",
       "      <td>NaN</td>\n",
       "      <td>NaN</td>\n",
       "      <td>NaN</td>\n",
       "      <td>https://vine.co/v/iKuMDuYV0aZ</td>\n",
       "      <td>11</td>\n",
       "      <td>10</td>\n",
       "      <td>Izzy</td>\n",
       "      <td>None</td>\n",
       "      <td>None</td>\n",
       "      <td>None</td>\n",
       "      <td>None</td>\n",
       "    </tr>\n",
       "    <tr>\n",
       "      <th>1791</th>\n",
       "      <td>677335745548390400</td>\n",
       "      <td>NaN</td>\n",
       "      <td>NaN</td>\n",
       "      <td>2015-12-17 03:53:20 +0000</td>\n",
       "      <td>&lt;a href=\"http://vine.co\" rel=\"nofollow\"&gt;Vine -...</td>\n",
       "      <td>Downright inspiring 12/10 https://t.co/vSLtYBWHcQ</td>\n",
       "      <td>NaN</td>\n",
       "      <td>NaN</td>\n",
       "      <td>NaN</td>\n",
       "      <td>https://vine.co/v/hbLbH77Ar67</td>\n",
       "      <td>12</td>\n",
       "      <td>10</td>\n",
       "      <td>None</td>\n",
       "      <td>None</td>\n",
       "      <td>None</td>\n",
       "      <td>None</td>\n",
       "      <td>None</td>\n",
       "    </tr>\n",
       "    <tr>\n",
       "      <th>1807</th>\n",
       "      <td>676916996760600576</td>\n",
       "      <td>NaN</td>\n",
       "      <td>NaN</td>\n",
       "      <td>2015-12-16 00:09:23 +0000</td>\n",
       "      <td>&lt;a href=\"http://vine.co\" rel=\"nofollow\"&gt;Vine -...</td>\n",
       "      <td>Super speedy pupper. Does not go gentle into t...</td>\n",
       "      <td>NaN</td>\n",
       "      <td>NaN</td>\n",
       "      <td>NaN</td>\n",
       "      <td>https://vine.co/v/imJ0BdZOJTw</td>\n",
       "      <td>10</td>\n",
       "      <td>10</td>\n",
       "      <td>None</td>\n",
       "      <td>None</td>\n",
       "      <td>None</td>\n",
       "      <td>pupper</td>\n",
       "      <td>None</td>\n",
       "    </tr>\n",
       "    <tr>\n",
       "      <th>1818</th>\n",
       "      <td>676593408224403456</td>\n",
       "      <td>NaN</td>\n",
       "      <td>NaN</td>\n",
       "      <td>2015-12-15 02:43:33 +0000</td>\n",
       "      <td>&lt;a href=\"http://vine.co\" rel=\"nofollow\"&gt;Vine -...</td>\n",
       "      <td>This pupper loves leaves. 11/10 for committed ...</td>\n",
       "      <td>NaN</td>\n",
       "      <td>NaN</td>\n",
       "      <td>NaN</td>\n",
       "      <td>https://vine.co/v/eEQQaPFbgOY</td>\n",
       "      <td>11</td>\n",
       "      <td>10</td>\n",
       "      <td>None</td>\n",
       "      <td>None</td>\n",
       "      <td>None</td>\n",
       "      <td>pupper</td>\n",
       "      <td>None</td>\n",
       "    </tr>\n",
       "    <tr>\n",
       "      <th>1819</th>\n",
       "      <td>676590572941893632</td>\n",
       "      <td>6.765883e+17</td>\n",
       "      <td>4.196984e+09</td>\n",
       "      <td>2015-12-15 02:32:17 +0000</td>\n",
       "      <td>&lt;a href=\"http://twitter.com/download/iphone\" r...</td>\n",
       "      <td>After some outrage from the crowd. Bubbles is ...</td>\n",
       "      <td>NaN</td>\n",
       "      <td>NaN</td>\n",
       "      <td>NaN</td>\n",
       "      <td>NaN</td>\n",
       "      <td>7</td>\n",
       "      <td>10</td>\n",
       "      <td>None</td>\n",
       "      <td>None</td>\n",
       "      <td>None</td>\n",
       "      <td>None</td>\n",
       "      <td>None</td>\n",
       "    </tr>\n",
       "    <tr>\n",
       "      <th>1834</th>\n",
       "      <td>676121918416756736</td>\n",
       "      <td>NaN</td>\n",
       "      <td>NaN</td>\n",
       "      <td>2015-12-13 19:30:01 +0000</td>\n",
       "      <td>&lt;a href=\"http://vine.co\" rel=\"nofollow\"&gt;Vine -...</td>\n",
       "      <td>Here we are witnessing a very excited dog. Cle...</td>\n",
       "      <td>NaN</td>\n",
       "      <td>NaN</td>\n",
       "      <td>NaN</td>\n",
       "      <td>https://vine.co/v/iZXg7VpeDAv</td>\n",
       "      <td>8</td>\n",
       "      <td>10</td>\n",
       "      <td>None</td>\n",
       "      <td>None</td>\n",
       "      <td>None</td>\n",
       "      <td>None</td>\n",
       "      <td>None</td>\n",
       "    </tr>\n",
       "    <tr>\n",
       "      <th>1844</th>\n",
       "      <td>675849018447167488</td>\n",
       "      <td>6.758457e+17</td>\n",
       "      <td>4.196984e+09</td>\n",
       "      <td>2015-12-13 01:25:37 +0000</td>\n",
       "      <td>&lt;a href=\"http://twitter.com/download/iphone\" r...</td>\n",
       "      <td>This dog is being demoted to a 9/10 for not we...</td>\n",
       "      <td>NaN</td>\n",
       "      <td>NaN</td>\n",
       "      <td>NaN</td>\n",
       "      <td>NaN</td>\n",
       "      <td>9</td>\n",
       "      <td>10</td>\n",
       "      <td>None</td>\n",
       "      <td>None</td>\n",
       "      <td>None</td>\n",
       "      <td>None</td>\n",
       "      <td>None</td>\n",
       "    </tr>\n",
       "    <tr>\n",
       "      <th>1895</th>\n",
       "      <td>674742531037511680</td>\n",
       "      <td>6.747400e+17</td>\n",
       "      <td>4.196984e+09</td>\n",
       "      <td>2015-12-10 00:08:50 +0000</td>\n",
       "      <td>&lt;a href=\"http://twitter.com/download/iphone\" r...</td>\n",
       "      <td>Some clarification is required. The dog is sin...</td>\n",
       "      <td>NaN</td>\n",
       "      <td>NaN</td>\n",
       "      <td>NaN</td>\n",
       "      <td>NaN</td>\n",
       "      <td>11</td>\n",
       "      <td>10</td>\n",
       "      <td>None</td>\n",
       "      <td>None</td>\n",
       "      <td>None</td>\n",
       "      <td>None</td>\n",
       "      <td>None</td>\n",
       "    </tr>\n",
       "    <tr>\n",
       "      <th>1905</th>\n",
       "      <td>674606911342424069</td>\n",
       "      <td>6.744689e+17</td>\n",
       "      <td>4.196984e+09</td>\n",
       "      <td>2015-12-09 15:09:55 +0000</td>\n",
       "      <td>&lt;a href=\"http://twitter.com/download/iphone\" r...</td>\n",
       "      <td>The 13/10 also takes into account this impecca...</td>\n",
       "      <td>NaN</td>\n",
       "      <td>NaN</td>\n",
       "      <td>NaN</td>\n",
       "      <td>NaN</td>\n",
       "      <td>13</td>\n",
       "      <td>10</td>\n",
       "      <td>None</td>\n",
       "      <td>None</td>\n",
       "      <td>None</td>\n",
       "      <td>None</td>\n",
       "      <td>None</td>\n",
       "    </tr>\n",
       "    <tr>\n",
       "      <th>1914</th>\n",
       "      <td>674330906434379776</td>\n",
       "      <td>6.658147e+17</td>\n",
       "      <td>1.637468e+07</td>\n",
       "      <td>2015-12-08 20:53:11 +0000</td>\n",
       "      <td>&lt;a href=\"http://twitter.com/download/iphone\" r...</td>\n",
       "      <td>13/10\\n@ABC7</td>\n",
       "      <td>NaN</td>\n",
       "      <td>NaN</td>\n",
       "      <td>NaN</td>\n",
       "      <td>NaN</td>\n",
       "      <td>13</td>\n",
       "      <td>10</td>\n",
       "      <td>None</td>\n",
       "      <td>None</td>\n",
       "      <td>None</td>\n",
       "      <td>None</td>\n",
       "      <td>None</td>\n",
       "    </tr>\n",
       "    <tr>\n",
       "      <th>1916</th>\n",
       "      <td>674307341513269249</td>\n",
       "      <td>NaN</td>\n",
       "      <td>NaN</td>\n",
       "      <td>2015-12-08 19:19:32 +0000</td>\n",
       "      <td>&lt;a href=\"http://vine.co\" rel=\"nofollow\"&gt;Vine -...</td>\n",
       "      <td>This is life-changing. 12/10 https://t.co/SroT...</td>\n",
       "      <td>NaN</td>\n",
       "      <td>NaN</td>\n",
       "      <td>NaN</td>\n",
       "      <td>https://vine.co/v/i7nWzrenw5h</td>\n",
       "      <td>12</td>\n",
       "      <td>10</td>\n",
       "      <td>life</td>\n",
       "      <td>None</td>\n",
       "      <td>None</td>\n",
       "      <td>None</td>\n",
       "      <td>None</td>\n",
       "    </tr>\n",
       "    <tr>\n",
       "      <th>1940</th>\n",
       "      <td>673716320723169284</td>\n",
       "      <td>6.737159e+17</td>\n",
       "      <td>4.196984e+09</td>\n",
       "      <td>2015-12-07 04:11:02 +0000</td>\n",
       "      <td>&lt;a href=\"http://twitter.com/download/iphone\" r...</td>\n",
       "      <td>The millennials have spoken and we've decided ...</td>\n",
       "      <td>NaN</td>\n",
       "      <td>NaN</td>\n",
       "      <td>NaN</td>\n",
       "      <td>NaN</td>\n",
       "      <td>1</td>\n",
       "      <td>10</td>\n",
       "      <td>None</td>\n",
       "      <td>None</td>\n",
       "      <td>None</td>\n",
       "      <td>None</td>\n",
       "      <td>None</td>\n",
       "    </tr>\n",
       "    <tr>\n",
       "      <th>2038</th>\n",
       "      <td>671550332464455680</td>\n",
       "      <td>6.715449e+17</td>\n",
       "      <td>4.196984e+09</td>\n",
       "      <td>2015-12-01 04:44:10 +0000</td>\n",
       "      <td>&lt;a href=\"http://twitter.com/download/iphone\" r...</td>\n",
       "      <td>After 22 minutes of careful deliberation this ...</td>\n",
       "      <td>NaN</td>\n",
       "      <td>NaN</td>\n",
       "      <td>NaN</td>\n",
       "      <td>NaN</td>\n",
       "      <td>1</td>\n",
       "      <td>10</td>\n",
       "      <td>None</td>\n",
       "      <td>None</td>\n",
       "      <td>None</td>\n",
       "      <td>None</td>\n",
       "      <td>None</td>\n",
       "    </tr>\n",
       "    <tr>\n",
       "      <th>2149</th>\n",
       "      <td>669684865554620416</td>\n",
       "      <td>6.693544e+17</td>\n",
       "      <td>4.196984e+09</td>\n",
       "      <td>2015-11-26 01:11:28 +0000</td>\n",
       "      <td>&lt;a href=\"http://twitter.com/download/iphone\" r...</td>\n",
       "      <td>After countless hours of research and hundreds...</td>\n",
       "      <td>NaN</td>\n",
       "      <td>NaN</td>\n",
       "      <td>NaN</td>\n",
       "      <td>NaN</td>\n",
       "      <td>11</td>\n",
       "      <td>10</td>\n",
       "      <td>None</td>\n",
       "      <td>None</td>\n",
       "      <td>None</td>\n",
       "      <td>None</td>\n",
       "      <td>None</td>\n",
       "    </tr>\n",
       "    <tr>\n",
       "      <th>2189</th>\n",
       "      <td>668967877119254528</td>\n",
       "      <td>6.689207e+17</td>\n",
       "      <td>2.143566e+07</td>\n",
       "      <td>2015-11-24 01:42:25 +0000</td>\n",
       "      <td>&lt;a href=\"http://twitter.com/download/iphone\" r...</td>\n",
       "      <td>12/10 good shit Bubka\\n@wane15</td>\n",
       "      <td>NaN</td>\n",
       "      <td>NaN</td>\n",
       "      <td>NaN</td>\n",
       "      <td>NaN</td>\n",
       "      <td>12</td>\n",
       "      <td>10</td>\n",
       "      <td>None</td>\n",
       "      <td>None</td>\n",
       "      <td>None</td>\n",
       "      <td>None</td>\n",
       "      <td>None</td>\n",
       "    </tr>\n",
       "    <tr>\n",
       "      <th>2212</th>\n",
       "      <td>668587383441514497</td>\n",
       "      <td>NaN</td>\n",
       "      <td>NaN</td>\n",
       "      <td>2015-11-23 00:30:28 +0000</td>\n",
       "      <td>&lt;a href=\"http://vine.co\" rel=\"nofollow\"&gt;Vine -...</td>\n",
       "      <td>Never forget this vine. You will not stop watc...</td>\n",
       "      <td>NaN</td>\n",
       "      <td>NaN</td>\n",
       "      <td>NaN</td>\n",
       "      <td>https://vine.co/v/ea0OwvPTx9l</td>\n",
       "      <td>13</td>\n",
       "      <td>10</td>\n",
       "      <td>the</td>\n",
       "      <td>None</td>\n",
       "      <td>None</td>\n",
       "      <td>None</td>\n",
       "      <td>None</td>\n",
       "    </tr>\n",
       "    <tr>\n",
       "      <th>2298</th>\n",
       "      <td>667070482143944705</td>\n",
       "      <td>6.670655e+17</td>\n",
       "      <td>4.196984e+09</td>\n",
       "      <td>2015-11-18 20:02:51 +0000</td>\n",
       "      <td>&lt;a href=\"http://twitter.com/download/iphone\" r...</td>\n",
       "      <td>After much debate this dog is being upgraded t...</td>\n",
       "      <td>NaN</td>\n",
       "      <td>NaN</td>\n",
       "      <td>NaN</td>\n",
       "      <td>NaN</td>\n",
       "      <td>10</td>\n",
       "      <td>10</td>\n",
       "      <td>None</td>\n",
       "      <td>None</td>\n",
       "      <td>None</td>\n",
       "      <td>None</td>\n",
       "      <td>None</td>\n",
       "    </tr>\n",
       "  </tbody>\n",
       "</table>\n",
       "<p>197 rows × 17 columns</p>\n",
       "</div>"
      ],
      "text/plain": [
       "                tweet_id  in_reply_to_status_id  in_reply_to_user_id  \\\n",
       "30    886267009285017600           8.862664e+17         2.281182e+09   \n",
       "32    886054160059072513                    NaN                  NaN   \n",
       "35    885518971528720385                    NaN                  NaN   \n",
       "42    884247878851493888                    NaN                  NaN   \n",
       "55    881633300179243008           8.816070e+17         4.738443e+07   \n",
       "64    879674319642796034           8.795538e+17         3.105441e+09   \n",
       "72    878604707211726852                    NaN                  NaN   \n",
       "83    876537666061221889                    NaN                  NaN   \n",
       "88    875097192612077568                    NaN                  NaN   \n",
       "110   871102520638267392                    NaN                  NaN   \n",
       "113   870726314365509632           8.707262e+17         1.648776e+07   \n",
       "133   866720684873056260                    NaN                  NaN   \n",
       "148   863427515083354112           8.634256e+17         7.759620e+07   \n",
       "179   857214891891077121           8.571567e+17         1.806710e+08   \n",
       "185   856330835276025856                    NaN                  NaN   \n",
       "186   856288084350160898           8.562860e+17         2.792810e+08   \n",
       "188   855862651834028034           8.558616e+17         1.943518e+08   \n",
       "189   855860136149123072           8.558585e+17         1.361572e+07   \n",
       "190   855857698524602368                    NaN                  NaN   \n",
       "192   855818117272018944                    NaN                  NaN   \n",
       "218   850333567704068097           8.503288e+17         2.195506e+07   \n",
       "228   848213670039564288           8.482121e+17         4.196984e+09   \n",
       "234   847617282490613760           8.476062e+17         4.196984e+09   \n",
       "241   846505985330044928                    NaN                  NaN   \n",
       "243   846139713627017216                    NaN                  NaN   \n",
       "256   843981021012017153                    NaN                  NaN   \n",
       "269   841320156043304961                    NaN                  NaN   \n",
       "274   840698636975636481           8.406983e+17         8.405479e+17   \n",
       "283   838952994649550848                    NaN                  NaN   \n",
       "290   838150277551247360           8.381455e+17         2.195506e+07   \n",
       "...                  ...                    ...                  ...   \n",
       "1625  684830982659280897                    NaN                  NaN   \n",
       "1628  684588130326986752                    NaN                  NaN   \n",
       "1640  684147889187209216                    NaN                  NaN   \n",
       "1650  683515932363329536                    NaN                  NaN   \n",
       "1663  682808988178739200           6.827884e+17         4.196984e+09   \n",
       "1676  682088079302213632                    NaN                  NaN   \n",
       "1689  681340665377193984           6.813394e+17         4.196984e+09   \n",
       "1706  680805554198020098                    NaN                  NaN   \n",
       "1728  679872969355714560                    NaN                  NaN   \n",
       "1743  679405845277462528                    NaN                  NaN   \n",
       "1750  679001094530465792                    NaN                  NaN   \n",
       "1760  678708137298427904                    NaN                  NaN   \n",
       "1774  678023323247357953           6.780211e+17         4.196984e+09   \n",
       "1776  677961670166224897                    NaN                  NaN   \n",
       "1791  677335745548390400                    NaN                  NaN   \n",
       "1807  676916996760600576                    NaN                  NaN   \n",
       "1818  676593408224403456                    NaN                  NaN   \n",
       "1819  676590572941893632           6.765883e+17         4.196984e+09   \n",
       "1834  676121918416756736                    NaN                  NaN   \n",
       "1844  675849018447167488           6.758457e+17         4.196984e+09   \n",
       "1895  674742531037511680           6.747400e+17         4.196984e+09   \n",
       "1905  674606911342424069           6.744689e+17         4.196984e+09   \n",
       "1914  674330906434379776           6.658147e+17         1.637468e+07   \n",
       "1916  674307341513269249                    NaN                  NaN   \n",
       "1940  673716320723169284           6.737159e+17         4.196984e+09   \n",
       "2038  671550332464455680           6.715449e+17         4.196984e+09   \n",
       "2149  669684865554620416           6.693544e+17         4.196984e+09   \n",
       "2189  668967877119254528           6.689207e+17         2.143566e+07   \n",
       "2212  668587383441514497                    NaN                  NaN   \n",
       "2298  667070482143944705           6.670655e+17         4.196984e+09   \n",
       "\n",
       "                      timestamp  \\\n",
       "30    2017-07-15 16:51:35 +0000   \n",
       "32    2017-07-15 02:45:48 +0000   \n",
       "35    2017-07-13 15:19:09 +0000   \n",
       "42    2017-07-10 03:08:17 +0000   \n",
       "55    2017-07-02 21:58:53 +0000   \n",
       "64    2017-06-27 12:14:36 +0000   \n",
       "72    2017-06-24 13:24:20 +0000   \n",
       "83    2017-06-18 20:30:39 +0000   \n",
       "88    2017-06-14 21:06:43 +0000   \n",
       "110   2017-06-03 20:33:19 +0000   \n",
       "113   2017-06-02 19:38:25 +0000   \n",
       "133   2017-05-22 18:21:28 +0000   \n",
       "148   2017-05-13 16:15:35 +0000   \n",
       "179   2017-04-26 12:48:51 +0000   \n",
       "185   2017-04-24 02:15:55 +0000   \n",
       "186   2017-04-23 23:26:03 +0000   \n",
       "188   2017-04-22 19:15:32 +0000   \n",
       "189   2017-04-22 19:05:32 +0000   \n",
       "190   2017-04-22 18:55:51 +0000   \n",
       "192   2017-04-22 16:18:34 +0000   \n",
       "218   2017-04-07 13:04:55 +0000   \n",
       "228   2017-04-01 16:41:12 +0000   \n",
       "234   2017-03-31 01:11:22 +0000   \n",
       "241   2017-03-27 23:35:28 +0000   \n",
       "243   2017-03-26 23:20:02 +0000   \n",
       "256   2017-03-21 00:22:10 +0000   \n",
       "269   2017-03-13 16:08:50 +0000   \n",
       "274   2017-03-11 22:59:09 +0000   \n",
       "283   2017-03-07 03:22:35 +0000   \n",
       "290   2017-03-04 22:12:52 +0000   \n",
       "...                         ...   \n",
       "1625  2016-01-06 20:16:44 +0000   \n",
       "1628  2016-01-06 04:11:43 +0000   \n",
       "1640  2016-01-04 23:02:22 +0000   \n",
       "1650  2016-01-03 05:11:12 +0000   \n",
       "1663  2016-01-01 06:22:03 +0000   \n",
       "1676  2015-12-30 06:37:25 +0000   \n",
       "1689  2015-12-28 05:07:27 +0000   \n",
       "1706  2015-12-26 17:41:07 +0000   \n",
       "1728  2015-12-24 03:55:21 +0000   \n",
       "1743  2015-12-22 20:59:10 +0000   \n",
       "1750  2015-12-21 18:10:50 +0000   \n",
       "1760  2015-12-20 22:46:44 +0000   \n",
       "1774  2015-12-19 01:25:31 +0000   \n",
       "1776  2015-12-18 21:20:32 +0000   \n",
       "1791  2015-12-17 03:53:20 +0000   \n",
       "1807  2015-12-16 00:09:23 +0000   \n",
       "1818  2015-12-15 02:43:33 +0000   \n",
       "1819  2015-12-15 02:32:17 +0000   \n",
       "1834  2015-12-13 19:30:01 +0000   \n",
       "1844  2015-12-13 01:25:37 +0000   \n",
       "1895  2015-12-10 00:08:50 +0000   \n",
       "1905  2015-12-09 15:09:55 +0000   \n",
       "1914  2015-12-08 20:53:11 +0000   \n",
       "1916  2015-12-08 19:19:32 +0000   \n",
       "1940  2015-12-07 04:11:02 +0000   \n",
       "2038  2015-12-01 04:44:10 +0000   \n",
       "2149  2015-11-26 01:11:28 +0000   \n",
       "2189  2015-11-24 01:42:25 +0000   \n",
       "2212  2015-11-23 00:30:28 +0000   \n",
       "2298  2015-11-18 20:02:51 +0000   \n",
       "\n",
       "                                                 source  \\\n",
       "30    <a href=\"http://twitter.com/download/iphone\" r...   \n",
       "32    <a href=\"http://twitter.com/download/iphone\" r...   \n",
       "35    <a href=\"http://twitter.com/download/iphone\" r...   \n",
       "42    <a href=\"http://twitter.com/download/iphone\" r...   \n",
       "55    <a href=\"http://twitter.com/download/iphone\" r...   \n",
       "64    <a href=\"http://twitter.com/download/iphone\" r...   \n",
       "72    <a href=\"http://twitter.com/download/iphone\" r...   \n",
       "83    <a href=\"http://twitter.com/download/iphone\" r...   \n",
       "88    <a href=\"http://twitter.com/download/iphone\" r...   \n",
       "110   <a href=\"http://twitter.com/download/iphone\" r...   \n",
       "113   <a href=\"http://twitter.com/download/iphone\" r...   \n",
       "133   <a href=\"http://twitter.com/download/iphone\" r...   \n",
       "148   <a href=\"http://twitter.com/download/iphone\" r...   \n",
       "179   <a href=\"http://twitter.com/download/iphone\" r...   \n",
       "185   <a href=\"http://twitter.com/download/iphone\" r...   \n",
       "186   <a href=\"http://twitter.com/download/iphone\" r...   \n",
       "188   <a href=\"http://twitter.com/download/iphone\" r...   \n",
       "189   <a href=\"http://twitter.com/download/iphone\" r...   \n",
       "190   <a href=\"http://twitter.com/download/iphone\" r...   \n",
       "192   <a href=\"http://twitter.com/download/iphone\" r...   \n",
       "218   <a href=\"http://twitter.com/download/iphone\" r...   \n",
       "228   <a href=\"http://twitter.com/download/iphone\" r...   \n",
       "234   <a href=\"http://twitter.com/download/iphone\" r...   \n",
       "241   <a href=\"http://twitter.com/download/iphone\" r...   \n",
       "243   <a href=\"http://twitter.com/download/iphone\" r...   \n",
       "256   <a href=\"http://twitter.com/download/iphone\" r...   \n",
       "269   <a href=\"http://twitter.com/download/iphone\" r...   \n",
       "274   <a href=\"http://twitter.com/download/iphone\" r...   \n",
       "283   <a href=\"http://twitter.com/download/iphone\" r...   \n",
       "290   <a href=\"http://twitter.com/download/iphone\" r...   \n",
       "...                                                 ...   \n",
       "1625  <a href=\"http://vine.co\" rel=\"nofollow\">Vine -...   \n",
       "1628  <a href=\"http://vine.co\" rel=\"nofollow\">Vine -...   \n",
       "1640  <a href=\"http://vine.co\" rel=\"nofollow\">Vine -...   \n",
       "1650  <a href=\"http://vine.co\" rel=\"nofollow\">Vine -...   \n",
       "1663  <a href=\"http://twitter.com/download/iphone\" r...   \n",
       "1676  <a href=\"http://vine.co\" rel=\"nofollow\">Vine -...   \n",
       "1689  <a href=\"http://twitter.com/download/iphone\" r...   \n",
       "1706  <a href=\"http://vine.co\" rel=\"nofollow\">Vine -...   \n",
       "1728  <a href=\"http://vine.co\" rel=\"nofollow\">Vine -...   \n",
       "1743  <a href=\"http://vine.co\" rel=\"nofollow\">Vine -...   \n",
       "1750  <a href=\"http://vine.co\" rel=\"nofollow\">Vine -...   \n",
       "1760  <a href=\"http://vine.co\" rel=\"nofollow\">Vine -...   \n",
       "1774  <a href=\"http://twitter.com/download/iphone\" r...   \n",
       "1776  <a href=\"http://vine.co\" rel=\"nofollow\">Vine -...   \n",
       "1791  <a href=\"http://vine.co\" rel=\"nofollow\">Vine -...   \n",
       "1807  <a href=\"http://vine.co\" rel=\"nofollow\">Vine -...   \n",
       "1818  <a href=\"http://vine.co\" rel=\"nofollow\">Vine -...   \n",
       "1819  <a href=\"http://twitter.com/download/iphone\" r...   \n",
       "1834  <a href=\"http://vine.co\" rel=\"nofollow\">Vine -...   \n",
       "1844  <a href=\"http://twitter.com/download/iphone\" r...   \n",
       "1895  <a href=\"http://twitter.com/download/iphone\" r...   \n",
       "1905  <a href=\"http://twitter.com/download/iphone\" r...   \n",
       "1914  <a href=\"http://twitter.com/download/iphone\" r...   \n",
       "1916  <a href=\"http://vine.co\" rel=\"nofollow\">Vine -...   \n",
       "1940  <a href=\"http://twitter.com/download/iphone\" r...   \n",
       "2038  <a href=\"http://twitter.com/download/iphone\" r...   \n",
       "2149  <a href=\"http://twitter.com/download/iphone\" r...   \n",
       "2189  <a href=\"http://twitter.com/download/iphone\" r...   \n",
       "2212  <a href=\"http://vine.co\" rel=\"nofollow\">Vine -...   \n",
       "2298  <a href=\"http://twitter.com/download/iphone\" r...   \n",
       "\n",
       "                                                   text  retweeted_status_id  \\\n",
       "30    @NonWhiteHat @MayhewMayhem omg hello tanner yo...                  NaN   \n",
       "32    RT @Athletics: 12/10 #BATP https://t.co/WxwJmv...         8.860537e+17   \n",
       "35    I have a new hero and his name is Howard. 14/1...                  NaN   \n",
       "42    OMG HE DIDN'T MEAN TO HE WAS JUST TRYING A LIT...                  NaN   \n",
       "55    @roushfenway These are good dogs but 17/10 is ...                  NaN   \n",
       "64                      @RealKentMurphy 14/10 confirmed                  NaN   \n",
       "72    Martha is stunning how h*ckin dare you. 13/10 ...                  NaN   \n",
       "83    I can say with the pupmost confidence that the...                  NaN   \n",
       "88    You'll get your package when that precious man...                  NaN   \n",
       "110   Never doubt a doggo 14/10 https://t.co/AbBLh2FZCH                  NaN   \n",
       "113   @ComplicitOwl @ShopWeRateDogs &gt;10/10 is res...                  NaN   \n",
       "133   He was providing for his family 13/10 how dare...                  NaN   \n",
       "148   @Jack_Septic_Eye I'd need a few more pics to p...                  NaN   \n",
       "179                        @Marc_IRL pixelated af 12/10                  NaN   \n",
       "185   RT @Jenna_Marbles: @dog_rates Thanks for ratin...         8.563302e+17   \n",
       "186   @xianmcguire @Jenna_Marbles Kardashians wouldn...                  NaN   \n",
       "188   @dhmontgomery We also gave snoop dogg a 420/10...                  NaN   \n",
       "189   @s8n You tried very hard to portray this good ...                  NaN   \n",
       "190   HE'S LIKE \"WAIT A MINUTE I'M AN ANIMAL THIS IS...                  NaN   \n",
       "192   I HEARD HE TIED HIS OWN BOWTIE MARK AND HE JUS...                  NaN   \n",
       "218   @markhoppus MARK THAT DOG HAS SEEN AND EXPERIE...                  NaN   \n",
       "228   Jerry just apuppologized to me. He said there ...                  NaN   \n",
       "234   .@breaannanicolee PUPDATE: Cannon has a heart ...                  NaN   \n",
       "241   THIS WAS NOT HIS FAULT HE HAD NO IDEA. 11/10 S...                  NaN   \n",
       "243   SHE DID AN ICY ZOOM AND KNEW WHEN TO PUT ON TH...                  NaN   \n",
       "256   HE WAS DOING A SNOOZE NO SHAME IN A SNOOZE 13/...                  NaN   \n",
       "269   We don't rate penguins, but if we did, this on...                  NaN   \n",
       "274   @0_kelvin_0 &gt;10/10 is reserved for puppos s...                  NaN   \n",
       "283   SHE MISPLACED HER HOOMAN 13/10 MISTAKES HAPPEN...                  NaN   \n",
       "290                                  @markhoppus 182/10                  NaN   \n",
       "...                                                 ...                  ...   \n",
       "1625  This little fella really hates stairs. Prefers...                  NaN   \n",
       "1628  This pupper just got his first kiss. 12/10 he'...                  NaN   \n",
       "1640  This is Sweets the English Bulldog. Waves back...                  NaN   \n",
       "1650  HEY PUP WHAT'S THE PART OF THE HUMAN BODY THAT...                  NaN   \n",
       "1663  I'm aware that I could've said 20/16, but here...                  NaN   \n",
       "1676  I'm not sure what this dog is doing but it's p...                  NaN   \n",
       "1689  I've been told there's a slight possibility he...                  NaN   \n",
       "1706  This guy's dog broke. So sad. 9/10 would still...                  NaN   \n",
       "1728  This is Rocco. He's in a very intense game of ...                  NaN   \n",
       "1743  Crazy unseen footage from Jurassic Park. 10/10...                  NaN   \n",
       "1750  This is Rascal. He's paddling an imaginary can...                  NaN   \n",
       "1760  Here we are witnessing a wild field pupper. Lo...                  NaN   \n",
       "1774  After getting lost in Reese's eyes for several...                  NaN   \n",
       "1776  This is Izzy. She's showing off the dance move...                  NaN   \n",
       "1791  Downright inspiring 12/10 https://t.co/vSLtYBWHcQ                  NaN   \n",
       "1807  Super speedy pupper. Does not go gentle into t...                  NaN   \n",
       "1818  This pupper loves leaves. 11/10 for committed ...                  NaN   \n",
       "1819  After some outrage from the crowd. Bubbles is ...                  NaN   \n",
       "1834  Here we are witnessing a very excited dog. Cle...                  NaN   \n",
       "1844  This dog is being demoted to a 9/10 for not we...                  NaN   \n",
       "1895  Some clarification is required. The dog is sin...                  NaN   \n",
       "1905  The 13/10 also takes into account this impecca...                  NaN   \n",
       "1914                                       13/10\\n@ABC7                  NaN   \n",
       "1916  This is life-changing. 12/10 https://t.co/SroT...                  NaN   \n",
       "1940  The millennials have spoken and we've decided ...                  NaN   \n",
       "2038  After 22 minutes of careful deliberation this ...                  NaN   \n",
       "2149  After countless hours of research and hundreds...                  NaN   \n",
       "2189                     12/10 good shit Bubka\\n@wane15                  NaN   \n",
       "2212  Never forget this vine. You will not stop watc...                  NaN   \n",
       "2298  After much debate this dog is being upgraded t...                  NaN   \n",
       "\n",
       "      retweeted_status_user_id retweeted_status_timestamp  \\\n",
       "30                         NaN                        NaN   \n",
       "32                  19607400.0  2017-07-15 02:44:07 +0000   \n",
       "35                         NaN                        NaN   \n",
       "42                         NaN                        NaN   \n",
       "55                         NaN                        NaN   \n",
       "64                         NaN                        NaN   \n",
       "72                         NaN                        NaN   \n",
       "83                         NaN                        NaN   \n",
       "88                         NaN                        NaN   \n",
       "110                        NaN                        NaN   \n",
       "113                        NaN                        NaN   \n",
       "133                        NaN                        NaN   \n",
       "148                        NaN                        NaN   \n",
       "179                        NaN                        NaN   \n",
       "185                 66699013.0  2017-04-24 02:13:14 +0000   \n",
       "186                        NaN                        NaN   \n",
       "188                        NaN                        NaN   \n",
       "189                        NaN                        NaN   \n",
       "190                        NaN                        NaN   \n",
       "192                        NaN                        NaN   \n",
       "218                        NaN                        NaN   \n",
       "228                        NaN                        NaN   \n",
       "234                        NaN                        NaN   \n",
       "241                        NaN                        NaN   \n",
       "243                        NaN                        NaN   \n",
       "256                        NaN                        NaN   \n",
       "269                        NaN                        NaN   \n",
       "274                        NaN                        NaN   \n",
       "283                        NaN                        NaN   \n",
       "290                        NaN                        NaN   \n",
       "...                        ...                        ...   \n",
       "1625                       NaN                        NaN   \n",
       "1628                       NaN                        NaN   \n",
       "1640                       NaN                        NaN   \n",
       "1650                       NaN                        NaN   \n",
       "1663                       NaN                        NaN   \n",
       "1676                       NaN                        NaN   \n",
       "1689                       NaN                        NaN   \n",
       "1706                       NaN                        NaN   \n",
       "1728                       NaN                        NaN   \n",
       "1743                       NaN                        NaN   \n",
       "1750                       NaN                        NaN   \n",
       "1760                       NaN                        NaN   \n",
       "1774                       NaN                        NaN   \n",
       "1776                       NaN                        NaN   \n",
       "1791                       NaN                        NaN   \n",
       "1807                       NaN                        NaN   \n",
       "1818                       NaN                        NaN   \n",
       "1819                       NaN                        NaN   \n",
       "1834                       NaN                        NaN   \n",
       "1844                       NaN                        NaN   \n",
       "1895                       NaN                        NaN   \n",
       "1905                       NaN                        NaN   \n",
       "1914                       NaN                        NaN   \n",
       "1916                       NaN                        NaN   \n",
       "1940                       NaN                        NaN   \n",
       "2038                       NaN                        NaN   \n",
       "2149                       NaN                        NaN   \n",
       "2189                       NaN                        NaN   \n",
       "2212                       NaN                        NaN   \n",
       "2298                       NaN                        NaN   \n",
       "\n",
       "                                          expanded_urls  rating_numerator  \\\n",
       "30                                                  NaN                12   \n",
       "32    https://twitter.com/dog_rates/status/886053434...                12   \n",
       "35    https://twitter.com/4bonds2carbon/status/88551...                14   \n",
       "42    https://twitter.com/kaijohnson_19/status/88396...                13   \n",
       "55                                                  NaN                17   \n",
       "64                                                  NaN                14   \n",
       "72    https://twitter.com/bbcworld/status/8785998685...                13   \n",
       "83    https://twitter.com/mpstowerham/status/8761629...                14   \n",
       "88    https://twitter.com/drboondoc/status/874413398...                13   \n",
       "110   https://twitter.com/animalcog/status/871075758...                14   \n",
       "113                                                 NaN                10   \n",
       "133   https://twitter.com/nbcnews/status/86645871888...                13   \n",
       "148                                                 NaN                12   \n",
       "179                                                 NaN                12   \n",
       "185                                                 NaN                14   \n",
       "186                                                 NaN                14   \n",
       "188                                                 NaN               420   \n",
       "189                                                 NaN               666   \n",
       "190   https://twitter.com/perfy/status/8558573181681...                13   \n",
       "192   https://twitter.com/markhalperin/status/855656...                13   \n",
       "218                                                 NaN                13   \n",
       "228                                                 NaN                11   \n",
       "234                                                 NaN                13   \n",
       "241   https://twitter.com/shomaristone/status/846484...                11   \n",
       "243   https://twitter.com/csncapitals/status/8460884...                13   \n",
       "256   https://twitter.com/brianstack153/status/79679...                13   \n",
       "269   https://twitter.com/abc/status/841311395547250688                12   \n",
       "274                                                 NaN                10   \n",
       "283   https://twitter.com/ktla/status/83894871422799...                13   \n",
       "290                                                 NaN               182   \n",
       "...                                                 ...               ...   \n",
       "1625                      https://vine.co/v/eEZXZI1rqxX                13   \n",
       "1628                      https://vine.co/v/ihWIxntjtO7                12   \n",
       "1640                      https://vine.co/v/ib2nTOEuuOI                12   \n",
       "1650                      https://vine.co/v/ibvnzrauFuV                11   \n",
       "1663                                                NaN                20   \n",
       "1676                      https://vine.co/v/iqMjlxULzbn                12   \n",
       "1689                                                NaN                 5   \n",
       "1706                      https://vine.co/v/iAP0Ugzi2PO                 9   \n",
       "1728                      https://vine.co/v/iAAxTbj1UAM                10   \n",
       "1743                      https://vine.co/v/iKVFEigMLxP                10   \n",
       "1750                      https://vine.co/v/iKIwAzEatd6                11   \n",
       "1760                      https://vine.co/v/eQjxxYaQ60K                10   \n",
       "1774                                                NaN                13   \n",
       "1776                      https://vine.co/v/iKuMDuYV0aZ                11   \n",
       "1791                      https://vine.co/v/hbLbH77Ar67                12   \n",
       "1807                      https://vine.co/v/imJ0BdZOJTw                10   \n",
       "1818                      https://vine.co/v/eEQQaPFbgOY                11   \n",
       "1819                                                NaN                 7   \n",
       "1834                      https://vine.co/v/iZXg7VpeDAv                 8   \n",
       "1844                                                NaN                 9   \n",
       "1895                                                NaN                11   \n",
       "1905                                                NaN                13   \n",
       "1914                                                NaN                13   \n",
       "1916                      https://vine.co/v/i7nWzrenw5h                12   \n",
       "1940                                                NaN                 1   \n",
       "2038                                                NaN                 1   \n",
       "2149                                                NaN                11   \n",
       "2189                                                NaN                12   \n",
       "2212                      https://vine.co/v/ea0OwvPTx9l                13   \n",
       "2298                                                NaN                10   \n",
       "\n",
       "      rating_denominator    name  doggo floofer  pupper puppo  \n",
       "30                    10    None   None    None    None  None  \n",
       "32                    10    None   None    None    None  None  \n",
       "35                    10    None   None    None    None  None  \n",
       "42                    10    None   None    None    None  None  \n",
       "55                    10    None   None    None    None  None  \n",
       "64                    10    None   None    None    None  None  \n",
       "72                    10    None   None    None    None  None  \n",
       "83                    10    None   None    None    None  None  \n",
       "88                    10    None   None    None    None  None  \n",
       "110                   10    None  doggo    None    None  None  \n",
       "113                   10    None   None    None    None  None  \n",
       "133                   10    None   None    None    None  None  \n",
       "148                   10    None   None    None    None  None  \n",
       "179                   10    None   None    None    None  None  \n",
       "185                   10    None   None    None    None  None  \n",
       "186                   10    None   None    None    None  None  \n",
       "188                   10    None   None    None    None  None  \n",
       "189                   10    None   None    None    None  None  \n",
       "190                   10    None   None    None    None  None  \n",
       "192                   10    None   None    None    None  None  \n",
       "218                   10    None   None    None    None  None  \n",
       "228                   10    None   None    None    None  None  \n",
       "234                   10    None   None    None    None  None  \n",
       "241                   10    None   None    None    None  None  \n",
       "243                   10    None   None    None    None  None  \n",
       "256                   10    None   None    None    None  None  \n",
       "269                   10    None   None    None    None  None  \n",
       "274                   10    None   None    None    None  None  \n",
       "283                   10    None   None    None    None  None  \n",
       "290                   10    None   None    None    None  None  \n",
       "...                  ...     ...    ...     ...     ...   ...  \n",
       "1625                  10    None   None    None  pupper  None  \n",
       "1628                  10    None   None    None  pupper  None  \n",
       "1640                  10  Sweets   None    None  pupper  None  \n",
       "1650                  10    None   None    None    None  None  \n",
       "1663                  16    None   None    None    None  None  \n",
       "1676                  10    None   None    None    None  None  \n",
       "1689                  10    None   None    None    None  None  \n",
       "1706                  10    None   None    None    None  None  \n",
       "1728                  10   Rocco   None    None    None  None  \n",
       "1743                  10    None   None    None    None  None  \n",
       "1750                  10  Rascal   None    None    None  None  \n",
       "1760                  10    None   None    None  pupper  None  \n",
       "1774                  10    None   None    None    None  None  \n",
       "1776                  10    Izzy   None    None    None  None  \n",
       "1791                  10    None   None    None    None  None  \n",
       "1807                  10    None   None    None  pupper  None  \n",
       "1818                  10    None   None    None  pupper  None  \n",
       "1819                  10    None   None    None    None  None  \n",
       "1834                  10    None   None    None    None  None  \n",
       "1844                  10    None   None    None    None  None  \n",
       "1895                  10    None   None    None    None  None  \n",
       "1905                  10    None   None    None    None  None  \n",
       "1914                  10    None   None    None    None  None  \n",
       "1916                  10    life   None    None    None  None  \n",
       "1940                  10    None   None    None    None  None  \n",
       "2038                  10    None   None    None    None  None  \n",
       "2149                  10    None   None    None    None  None  \n",
       "2189                  10    None   None    None    None  None  \n",
       "2212                  10     the   None    None    None  None  \n",
       "2298                  10    None   None    None    None  None  \n",
       "\n",
       "[197 rows x 17 columns]"
      ]
     },
     "execution_count": 19,
     "metadata": {},
     "output_type": "execute_result"
    }
   ],
   "source": [
    "# Visual attempt to identify patterns in 'expanded_urls' other than urls ending in 'video' or 'photo'\n",
    "dfratedogs[~dfratedogs['expanded_urls'].str[-7:-2].isin(['photo', 'video'])]"
   ]
  },
  {
   "cell_type": "markdown",
   "metadata": {},
   "source": [
    "* QUALITY Beyond 'video' and 'photo': 3 other types identified (vines, external twitter posts, external posts). Out of these the external posts do not apply to a dog rating, but instead relates to a article. "
   ]
  },
  {
   "cell_type": "code",
   "execution_count": 20,
   "metadata": {},
   "outputs": [
    {
     "data": {
      "text/plain": [
       "30     @NonWhiteHat @MayhewMayhem omg hello tanner you are a scary good boy 12/10 would pet with extreme caution                             \n",
       "55     @roushfenway These are good dogs but 17/10 is an emotional impulse rating. More like 13/10s                                           \n",
       "64     @RealKentMurphy 14/10 confirmed                                                                                                       \n",
       "113    @ComplicitOwl @ShopWeRateDogs &gt;10/10 is reserved for dogs                                                                          \n",
       "148    @Jack_Septic_Eye I'd need a few more pics to polish a full analysis, but based on the good boy content above I'm leaning towards 12/10\n",
       "Name: text, dtype: object"
      ]
     },
     "execution_count": 20,
     "metadata": {},
     "output_type": "execute_result"
    }
   ],
   "source": [
    "pd.set_option('display.max_colwidth', -1)\n",
    "# Expanded URLs seem to be null for retweets, and should be removed in earler steps. \n",
    "## There is a possiblity that some null values might still exist\n",
    "dfratedogs[dfratedogs.expanded_urls.isnull()]['text'].head()"
   ]
  },
  {
   "cell_type": "code",
   "execution_count": 21,
   "metadata": {},
   "outputs": [
    {
     "data": {
      "text/html": [
       "<div>\n",
       "<style>\n",
       "    .dataframe thead tr:only-child th {\n",
       "        text-align: right;\n",
       "    }\n",
       "\n",
       "    .dataframe thead th {\n",
       "        text-align: left;\n",
       "    }\n",
       "\n",
       "    .dataframe tbody tr th {\n",
       "        vertical-align: top;\n",
       "    }\n",
       "</style>\n",
       "<table border=\"1\" class=\"dataframe\">\n",
       "  <thead>\n",
       "    <tr style=\"text-align: right;\">\n",
       "      <th></th>\n",
       "      <th>tweet_id</th>\n",
       "      <th>in_reply_to_status_id</th>\n",
       "      <th>in_reply_to_user_id</th>\n",
       "      <th>timestamp</th>\n",
       "      <th>source</th>\n",
       "      <th>text</th>\n",
       "      <th>retweeted_status_id</th>\n",
       "      <th>retweeted_status_user_id</th>\n",
       "      <th>retweeted_status_timestamp</th>\n",
       "      <th>expanded_urls</th>\n",
       "      <th>rating_numerator</th>\n",
       "      <th>rating_denominator</th>\n",
       "      <th>name</th>\n",
       "      <th>doggo</th>\n",
       "      <th>floofer</th>\n",
       "      <th>pupper</th>\n",
       "      <th>puppo</th>\n",
       "    </tr>\n",
       "  </thead>\n",
       "  <tbody>\n",
       "    <tr>\n",
       "      <th>375</th>\n",
       "      <td>828361771580813312</td>\n",
       "      <td>NaN</td>\n",
       "      <td>NaN</td>\n",
       "      <td>2017-02-05 21:56:51 +0000</td>\n",
       "      <td>&lt;a href=\"http://twitter.com\" rel=\"nofollow\"&gt;Tw...</td>\n",
       "      <td>Beebop and Doobert should start a band 12/10 w...</td>\n",
       "      <td>NaN</td>\n",
       "      <td>NaN</td>\n",
       "      <td>NaN</td>\n",
       "      <td>NaN</td>\n",
       "      <td>12</td>\n",
       "      <td>10</td>\n",
       "      <td>None</td>\n",
       "      <td>None</td>\n",
       "      <td>None</td>\n",
       "      <td>None</td>\n",
       "      <td>None</td>\n",
       "    </tr>\n",
       "    <tr>\n",
       "      <th>707</th>\n",
       "      <td>785515384317313025</td>\n",
       "      <td>NaN</td>\n",
       "      <td>NaN</td>\n",
       "      <td>2016-10-10 16:20:36 +0000</td>\n",
       "      <td>&lt;a href=\"http://twitter.com/download/iphone\" r...</td>\n",
       "      <td>Today, 10/10, should be National Dog Rates Day</td>\n",
       "      <td>NaN</td>\n",
       "      <td>NaN</td>\n",
       "      <td>NaN</td>\n",
       "      <td>NaN</td>\n",
       "      <td>10</td>\n",
       "      <td>10</td>\n",
       "      <td>None</td>\n",
       "      <td>None</td>\n",
       "      <td>None</td>\n",
       "      <td>None</td>\n",
       "      <td>None</td>\n",
       "    </tr>\n",
       "    <tr>\n",
       "      <th>1445</th>\n",
       "      <td>696518437233913856</td>\n",
       "      <td>NaN</td>\n",
       "      <td>NaN</td>\n",
       "      <td>2016-02-08 02:18:30 +0000</td>\n",
       "      <td>&lt;a href=\"http://twitter.com/download/iphone\" r...</td>\n",
       "      <td>Oh my god 10/10 for every little hot dog pupper</td>\n",
       "      <td>NaN</td>\n",
       "      <td>NaN</td>\n",
       "      <td>NaN</td>\n",
       "      <td>NaN</td>\n",
       "      <td>10</td>\n",
       "      <td>10</td>\n",
       "      <td>None</td>\n",
       "      <td>None</td>\n",
       "      <td>None</td>\n",
       "      <td>pupper</td>\n",
       "      <td>None</td>\n",
       "    </tr>\n",
       "  </tbody>\n",
       "</table>\n",
       "</div>"
      ],
      "text/plain": [
       "                tweet_id  in_reply_to_status_id  in_reply_to_user_id  \\\n",
       "375   828361771580813312                    NaN                  NaN   \n",
       "707   785515384317313025                    NaN                  NaN   \n",
       "1445  696518437233913856                    NaN                  NaN   \n",
       "\n",
       "                      timestamp  \\\n",
       "375   2017-02-05 21:56:51 +0000   \n",
       "707   2016-10-10 16:20:36 +0000   \n",
       "1445  2016-02-08 02:18:30 +0000   \n",
       "\n",
       "                                                 source  \\\n",
       "375   <a href=\"http://twitter.com\" rel=\"nofollow\">Tw...   \n",
       "707   <a href=\"http://twitter.com/download/iphone\" r...   \n",
       "1445  <a href=\"http://twitter.com/download/iphone\" r...   \n",
       "\n",
       "                                                   text  retweeted_status_id  \\\n",
       "375   Beebop and Doobert should start a band 12/10 w...                  NaN   \n",
       "707      Today, 10/10, should be National Dog Rates Day                  NaN   \n",
       "1445    Oh my god 10/10 for every little hot dog pupper                  NaN   \n",
       "\n",
       "      retweeted_status_user_id retweeted_status_timestamp expanded_urls  \\\n",
       "375                        NaN                        NaN           NaN   \n",
       "707                        NaN                        NaN           NaN   \n",
       "1445                       NaN                        NaN           NaN   \n",
       "\n",
       "      rating_numerator  rating_denominator  name doggo floofer  pupper puppo  \n",
       "375                 12                  10  None  None    None    None  None  \n",
       "707                 10                  10  None  None    None    None  None  \n",
       "1445                10                  10  None  None    None  pupper  None  "
      ]
     },
     "execution_count": 21,
     "metadata": {},
     "output_type": "execute_result"
    }
   ],
   "source": [
    "#rest column width\n",
    "pd.set_option('display.max_colwidth', 50)\n",
    "# Some exceptions for null Expanded urls with no explanation\n",
    "# For .query() use trick value != value to query Null values\n",
    "dfratedogs.query('(expanded_urls != expanded_urls) & (in_reply_to_status_id != in_reply_to_status_id) & (retweeted_status_id != retweeted_status_id)')"
   ]
  },
  {
   "cell_type": "markdown",
   "metadata": {},
   "source": [
    "* QUALITY: further posts identifed as either 'reply/retweet posts' and 'non dog rated' posts whereever 'expanded_urls' is NULL"
   ]
  },
  {
   "cell_type": "code",
   "execution_count": 22,
   "metadata": {},
   "outputs": [
    {
     "data": {
      "text/plain": [
       "745"
      ]
     },
     "execution_count": 22,
     "metadata": {},
     "output_type": "execute_result"
    }
   ],
   "source": [
    "#Many names that are 'None'\n",
    "len(dfratedogs[dfratedogs.name == 'None']['text'])"
   ]
  },
  {
   "cell_type": "markdown",
   "metadata": {},
   "source": [
    "* QUALITY: Remove 'name' column as it is not necessary for analysis. Even more reason with so many 'None' values"
   ]
  },
  {
   "cell_type": "code",
   "execution_count": 23,
   "metadata": {},
   "outputs": [
    {
     "data": {
      "text/plain": [
       "10     2333\n",
       "11        3\n",
       "50        3\n",
       "80        2\n",
       "20        2\n",
       "2         1\n",
       "16        1\n",
       "40        1\n",
       "70        1\n",
       "15        1\n",
       "90        1\n",
       "110       1\n",
       "120       1\n",
       "130       1\n",
       "150       1\n",
       "170       1\n",
       "7         1\n",
       "0         1\n",
       "Name: rating_denominator, dtype: int64"
      ]
     },
     "execution_count": 23,
     "metadata": {},
     "output_type": "execute_result"
    }
   ],
   "source": [
    "#Rating denominator should only be 10, however we see other values\n",
    "dfratedogs.rating_denominator.value_counts()"
   ]
  },
  {
   "cell_type": "code",
   "execution_count": 24,
   "metadata": {},
   "outputs": [
    {
     "data": {
      "text/plain": [
       "'text index 5, numerator index 10, denominator index 11'"
      ]
     },
     "execution_count": 24,
     "metadata": {},
     "output_type": "execute_result"
    }
   ],
   "source": [
    "# to display the fields like a SQL select statement we need index values for 'text', 'numerator' and 'denominator'\n",
    "# query to find index values\n",
    "'text index {0}, numerator index {1}, denominator index {2}'.format(dfratedogs.columns.get_loc(\"text\"), dfratedogs.columns.get_loc(\"rating_numerator\"), dfratedogs.columns.get_loc(\"rating_denominator\"))"
   ]
  },
  {
   "cell_type": "code",
   "execution_count": 25,
   "metadata": {},
   "outputs": [
    {
     "data": {
      "text/html": [
       "<div>\n",
       "<style>\n",
       "    .dataframe thead tr:only-child th {\n",
       "        text-align: right;\n",
       "    }\n",
       "\n",
       "    .dataframe thead th {\n",
       "        text-align: left;\n",
       "    }\n",
       "\n",
       "    .dataframe tbody tr th {\n",
       "        vertical-align: top;\n",
       "    }\n",
       "</style>\n",
       "<table border=\"1\" class=\"dataframe\">\n",
       "  <thead>\n",
       "    <tr style=\"text-align: right;\">\n",
       "      <th></th>\n",
       "      <th>text</th>\n",
       "      <th>rating_numerator</th>\n",
       "      <th>rating_denominator</th>\n",
       "    </tr>\n",
       "  </thead>\n",
       "  <tbody>\n",
       "    <tr>\n",
       "      <th>313</th>\n",
       "      <td>@jonnysun @Lin_Manuel ok jomny I know you're excited but 960/00 isn't a valid rating, 13/10 is tho</td>\n",
       "      <td>960</td>\n",
       "      <td>0</td>\n",
       "    </tr>\n",
       "    <tr>\n",
       "      <th>342</th>\n",
       "      <td>@docmisterio account started on 11/15/15</td>\n",
       "      <td>11</td>\n",
       "      <td>15</td>\n",
       "    </tr>\n",
       "    <tr>\n",
       "      <th>433</th>\n",
       "      <td>The floofs have been released I repeat the floofs have been released. 84/70 https://t.co/NIYC820tmd</td>\n",
       "      <td>84</td>\n",
       "      <td>70</td>\n",
       "    </tr>\n",
       "    <tr>\n",
       "      <th>516</th>\n",
       "      <td>Meet Sam. She smiles 24/7 &amp;amp; secretly aspires to be a reindeer. \\nKeep Sam smiling by clicking and sharing this link:\\nhttps://t.co/98tB8y7y7t https://t.co/LouL5vdvxx</td>\n",
       "      <td>24</td>\n",
       "      <td>7</td>\n",
       "    </tr>\n",
       "    <tr>\n",
       "      <th>784</th>\n",
       "      <td>RT @dog_rates: After so many requests, this is Bretagne. She was the last surviving 9/11 search dog, and our second ever 14/10. RIP https:/…</td>\n",
       "      <td>9</td>\n",
       "      <td>11</td>\n",
       "    </tr>\n",
       "    <tr>\n",
       "      <th>902</th>\n",
       "      <td>Why does this never happen at my front door... 165/150 https://t.co/HmwrdfEfUE</td>\n",
       "      <td>165</td>\n",
       "      <td>150</td>\n",
       "    </tr>\n",
       "    <tr>\n",
       "      <th>1068</th>\n",
       "      <td>After so many requests, this is Bretagne. She was the last surviving 9/11 search dog, and our second ever 14/10. RIP https://t.co/XAVDNDaVgQ</td>\n",
       "      <td>9</td>\n",
       "      <td>11</td>\n",
       "    </tr>\n",
       "    <tr>\n",
       "      <th>1120</th>\n",
       "      <td>Say hello to this unbelievably well behaved squad of doggos. 204/170 would try to pet all at once https://t.co/yGQI3He3xv</td>\n",
       "      <td>204</td>\n",
       "      <td>170</td>\n",
       "    </tr>\n",
       "    <tr>\n",
       "      <th>1165</th>\n",
       "      <td>Happy 4/20 from the squad! 13/10 for all https://t.co/eV1diwds8a</td>\n",
       "      <td>4</td>\n",
       "      <td>20</td>\n",
       "    </tr>\n",
       "    <tr>\n",
       "      <th>1202</th>\n",
       "      <td>This is Bluebert. He just saw that both #FinalFur match ups are split 50/50. Amazed af. 11/10 https://t.co/Kky1DPG4iq</td>\n",
       "      <td>50</td>\n",
       "      <td>50</td>\n",
       "    </tr>\n",
       "    <tr>\n",
       "      <th>1228</th>\n",
       "      <td>Happy Saturday here's 9 puppers on a bench. 99/90 good work everybody https://t.co/mpvaVxKmc1</td>\n",
       "      <td>99</td>\n",
       "      <td>90</td>\n",
       "    </tr>\n",
       "    <tr>\n",
       "      <th>1254</th>\n",
       "      <td>Here's a brigade of puppers. All look very prepared for whatever happens next. 80/80 https://t.co/0eb7R1Om12</td>\n",
       "      <td>80</td>\n",
       "      <td>80</td>\n",
       "    </tr>\n",
       "    <tr>\n",
       "      <th>1274</th>\n",
       "      <td>From left to right:\\nCletus, Jerome, Alejandro, Burp, &amp;amp; Titson\\nNone know where camera is. 45/50 would hug all at once https://t.co/sedre1ivTK</td>\n",
       "      <td>45</td>\n",
       "      <td>50</td>\n",
       "    </tr>\n",
       "    <tr>\n",
       "      <th>1351</th>\n",
       "      <td>Here is a whole flock of puppers.  60/50 I'll take the lot https://t.co/9dpcw6MdWa</td>\n",
       "      <td>60</td>\n",
       "      <td>50</td>\n",
       "    </tr>\n",
       "    <tr>\n",
       "      <th>1433</th>\n",
       "      <td>Happy Wednesday here's a bucket of pups. 44/40 would pet all at once https://t.co/HppvrYuamZ</td>\n",
       "      <td>44</td>\n",
       "      <td>40</td>\n",
       "    </tr>\n",
       "    <tr>\n",
       "      <th>1598</th>\n",
       "      <td>Yes I do realize a rating of 4/20 would've been fitting. However, it would be unjust to give these cooperative pups that low of a rating</td>\n",
       "      <td>4</td>\n",
       "      <td>20</td>\n",
       "    </tr>\n",
       "    <tr>\n",
       "      <th>1634</th>\n",
       "      <td>Two sneaky puppers were not initially seen, moving the rating to 143/130. Please forgive us. Thank you https://t.co/kRK51Y5ac3</td>\n",
       "      <td>143</td>\n",
       "      <td>130</td>\n",
       "    </tr>\n",
       "    <tr>\n",
       "      <th>1635</th>\n",
       "      <td>Someone help the girl is being mugged. Several are distracting her while two steal her shoes. Clever puppers 121/110 https://t.co/1zfnTJLt55</td>\n",
       "      <td>121</td>\n",
       "      <td>110</td>\n",
       "    </tr>\n",
       "    <tr>\n",
       "      <th>1662</th>\n",
       "      <td>This is Darrel. He just robbed a 7/11 and is in a high speed police chase. Was just spotted by the helicopter 10/10 https://t.co/7EsP8LmSp5</td>\n",
       "      <td>7</td>\n",
       "      <td>11</td>\n",
       "    </tr>\n",
       "    <tr>\n",
       "      <th>1663</th>\n",
       "      <td>I'm aware that I could've said 20/16, but here at WeRateDogs we are very professional. An inconsistent rating scale is simply irresponsible</td>\n",
       "      <td>20</td>\n",
       "      <td>16</td>\n",
       "    </tr>\n",
       "    <tr>\n",
       "      <th>1779</th>\n",
       "      <td>IT'S PUPPERGEDDON. Total of 144/120 ...I think https://t.co/ZanVtAtvIq</td>\n",
       "      <td>144</td>\n",
       "      <td>120</td>\n",
       "    </tr>\n",
       "    <tr>\n",
       "      <th>1843</th>\n",
       "      <td>Here we have an entire platoon of puppers. Total score: 88/80 would pet all at once https://t.co/y93p6FLvVw</td>\n",
       "      <td>88</td>\n",
       "      <td>80</td>\n",
       "    </tr>\n",
       "    <tr>\n",
       "      <th>2335</th>\n",
       "      <td>This is an Albanian 3 1/2 legged  Episcopalian. Loves well-polished hardwood flooring. Penis on the collar. 9/10 https://t.co/d9NcXFKwLv</td>\n",
       "      <td>1</td>\n",
       "      <td>2</td>\n",
       "    </tr>\n",
       "  </tbody>\n",
       "</table>\n",
       "</div>"
      ],
      "text/plain": [
       "                                                                                                                                                                           text  \\\n",
       "313   @jonnysun @Lin_Manuel ok jomny I know you're excited but 960/00 isn't a valid rating, 13/10 is tho                                                                          \n",
       "342   @docmisterio account started on 11/15/15                                                                                                                                    \n",
       "433   The floofs have been released I repeat the floofs have been released. 84/70 https://t.co/NIYC820tmd                                                                         \n",
       "516   Meet Sam. She smiles 24/7 &amp; secretly aspires to be a reindeer. \\nKeep Sam smiling by clicking and sharing this link:\\nhttps://t.co/98tB8y7y7t https://t.co/LouL5vdvxx   \n",
       "784   RT @dog_rates: After so many requests, this is Bretagne. She was the last surviving 9/11 search dog, and our second ever 14/10. RIP https:/…                                \n",
       "902   Why does this never happen at my front door... 165/150 https://t.co/HmwrdfEfUE                                                                                              \n",
       "1068  After so many requests, this is Bretagne. She was the last surviving 9/11 search dog, and our second ever 14/10. RIP https://t.co/XAVDNDaVgQ                                \n",
       "1120  Say hello to this unbelievably well behaved squad of doggos. 204/170 would try to pet all at once https://t.co/yGQI3He3xv                                                   \n",
       "1165  Happy 4/20 from the squad! 13/10 for all https://t.co/eV1diwds8a                                                                                                            \n",
       "1202  This is Bluebert. He just saw that both #FinalFur match ups are split 50/50. Amazed af. 11/10 https://t.co/Kky1DPG4iq                                                       \n",
       "1228  Happy Saturday here's 9 puppers on a bench. 99/90 good work everybody https://t.co/mpvaVxKmc1                                                                               \n",
       "1254  Here's a brigade of puppers. All look very prepared for whatever happens next. 80/80 https://t.co/0eb7R1Om12                                                                \n",
       "1274  From left to right:\\nCletus, Jerome, Alejandro, Burp, &amp; Titson\\nNone know where camera is. 45/50 would hug all at once https://t.co/sedre1ivTK                          \n",
       "1351  Here is a whole flock of puppers.  60/50 I'll take the lot https://t.co/9dpcw6MdWa                                                                                          \n",
       "1433  Happy Wednesday here's a bucket of pups. 44/40 would pet all at once https://t.co/HppvrYuamZ                                                                                \n",
       "1598  Yes I do realize a rating of 4/20 would've been fitting. However, it would be unjust to give these cooperative pups that low of a rating                                    \n",
       "1634  Two sneaky puppers were not initially seen, moving the rating to 143/130. Please forgive us. Thank you https://t.co/kRK51Y5ac3                                              \n",
       "1635  Someone help the girl is being mugged. Several are distracting her while two steal her shoes. Clever puppers 121/110 https://t.co/1zfnTJLt55                                \n",
       "1662  This is Darrel. He just robbed a 7/11 and is in a high speed police chase. Was just spotted by the helicopter 10/10 https://t.co/7EsP8LmSp5                                 \n",
       "1663  I'm aware that I could've said 20/16, but here at WeRateDogs we are very professional. An inconsistent rating scale is simply irresponsible                                 \n",
       "1779  IT'S PUPPERGEDDON. Total of 144/120 ...I think https://t.co/ZanVtAtvIq                                                                                                      \n",
       "1843  Here we have an entire platoon of puppers. Total score: 88/80 would pet all at once https://t.co/y93p6FLvVw                                                                 \n",
       "2335  This is an Albanian 3 1/2 legged  Episcopalian. Loves well-polished hardwood flooring. Penis on the collar. 9/10 https://t.co/d9NcXFKwLv                                    \n",
       "\n",
       "      rating_numerator  rating_denominator  \n",
       "313   960               0                   \n",
       "342   11                15                  \n",
       "433   84                70                  \n",
       "516   24                7                   \n",
       "784   9                 11                  \n",
       "902   165               150                 \n",
       "1068  9                 11                  \n",
       "1120  204               170                 \n",
       "1165  4                 20                  \n",
       "1202  50                50                  \n",
       "1228  99                90                  \n",
       "1254  80                80                  \n",
       "1274  45                50                  \n",
       "1351  60                50                  \n",
       "1433  44                40                  \n",
       "1598  4                 20                  \n",
       "1634  143               130                 \n",
       "1635  121               110                 \n",
       "1662  7                 11                  \n",
       "1663  20                16                  \n",
       "1779  144               120                 \n",
       "1843  88                80                  \n",
       "2335  1                 2                   "
      ]
     },
     "execution_count": 25,
     "metadata": {},
     "output_type": "execute_result"
    }
   ],
   "source": [
    "#adjust column width so text can be viewed\n",
    "pd.set_option('display.max_colwidth', -1)\n",
    "#use index from above to create array \n",
    "column_array = np.r_[5,10,11]\n",
    "# query all values were denominator value is not equal to  10\n",
    "dfratedogs.iloc[:, column_array].query('rating_denominator != 10')"
   ]
  },
  {
   "cell_type": "markdown",
   "metadata": {},
   "source": [
    "* QUALITY: Various Ratings denominator inconsistencies putting value above 10"
   ]
  },
  {
   "cell_type": "code",
   "execution_count": 26,
   "metadata": {},
   "outputs": [
    {
     "data": {
      "text/plain": [
       "188     @dhmontgomery We also gave snoop dogg a 420/10 but I think that predated your research                                                                                   \n",
       "189     @s8n You tried very hard to portray this good boy as not so good, but you have ultimately failed. His goodness shines through. 666/10                                    \n",
       "290     @markhoppus 182/10                                                                                                                                                       \n",
       "313     @jonnysun @Lin_Manuel ok jomny I know you're excited but 960/00 isn't a valid rating, 13/10 is tho                                                                       \n",
       "340     RT @dog_rates: This is Logan, the Chow who lived. He solemnly swears he's up to lots of good. H*ckin magical af 9.75/10 https://t.co/yBO5wu…                             \n",
       "516     Meet Sam. She smiles 24/7 &amp; secretly aspires to be a reindeer. \\nKeep Sam smiling by clicking and sharing this link:\\nhttps://t.co/98tB8y7y7t https://t.co/LouL5vdvxx\n",
       "695     This is Logan, the Chow who lived. He solemnly swears he's up to lots of good. H*ckin magical af 9.75/10 https://t.co/yBO5wuqaPS                                         \n",
       "763     This is Sophie. She's a Jubilant Bush Pupper. Super h*ckin rare. Appears at random just to smile at the locals. 11.27/10 would smile back https://t.co/QFaUiIHxHq        \n",
       "979     This is Atticus. He's quite simply America af. 1776/10 https://t.co/GRXwMxLBkh                                                                                           \n",
       "1712    Here we have uncovered an entire battalion of holiday puppers. Average of 11.26/10 https://t.co/eNm2S6p9BD                                                               \n",
       "2074    After so many requests... here you go.\\n\\nGood dogg. 420/10 https://t.co/yfAAo1gdeY                                                                                      \n",
       "Name: text, dtype: object"
      ]
     },
     "execution_count": 26,
     "metadata": {},
     "output_type": "execute_result"
    }
   ],
   "source": [
    "# widen column width to view 'text'\n",
    "pd.set_option('display.max_colwidth', -1)\n",
    "dfratedogs.query('(rating_numerator > 20) & (rating_denominator <20)')['text']"
   ]
  },
  {
   "cell_type": "code",
   "execution_count": 27,
   "metadata": {},
   "outputs": [],
   "source": [
    "#reset colwidth\n",
    "pd.set_option('display.max_colwidth', 50)"
   ]
  },
  {
   "cell_type": "markdown",
   "metadata": {},
   "source": [
    "* QUALITY: Various numerator ratings inconsistencies putting rating above 14\n",
    "* TIDINESS: Ratings separated into two separate denominator and numerator column\n"
   ]
  },
  {
   "cell_type": "code",
   "execution_count": 28,
   "metadata": {},
   "outputs": [
    {
     "data": {
      "text/plain": [
       "'Number of times value in text column mismatches with dog stages: doggo=10, floofer=0, pupper=24, puppo=8'"
      ]
     },
     "execution_count": 28,
     "metadata": {},
     "output_type": "execute_result"
    }
   ],
   "source": [
    "# Assessing validitiy of the different dog stages compared to text field\n",
    "'Number of times value in text column mismatches with dog stages: doggo={0}, floofer={1}, pupper={2}, puppo={3}'.format(len(dfratedogs[(dfratedogs.doggo!='doggo') & dfratedogs.text.str.contains('doggo')]),len(dfratedogs[(dfratedogs.floofer!='floofer') & dfratedogs.text.str.contains('floofer')]),len(dfratedogs[(dfratedogs.pupper!='pupper') & dfratedogs.text.str.contains('pupper')]),len(dfratedogs[(dfratedogs.puppo!='puppo') & dfratedogs.text.str.contains('puppo')]))"
   ]
  },
  {
   "cell_type": "markdown",
   "metadata": {},
   "source": [
    "* QUALITY: Inconsistency in the dog stage values, where confirmation of value received from 'text' field"
   ]
  },
  {
   "cell_type": "markdown",
   "metadata": {},
   "source": [
    "#### Dataframe 2 - Dog breed data \n",
    "Data received from a image prediction file that can classify breeds of dogs while also providing the confidence of that prediction"
   ]
  },
  {
   "cell_type": "code",
   "execution_count": 29,
   "metadata": {},
   "outputs": [
    {
     "data": {
      "text/html": [
       "<div>\n",
       "<style>\n",
       "    .dataframe thead tr:only-child th {\n",
       "        text-align: right;\n",
       "    }\n",
       "\n",
       "    .dataframe thead th {\n",
       "        text-align: left;\n",
       "    }\n",
       "\n",
       "    .dataframe tbody tr th {\n",
       "        vertical-align: top;\n",
       "    }\n",
       "</style>\n",
       "<table border=\"1\" class=\"dataframe\">\n",
       "  <thead>\n",
       "    <tr style=\"text-align: right;\">\n",
       "      <th></th>\n",
       "      <th>tweet_id</th>\n",
       "      <th>jpg_url</th>\n",
       "      <th>img_num</th>\n",
       "      <th>p1</th>\n",
       "      <th>p1_conf</th>\n",
       "      <th>p1_dog</th>\n",
       "      <th>p2</th>\n",
       "      <th>p2_conf</th>\n",
       "      <th>p2_dog</th>\n",
       "      <th>p3</th>\n",
       "      <th>p3_conf</th>\n",
       "      <th>p3_dog</th>\n",
       "    </tr>\n",
       "  </thead>\n",
       "  <tbody>\n",
       "    <tr>\n",
       "      <th>0</th>\n",
       "      <td>666020888022790149</td>\n",
       "      <td>https://pbs.twimg.com/media/CT4udn0WwAA0aMy.jpg</td>\n",
       "      <td>1</td>\n",
       "      <td>Welsh_springer_spaniel</td>\n",
       "      <td>0.465074</td>\n",
       "      <td>True</td>\n",
       "      <td>collie</td>\n",
       "      <td>0.156665</td>\n",
       "      <td>True</td>\n",
       "      <td>Shetland_sheepdog</td>\n",
       "      <td>0.061428</td>\n",
       "      <td>True</td>\n",
       "    </tr>\n",
       "    <tr>\n",
       "      <th>1</th>\n",
       "      <td>666029285002620928</td>\n",
       "      <td>https://pbs.twimg.com/media/CT42GRgUYAA5iDo.jpg</td>\n",
       "      <td>1</td>\n",
       "      <td>redbone</td>\n",
       "      <td>0.506826</td>\n",
       "      <td>True</td>\n",
       "      <td>miniature_pinscher</td>\n",
       "      <td>0.074192</td>\n",
       "      <td>True</td>\n",
       "      <td>Rhodesian_ridgeback</td>\n",
       "      <td>0.072010</td>\n",
       "      <td>True</td>\n",
       "    </tr>\n",
       "  </tbody>\n",
       "</table>\n",
       "</div>"
      ],
      "text/plain": [
       "             tweet_id                                          jpg_url  \\\n",
       "0  666020888022790149  https://pbs.twimg.com/media/CT4udn0WwAA0aMy.jpg   \n",
       "1  666029285002620928  https://pbs.twimg.com/media/CT42GRgUYAA5iDo.jpg   \n",
       "\n",
       "   img_num                      p1   p1_conf  p1_dog                  p2  \\\n",
       "0        1  Welsh_springer_spaniel  0.465074    True              collie   \n",
       "1        1                 redbone  0.506826    True  miniature_pinscher   \n",
       "\n",
       "    p2_conf  p2_dog                   p3   p3_conf  p3_dog  \n",
       "0  0.156665    True    Shetland_sheepdog  0.061428    True  \n",
       "1  0.074192    True  Rhodesian_ridgeback  0.072010    True  "
      ]
     },
     "execution_count": 29,
     "metadata": {},
     "output_type": "execute_result"
    }
   ],
   "source": [
    "dfbreed.head(2)"
   ]
  },
  {
   "cell_type": "code",
   "execution_count": 30,
   "metadata": {},
   "outputs": [
    {
     "name": "stdout",
     "output_type": "stream",
     "text": [
      "<class 'pandas.core.frame.DataFrame'>\n",
      "RangeIndex: 2075 entries, 0 to 2074\n",
      "Data columns (total 12 columns):\n",
      "tweet_id    2075 non-null int64\n",
      "jpg_url     2075 non-null object\n",
      "img_num     2075 non-null int64\n",
      "p1          2075 non-null object\n",
      "p1_conf     2075 non-null float64\n",
      "p1_dog      2075 non-null bool\n",
      "p2          2075 non-null object\n",
      "p2_conf     2075 non-null float64\n",
      "p2_dog      2075 non-null bool\n",
      "p3          2075 non-null object\n",
      "p3_conf     2075 non-null float64\n",
      "p3_dog      2075 non-null bool\n",
      "dtypes: bool(3), float64(3), int64(2), object(4)\n",
      "memory usage: 152.1+ KB\n"
     ]
    }
   ],
   "source": [
    "dfbreed.info()"
   ]
  },
  {
   "cell_type": "code",
   "execution_count": 31,
   "metadata": {},
   "outputs": [
    {
     "data": {
      "text/html": [
       "<div>\n",
       "<style>\n",
       "    .dataframe thead tr:only-child th {\n",
       "        text-align: right;\n",
       "    }\n",
       "\n",
       "    .dataframe thead th {\n",
       "        text-align: left;\n",
       "    }\n",
       "\n",
       "    .dataframe tbody tr th {\n",
       "        vertical-align: top;\n",
       "    }\n",
       "</style>\n",
       "<table border=\"1\" class=\"dataframe\">\n",
       "  <thead>\n",
       "    <tr style=\"text-align: right;\">\n",
       "      <th></th>\n",
       "      <th>tweet_id</th>\n",
       "      <th>jpg_url</th>\n",
       "      <th>img_num</th>\n",
       "      <th>p1</th>\n",
       "      <th>p1_conf</th>\n",
       "      <th>p1_dog</th>\n",
       "      <th>p2</th>\n",
       "      <th>p2_conf</th>\n",
       "      <th>p2_dog</th>\n",
       "      <th>p3</th>\n",
       "      <th>p3_conf</th>\n",
       "      <th>p3_dog</th>\n",
       "    </tr>\n",
       "  </thead>\n",
       "  <tbody>\n",
       "  </tbody>\n",
       "</table>\n",
       "</div>"
      ],
      "text/plain": [
       "Empty DataFrame\n",
       "Columns: [tweet_id, jpg_url, img_num, p1, p1_conf, p1_dog, p2, p2_conf, p2_dog, p3, p3_conf, p3_dog]\n",
       "Index: []"
      ]
     },
     "execution_count": 31,
     "metadata": {},
     "output_type": "execute_result"
    }
   ],
   "source": [
    "# Important to check uniqueness as the data from these tables will be used for join\n",
    "dfbreed[dfbreed.duplicated()]"
   ]
  },
  {
   "cell_type": "code",
   "execution_count": 32,
   "metadata": {},
   "outputs": [
    {
     "data": {
      "text/plain": [
       "count    2075.000000\n",
       "mean        0.594548\n",
       "std         0.271174\n",
       "min         0.044333\n",
       "25%         0.364412\n",
       "50%         0.588230\n",
       "75%         0.843855\n",
       "max         1.000000\n",
       "Name: p1_conf, dtype: float64"
      ]
     },
     "execution_count": 32,
     "metadata": {},
     "output_type": "execute_result"
    }
   ],
   "source": [
    "dfbreed.p1_conf.describe()"
   ]
  },
  {
   "cell_type": "code",
   "execution_count": 33,
   "metadata": {},
   "outputs": [
    {
     "data": {
      "text/plain": [
       "1532"
      ]
     },
     "execution_count": 33,
     "metadata": {},
     "output_type": "execute_result"
    }
   ],
   "source": [
    "# Number that evaluated to True on Prediction 1\n",
    "len(dfbreed[dfbreed.p1_dog == True])"
   ]
  },
  {
   "cell_type": "code",
   "execution_count": 34,
   "metadata": {},
   "outputs": [
    {
     "data": {
      "text/html": [
       "<div>\n",
       "<style>\n",
       "    .dataframe thead tr:only-child th {\n",
       "        text-align: right;\n",
       "    }\n",
       "\n",
       "    .dataframe thead th {\n",
       "        text-align: left;\n",
       "    }\n",
       "\n",
       "    .dataframe tbody tr th {\n",
       "        vertical-align: top;\n",
       "    }\n",
       "</style>\n",
       "<table border=\"1\" class=\"dataframe\">\n",
       "  <thead>\n",
       "    <tr style=\"text-align: right;\">\n",
       "      <th></th>\n",
       "      <th>tweet_id</th>\n",
       "      <th>jpg_url</th>\n",
       "      <th>img_num</th>\n",
       "      <th>p1</th>\n",
       "      <th>p1_conf</th>\n",
       "      <th>p1_dog</th>\n",
       "      <th>p2</th>\n",
       "      <th>p2_conf</th>\n",
       "      <th>p2_dog</th>\n",
       "      <th>p3</th>\n",
       "      <th>p3_conf</th>\n",
       "      <th>p3_dog</th>\n",
       "    </tr>\n",
       "  </thead>\n",
       "  <tbody>\n",
       "  </tbody>\n",
       "</table>\n",
       "</div>"
      ],
      "text/plain": [
       "Empty DataFrame\n",
       "Columns: [tweet_id, jpg_url, img_num, p1, p1_conf, p1_dog, p2, p2_conf, p2_dog, p3, p3_conf, p3_dog]\n",
       "Index: []"
      ]
     },
     "execution_count": 34,
     "metadata": {},
     "output_type": "execute_result"
    }
   ],
   "source": [
    "# p1 confidence is always higher, so if it evaluates to a dog its the breed we go with\n",
    "dfbreed.query('p2_conf > p1_conf')"
   ]
  },
  {
   "cell_type": "code",
   "execution_count": 35,
   "metadata": {},
   "outputs": [
    {
     "data": {
      "text/plain": [
       "64"
      ]
     },
     "execution_count": 35,
     "metadata": {},
     "output_type": "execute_result"
    }
   ],
   "source": [
    "# An example of the final scenario where we have to rely on the p3 prediction\n",
    "len(dfbreed.query('(p1_dog==False) & (p2_dog==False) & (p3_dog==True)'))"
   ]
  },
  {
   "cell_type": "markdown",
   "metadata": {},
   "source": [
    "* TIDINESS: 'Columns as headers' as three predictions exists for each posting\n"
   ]
  },
  {
   "cell_type": "markdown",
   "metadata": {
    "collapsed": true
   },
   "source": [
    "#### Dataframe 3 - RateDogs data using Tweepy API"
   ]
  },
  {
   "cell_type": "code",
   "execution_count": 36,
   "metadata": {},
   "outputs": [
    {
     "data": {
      "text/html": [
       "<div>\n",
       "<style>\n",
       "    .dataframe thead tr:only-child th {\n",
       "        text-align: right;\n",
       "    }\n",
       "\n",
       "    .dataframe thead th {\n",
       "        text-align: left;\n",
       "    }\n",
       "\n",
       "    .dataframe tbody tr th {\n",
       "        vertical-align: top;\n",
       "    }\n",
       "</style>\n",
       "<table border=\"1\" class=\"dataframe\">\n",
       "  <thead>\n",
       "    <tr style=\"text-align: right;\">\n",
       "      <th></th>\n",
       "      <th>favorite_count</th>\n",
       "      <th>retweet_count</th>\n",
       "      <th>tweet_id</th>\n",
       "    </tr>\n",
       "  </thead>\n",
       "  <tbody>\n",
       "    <tr>\n",
       "      <th>0</th>\n",
       "      <td>38522</td>\n",
       "      <td>8496</td>\n",
       "      <td>892420643555336193</td>\n",
       "    </tr>\n",
       "    <tr>\n",
       "      <th>1</th>\n",
       "      <td>33026</td>\n",
       "      <td>6245</td>\n",
       "      <td>892177421306343426</td>\n",
       "    </tr>\n",
       "    <tr>\n",
       "      <th>2</th>\n",
       "      <td>24860</td>\n",
       "      <td>4139</td>\n",
       "      <td>891815181378084864</td>\n",
       "    </tr>\n",
       "    <tr>\n",
       "      <th>3</th>\n",
       "      <td>41917</td>\n",
       "      <td>8617</td>\n",
       "      <td>891689557279858688</td>\n",
       "    </tr>\n",
       "    <tr>\n",
       "      <th>4</th>\n",
       "      <td>40067</td>\n",
       "      <td>9354</td>\n",
       "      <td>891327558926688256</td>\n",
       "    </tr>\n",
       "  </tbody>\n",
       "</table>\n",
       "</div>"
      ],
      "text/plain": [
       "   favorite_count  retweet_count            tweet_id\n",
       "0           38522           8496  892420643555336193\n",
       "1           33026           6245  892177421306343426\n",
       "2           24860           4139  891815181378084864\n",
       "3           41917           8617  891689557279858688\n",
       "4           40067           9354  891327558926688256"
      ]
     },
     "execution_count": 36,
     "metadata": {},
     "output_type": "execute_result"
    }
   ],
   "source": [
    "dfapi.head()"
   ]
  },
  {
   "cell_type": "code",
   "execution_count": 37,
   "metadata": {},
   "outputs": [
    {
     "name": "stdout",
     "output_type": "stream",
     "text": [
      "<class 'pandas.core.frame.DataFrame'>\n",
      "Int64Index: 2342 entries, 0 to 2341\n",
      "Data columns (total 3 columns):\n",
      "favorite_count    2342 non-null int64\n",
      "retweet_count     2342 non-null int64\n",
      "tweet_id          2342 non-null int64\n",
      "dtypes: int64(3)\n",
      "memory usage: 73.2 KB\n"
     ]
    }
   ],
   "source": [
    "dfapi.info()"
   ]
  },
  {
   "cell_type": "code",
   "execution_count": 38,
   "metadata": {},
   "outputs": [
    {
     "data": {
      "text/html": [
       "<div>\n",
       "<style>\n",
       "    .dataframe thead tr:only-child th {\n",
       "        text-align: right;\n",
       "    }\n",
       "\n",
       "    .dataframe thead th {\n",
       "        text-align: left;\n",
       "    }\n",
       "\n",
       "    .dataframe tbody tr th {\n",
       "        vertical-align: top;\n",
       "    }\n",
       "</style>\n",
       "<table border=\"1\" class=\"dataframe\">\n",
       "  <thead>\n",
       "    <tr style=\"text-align: right;\">\n",
       "      <th></th>\n",
       "      <th>favorite_count</th>\n",
       "      <th>retweet_count</th>\n",
       "      <th>tweet_id</th>\n",
       "    </tr>\n",
       "  </thead>\n",
       "  <tbody>\n",
       "  </tbody>\n",
       "</table>\n",
       "</div>"
      ],
      "text/plain": [
       "Empty DataFrame\n",
       "Columns: [favorite_count, retweet_count, tweet_id]\n",
       "Index: []"
      ]
     },
     "execution_count": 38,
     "metadata": {},
     "output_type": "execute_result"
    }
   ],
   "source": [
    "# Important to check uniqueness as the data from these tables will be used for join\n",
    "dfapi[dfapi.duplicated()]"
   ]
  },
  {
   "cell_type": "code",
   "execution_count": 39,
   "metadata": {},
   "outputs": [
    {
     "name": "stdout",
     "output_type": "stream",
     "text": [
      "<class 'pandas.core.frame.DataFrame'>\n",
      "Int64Index: 2342 entries, 0 to 2341\n",
      "Data columns (total 3 columns):\n",
      "favorite_count    2342 non-null int64\n",
      "retweet_count     2342 non-null int64\n",
      "tweet_id          2342 non-null int64\n",
      "dtypes: int64(3)\n",
      "memory usage: 73.2 KB\n"
     ]
    }
   ],
   "source": [
    "dfapi.info()"
   ]
  },
  {
   "cell_type": "markdown",
   "metadata": {},
   "source": [
    "* TIDINESS: Fewer unique IDs compared to dfratedogs data"
   ]
  },
  {
   "cell_type": "markdown",
   "metadata": {},
   "source": [
    "#### Assessment Summary\n",
    "*Quality Issues: Organized in order of priority (Completeness, Validity, Accuracy, Consistency)*\n",
    "* dfratedogs: Rows where 'retweeted_status_id', 'retweeted_status_user_id', 'retweeted_status_timestamp' are not null are duplicates of original postings\n",
    "* dfratedogs: Rows where 'in_reply_to_status_id', 'in_reply_to_user_id' are not null are not null are duplicates of original postings\n",
    "* dfratedogs: further posts identifed as either 'reply/retweet posts' and 'non dog rated' posts whereever 'expanded_urls' is NULL\n",
    "* dfratedogs: 'expanded_urls' that do not fall in the vine or twitter domain are external news articles \n",
    "* dfratedogs: 'timestamp' includes an obsolete seconds portion (+0000) and is of the wrong datatype\n",
    "* dfratedogs: Various Ratings denominator inaccuracies and inconsistencies putting value above 10\n",
    "* dfratedogs: Various numerator ratings inaccuracies and inconsistencies putting rating above 14\n",
    "* dfratedogs: 'source' identifies a URL which is too specific to be useful as discrete data for analaysis\n",
    "* dfratedogs: 'expanded_urls' is not grouped together in discrete buckets to be useful for data analysis\n",
    "* dfratedogs: Inconsistency in the dog stage values, where confirmation of value received from 'text' field\n",
    "* dfratedogs: Incorret 'name' entries like 'None' and single characters names identified and other columns will become unnessary after quality transformations are performed\n",
    "\n",
    "*Tidiness Issues*\n",
    "* dfratedogs: Ratings separated into two separate denominator and numerator column\n",
    "* dfratedogs: dog stages ('doggo', 'floofer', 'pupper', 'puppo') are dog classifications set up as a column header\n",
    "* dfbreed: 'Columns as headers' as three predictions exists for each posting\n",
    "* dfapi: Fewer unique IDs compared to dfratedogs data\n",
    "* all dataframes: Combine dataframes and ensure tidiness and quality by ensuring Null rows and obsolete columns are removed"
   ]
  },
  {
   "cell_type": "markdown",
   "metadata": {},
   "source": [
    "# Clean and Test"
   ]
  },
  {
   "cell_type": "markdown",
   "metadata": {},
   "source": [
    "Start by making a copy of dataframe1(dfratedogs) which is going through most of the Quality transformations"
   ]
  },
  {
   "cell_type": "code",
   "execution_count": 40,
   "metadata": {},
   "outputs": [
    {
     "data": {
      "text/plain": [
       "(2356, 17)"
      ]
     },
     "execution_count": 40,
     "metadata": {},
     "output_type": "execute_result"
    }
   ],
   "source": [
    "#Start by making a copy of the dataframe1 used in assessment section\n",
    "df1 = dfratedogs.copy()\n",
    "df1.shape"
   ]
  },
  {
   "cell_type": "markdown",
   "metadata": {},
   "source": [
    "#### Issue\n",
    "Rows where 'retweeted_status_id', 'retweeted_status_user_id', 'retweeted_status_timestamp' are not null are duplicates of original postings"
   ]
  },
  {
   "cell_type": "markdown",
   "metadata": {},
   "source": [
    "#### Define\n",
    "Remove retweeted data by removing any rows associated with data being present in 'rewteeted_status_id' having any content"
   ]
  },
  {
   "cell_type": "code",
   "execution_count": 41,
   "metadata": {},
   "outputs": [
    {
     "data": {
      "text/plain": [
       "(2175, 17)"
      ]
     },
     "execution_count": 41,
     "metadata": {},
     "output_type": "execute_result"
    }
   ],
   "source": [
    "## Done by recreating same dataframe by filtering retweeted id field when null\n",
    "df1 = df1[df1.retweeted_status_id.isnull()]\n",
    "df1.shape"
   ]
  },
  {
   "cell_type": "markdown",
   "metadata": {},
   "source": [
    "#### Test \n",
    "Verify if any rows exist where 'retweet_status_user_id' is not null"
   ]
  },
  {
   "cell_type": "code",
   "execution_count": 42,
   "metadata": {},
   "outputs": [
    {
     "data": {
      "text/plain": [
       "0"
      ]
     },
     "execution_count": 42,
     "metadata": {},
     "output_type": "execute_result"
    }
   ],
   "source": [
    "len(df1[~df1.retweeted_status_user_id.isnull()])"
   ]
  },
  {
   "cell_type": "markdown",
   "metadata": {},
   "source": [
    "#### Issue\n",
    "Rows where 'in_reply_to_status_id', 'in_reply_to_user_id' are not null are not null are duplicates of original postings"
   ]
  },
  {
   "cell_type": "markdown",
   "metadata": {},
   "source": [
    "#### Define \n",
    "Remove reply data by removing any rows associated with data being present in 'in_reply_to_user_id' having any content"
   ]
  },
  {
   "cell_type": "code",
   "execution_count": 43,
   "metadata": {},
   "outputs": [
    {
     "data": {
      "text/plain": [
       "(2097, 17)"
      ]
     },
     "execution_count": 43,
     "metadata": {},
     "output_type": "execute_result"
    }
   ],
   "source": [
    "# Remove rows by recreating dataframe by filtering out reply posts\n",
    "df1 = df1[df1.in_reply_to_user_id.isnull()]\n",
    "df1.shape"
   ]
  },
  {
   "cell_type": "markdown",
   "metadata": {},
   "source": [
    "#### Test \n",
    "Verify if any content exists for another user reply data in 'in_reply_to_user_id'"
   ]
  },
  {
   "cell_type": "code",
   "execution_count": 44,
   "metadata": {},
   "outputs": [
    {
     "data": {
      "text/plain": [
       "0"
      ]
     },
     "execution_count": 44,
     "metadata": {},
     "output_type": "execute_result"
    }
   ],
   "source": [
    "len(df1[~df1.in_reply_to_user_id.isnull()])"
   ]
  },
  {
   "cell_type": "markdown",
   "metadata": {},
   "source": [
    "#### Issue\n",
    "Further posts identifed as either 'reply/retweet posts' and 'non dog rated' posts whereever 'expanded_urls' is NULL\n"
   ]
  },
  {
   "cell_type": "markdown",
   "metadata": {},
   "source": [
    "#### Define \n",
    "Remove any rows associated with 'expanded_URLs' being Null by filtering new dataframe to include on non null expanded url values"
   ]
  },
  {
   "cell_type": "code",
   "execution_count": 45,
   "metadata": {},
   "outputs": [
    {
     "data": {
      "text/plain": [
       "(2094, 17)"
      ]
     },
     "execution_count": 45,
     "metadata": {},
     "output_type": "execute_result"
    }
   ],
   "source": [
    "df1 = df1[~df1.expanded_urls.isnull()]\n",
    "df1.shape"
   ]
  },
  {
   "cell_type": "markdown",
   "metadata": {},
   "source": [
    "#### Test \n",
    "df1.shape confirms a reduction of 3 rows. Test below confirms that no NULL values for expanded_urls exist"
   ]
  },
  {
   "cell_type": "code",
   "execution_count": 46,
   "metadata": {},
   "outputs": [
    {
     "data": {
      "text/plain": [
       "0"
      ]
     },
     "execution_count": 46,
     "metadata": {},
     "output_type": "execute_result"
    }
   ],
   "source": [
    "#Filter out to the same dataframe\n",
    "len(df1[df1.expanded_urls.isnull()])\n"
   ]
  },
  {
   "cell_type": "markdown",
   "metadata": {},
   "source": [
    "#### Issue\n",
    "'expanded_urls' that do not fall in the vine or twitter domain are external news articles "
   ]
  },
  {
   "cell_type": "markdown",
   "metadata": {},
   "source": [
    "#### Define\n",
    "Remove any data associated with 'expanded_urls' not in twitter or vine domain, as these data are not associated with rating dogs"
   ]
  },
  {
   "cell_type": "code",
   "execution_count": 47,
   "metadata": {},
   "outputs": [
    {
     "data": {
      "text/html": [
       "<div>\n",
       "<style>\n",
       "    .dataframe thead tr:only-child th {\n",
       "        text-align: right;\n",
       "    }\n",
       "\n",
       "    .dataframe thead th {\n",
       "        text-align: left;\n",
       "    }\n",
       "\n",
       "    .dataframe tbody tr th {\n",
       "        vertical-align: top;\n",
       "    }\n",
       "</style>\n",
       "<table border=\"1\" class=\"dataframe\">\n",
       "  <thead>\n",
       "    <tr style=\"text-align: right;\">\n",
       "      <th></th>\n",
       "      <th>tweet_id</th>\n",
       "      <th>in_reply_to_status_id</th>\n",
       "      <th>in_reply_to_user_id</th>\n",
       "      <th>timestamp</th>\n",
       "      <th>source</th>\n",
       "      <th>text</th>\n",
       "      <th>retweeted_status_id</th>\n",
       "      <th>retweeted_status_user_id</th>\n",
       "      <th>retweeted_status_timestamp</th>\n",
       "      <th>expanded_urls</th>\n",
       "      <th>rating_numerator</th>\n",
       "      <th>rating_denominator</th>\n",
       "      <th>name</th>\n",
       "      <th>doggo</th>\n",
       "      <th>floofer</th>\n",
       "      <th>pupper</th>\n",
       "      <th>puppo</th>\n",
       "    </tr>\n",
       "  </thead>\n",
       "  <tbody>\n",
       "    <tr>\n",
       "      <th>335</th>\n",
       "      <td>832645525019123713</td>\n",
       "      <td>NaN</td>\n",
       "      <td>NaN</td>\n",
       "      <td>2017-02-17 17:38:57 +0000</td>\n",
       "      <td>&lt;a href=\"http://twitter.com\" rel=\"nofollow\"&gt;Tw...</td>\n",
       "      <td>There's going to be a dog terminal at JFK Airp...</td>\n",
       "      <td>NaN</td>\n",
       "      <td>NaN</td>\n",
       "      <td>NaN</td>\n",
       "      <td>http://us.blastingnews.com/news/2017/02/jfk-an...</td>\n",
       "      <td>10</td>\n",
       "      <td>10</td>\n",
       "      <td>not</td>\n",
       "      <td>None</td>\n",
       "      <td>None</td>\n",
       "      <td>None</td>\n",
       "      <td>None</td>\n",
       "    </tr>\n",
       "    <tr>\n",
       "      <th>444</th>\n",
       "      <td>819238181065359361</td>\n",
       "      <td>NaN</td>\n",
       "      <td>NaN</td>\n",
       "      <td>2017-01-11 17:42:57 +0000</td>\n",
       "      <td>&lt;a href=\"http://twitter.com\" rel=\"nofollow\"&gt;Tw...</td>\n",
       "      <td>Some happy pupper news to share. 10/10 for eve...</td>\n",
       "      <td>NaN</td>\n",
       "      <td>NaN</td>\n",
       "      <td>NaN</td>\n",
       "      <td>http://us.blastingnews.com/news/2017/01/200-do...</td>\n",
       "      <td>10</td>\n",
       "      <td>10</td>\n",
       "      <td>None</td>\n",
       "      <td>None</td>\n",
       "      <td>None</td>\n",
       "      <td>pupper</td>\n",
       "      <td>None</td>\n",
       "    </tr>\n",
       "    <tr>\n",
       "      <th>754</th>\n",
       "      <td>778764940568104960</td>\n",
       "      <td>NaN</td>\n",
       "      <td>NaN</td>\n",
       "      <td>2016-09-22 01:16:45 +0000</td>\n",
       "      <td>&lt;a href=\"http://twitter.com/download/iphone\" r...</td>\n",
       "      <td>Oh my god it's Narcos but Barkos. 13/10 someon...</td>\n",
       "      <td>NaN</td>\n",
       "      <td>NaN</td>\n",
       "      <td>NaN</td>\n",
       "      <td>https://m.youtube.com/watch?v=idKxCMsS3FQ&amp;feat...</td>\n",
       "      <td>13</td>\n",
       "      <td>10</td>\n",
       "      <td>None</td>\n",
       "      <td>None</td>\n",
       "      <td>None</td>\n",
       "      <td>None</td>\n",
       "      <td>None</td>\n",
       "    </tr>\n",
       "  </tbody>\n",
       "</table>\n",
       "</div>"
      ],
      "text/plain": [
       "               tweet_id  in_reply_to_status_id  in_reply_to_user_id  \\\n",
       "335  832645525019123713                    NaN                  NaN   \n",
       "444  819238181065359361                    NaN                  NaN   \n",
       "754  778764940568104960                    NaN                  NaN   \n",
       "\n",
       "                     timestamp  \\\n",
       "335  2017-02-17 17:38:57 +0000   \n",
       "444  2017-01-11 17:42:57 +0000   \n",
       "754  2016-09-22 01:16:45 +0000   \n",
       "\n",
       "                                                source  \\\n",
       "335  <a href=\"http://twitter.com\" rel=\"nofollow\">Tw...   \n",
       "444  <a href=\"http://twitter.com\" rel=\"nofollow\">Tw...   \n",
       "754  <a href=\"http://twitter.com/download/iphone\" r...   \n",
       "\n",
       "                                                  text  retweeted_status_id  \\\n",
       "335  There's going to be a dog terminal at JFK Airp...                  NaN   \n",
       "444  Some happy pupper news to share. 10/10 for eve...                  NaN   \n",
       "754  Oh my god it's Narcos but Barkos. 13/10 someon...                  NaN   \n",
       "\n",
       "     retweeted_status_user_id retweeted_status_timestamp  \\\n",
       "335                       NaN                        NaN   \n",
       "444                       NaN                        NaN   \n",
       "754                       NaN                        NaN   \n",
       "\n",
       "                                         expanded_urls  rating_numerator  \\\n",
       "335  http://us.blastingnews.com/news/2017/02/jfk-an...                10   \n",
       "444  http://us.blastingnews.com/news/2017/01/200-do...                10   \n",
       "754  https://m.youtube.com/watch?v=idKxCMsS3FQ&feat...                13   \n",
       "\n",
       "     rating_denominator  name doggo floofer  pupper puppo  \n",
       "335                  10   not  None    None    None  None  \n",
       "444                  10  None  None    None  pupper  None  \n",
       "754                  10  None  None    None    None  None  "
      ]
     },
     "execution_count": 47,
     "metadata": {},
     "output_type": "execute_result"
    }
   ],
   "source": [
    "#Filter to see what to exclude\n",
    "df1[~df1.expanded_urls.str.contains('vine') & ~df1.expanded_urls.str.contains('twitter')]"
   ]
  },
  {
   "cell_type": "code",
   "execution_count": 48,
   "metadata": {},
   "outputs": [
    {
     "data": {
      "text/plain": [
       "(2091, 17)"
      ]
     },
     "execution_count": 48,
     "metadata": {},
     "output_type": "execute_result"
    }
   ],
   "source": [
    "df1 = df1[df1.expanded_urls.str.contains('vine') | df1.expanded_urls.str.contains('twitter')]\n",
    "df1.shape"
   ]
  },
  {
   "cell_type": "markdown",
   "metadata": {},
   "source": [
    "#### Test\n"
   ]
  },
  {
   "cell_type": "code",
   "execution_count": 49,
   "metadata": {},
   "outputs": [
    {
     "data": {
      "text/plain": [
       "0"
      ]
     },
     "execution_count": 49,
     "metadata": {},
     "output_type": "execute_result"
    }
   ],
   "source": [
    "# Verify by same query to see if any text in expanded_url other than 'twitter' or 'vine' exist\n",
    "len(df1[~df1.expanded_urls.str.contains('vine') & ~df1.expanded_urls.str.contains('twitter')])"
   ]
  },
  {
   "cell_type": "markdown",
   "metadata": {},
   "source": [
    "#### Issue\n",
    "'timestamp' includes an obsolete seconds portion (+0000) and is of the wrong datatype"
   ]
  },
  {
   "cell_type": "markdown",
   "metadata": {},
   "source": [
    "#### Define\n",
    "Change datatype from object(or String) to datetime"
   ]
  },
  {
   "cell_type": "code",
   "execution_count": 50,
   "metadata": {},
   "outputs": [],
   "source": [
    "#convert to datetime dtype\n",
    "df1['timestamp'] = pd.to_datetime(df1['timestamp'])"
   ]
  },
  {
   "cell_type": "code",
   "execution_count": 51,
   "metadata": {},
   "outputs": [],
   "source": [
    "#Use strftime to just strip the date portion\n",
    "df1['timestamp'] = df1['timestamp'].dt.strftime('%m/%d/%Y')"
   ]
  },
  {
   "cell_type": "code",
   "execution_count": 52,
   "metadata": {},
   "outputs": [],
   "source": [
    "#Run the code to convert to datetime again\n",
    "df1['timestamp'] = pd.to_datetime(df1['timestamp'])"
   ]
  },
  {
   "cell_type": "markdown",
   "metadata": {},
   "source": [
    "#### Test"
   ]
  },
  {
   "cell_type": "code",
   "execution_count": 53,
   "metadata": {},
   "outputs": [
    {
     "name": "stdout",
     "output_type": "stream",
     "text": [
      "<class 'pandas.core.frame.DataFrame'>\n",
      "Int64Index: 2091 entries, 0 to 2355\n",
      "Data columns (total 17 columns):\n",
      "tweet_id                      2091 non-null int64\n",
      "in_reply_to_status_id         0 non-null float64\n",
      "in_reply_to_user_id           0 non-null float64\n",
      "timestamp                     2091 non-null datetime64[ns]\n",
      "source                        2091 non-null object\n",
      "text                          2091 non-null object\n",
      "retweeted_status_id           0 non-null float64\n",
      "retweeted_status_user_id      0 non-null float64\n",
      "retweeted_status_timestamp    0 non-null object\n",
      "expanded_urls                 2091 non-null object\n",
      "rating_numerator              2091 non-null int64\n",
      "rating_denominator            2091 non-null int64\n",
      "name                          2091 non-null object\n",
      "doggo                         2091 non-null object\n",
      "floofer                       2091 non-null object\n",
      "pupper                        2091 non-null object\n",
      "puppo                         2091 non-null object\n",
      "dtypes: datetime64[ns](1), float64(4), int64(3), object(9)\n",
      "memory usage: 294.0+ KB\n"
     ]
    }
   ],
   "source": [
    "df1.info()"
   ]
  },
  {
   "cell_type": "markdown",
   "metadata": {},
   "source": [
    "#### Issue\n",
    "Various Ratings denominator inaccuracies and inconsistencies putting value above 10"
   ]
  },
  {
   "cell_type": "markdown",
   "metadata": {},
   "source": [
    "#### Define\n",
    "Re-assess using denominator values other than 10 and adjust denominator and numerator values that were not captured properly. Use the 'text' field as a reference to correct values"
   ]
  },
  {
   "cell_type": "code",
   "execution_count": 54,
   "metadata": {},
   "outputs": [
    {
     "data": {
      "text/html": [
       "<div>\n",
       "<style>\n",
       "    .dataframe thead tr:only-child th {\n",
       "        text-align: right;\n",
       "    }\n",
       "\n",
       "    .dataframe thead th {\n",
       "        text-align: left;\n",
       "    }\n",
       "\n",
       "    .dataframe tbody tr th {\n",
       "        vertical-align: top;\n",
       "    }\n",
       "</style>\n",
       "<table border=\"1\" class=\"dataframe\">\n",
       "  <thead>\n",
       "    <tr style=\"text-align: right;\">\n",
       "      <th></th>\n",
       "      <th>text</th>\n",
       "      <th>rating_numerator</th>\n",
       "      <th>rating_denominator</th>\n",
       "    </tr>\n",
       "  </thead>\n",
       "  <tbody>\n",
       "    <tr>\n",
       "      <th>433</th>\n",
       "      <td>The floofs have been released I repeat the floofs have been released. 84/70 https://t.co/NIYC820tmd</td>\n",
       "      <td>84</td>\n",
       "      <td>70</td>\n",
       "    </tr>\n",
       "    <tr>\n",
       "      <th>516</th>\n",
       "      <td>Meet Sam. She smiles 24/7 &amp;amp; secretly aspires to be a reindeer. \\nKeep Sam smiling by clicking and sharing this link:\\nhttps://t.co/98tB8y7y7t https://t.co/LouL5vdvxx</td>\n",
       "      <td>24</td>\n",
       "      <td>7</td>\n",
       "    </tr>\n",
       "    <tr>\n",
       "      <th>902</th>\n",
       "      <td>Why does this never happen at my front door... 165/150 https://t.co/HmwrdfEfUE</td>\n",
       "      <td>165</td>\n",
       "      <td>150</td>\n",
       "    </tr>\n",
       "    <tr>\n",
       "      <th>1068</th>\n",
       "      <td>After so many requests, this is Bretagne. She was the last surviving 9/11 search dog, and our second ever 14/10. RIP https://t.co/XAVDNDaVgQ</td>\n",
       "      <td>9</td>\n",
       "      <td>11</td>\n",
       "    </tr>\n",
       "    <tr>\n",
       "      <th>1120</th>\n",
       "      <td>Say hello to this unbelievably well behaved squad of doggos. 204/170 would try to pet all at once https://t.co/yGQI3He3xv</td>\n",
       "      <td>204</td>\n",
       "      <td>170</td>\n",
       "    </tr>\n",
       "    <tr>\n",
       "      <th>1165</th>\n",
       "      <td>Happy 4/20 from the squad! 13/10 for all https://t.co/eV1diwds8a</td>\n",
       "      <td>4</td>\n",
       "      <td>20</td>\n",
       "    </tr>\n",
       "    <tr>\n",
       "      <th>1202</th>\n",
       "      <td>This is Bluebert. He just saw that both #FinalFur match ups are split 50/50. Amazed af. 11/10 https://t.co/Kky1DPG4iq</td>\n",
       "      <td>50</td>\n",
       "      <td>50</td>\n",
       "    </tr>\n",
       "    <tr>\n",
       "      <th>1228</th>\n",
       "      <td>Happy Saturday here's 9 puppers on a bench. 99/90 good work everybody https://t.co/mpvaVxKmc1</td>\n",
       "      <td>99</td>\n",
       "      <td>90</td>\n",
       "    </tr>\n",
       "    <tr>\n",
       "      <th>1254</th>\n",
       "      <td>Here's a brigade of puppers. All look very prepared for whatever happens next. 80/80 https://t.co/0eb7R1Om12</td>\n",
       "      <td>80</td>\n",
       "      <td>80</td>\n",
       "    </tr>\n",
       "    <tr>\n",
       "      <th>1274</th>\n",
       "      <td>From left to right:\\nCletus, Jerome, Alejandro, Burp, &amp;amp; Titson\\nNone know where camera is. 45/50 would hug all at once https://t.co/sedre1ivTK</td>\n",
       "      <td>45</td>\n",
       "      <td>50</td>\n",
       "    </tr>\n",
       "    <tr>\n",
       "      <th>1351</th>\n",
       "      <td>Here is a whole flock of puppers.  60/50 I'll take the lot https://t.co/9dpcw6MdWa</td>\n",
       "      <td>60</td>\n",
       "      <td>50</td>\n",
       "    </tr>\n",
       "    <tr>\n",
       "      <th>1433</th>\n",
       "      <td>Happy Wednesday here's a bucket of pups. 44/40 would pet all at once https://t.co/HppvrYuamZ</td>\n",
       "      <td>44</td>\n",
       "      <td>40</td>\n",
       "    </tr>\n",
       "    <tr>\n",
       "      <th>1635</th>\n",
       "      <td>Someone help the girl is being mugged. Several are distracting her while two steal her shoes. Clever puppers 121/110 https://t.co/1zfnTJLt55</td>\n",
       "      <td>121</td>\n",
       "      <td>110</td>\n",
       "    </tr>\n",
       "    <tr>\n",
       "      <th>1662</th>\n",
       "      <td>This is Darrel. He just robbed a 7/11 and is in a high speed police chase. Was just spotted by the helicopter 10/10 https://t.co/7EsP8LmSp5</td>\n",
       "      <td>7</td>\n",
       "      <td>11</td>\n",
       "    </tr>\n",
       "    <tr>\n",
       "      <th>1779</th>\n",
       "      <td>IT'S PUPPERGEDDON. Total of 144/120 ...I think https://t.co/ZanVtAtvIq</td>\n",
       "      <td>144</td>\n",
       "      <td>120</td>\n",
       "    </tr>\n",
       "    <tr>\n",
       "      <th>1843</th>\n",
       "      <td>Here we have an entire platoon of puppers. Total score: 88/80 would pet all at once https://t.co/y93p6FLvVw</td>\n",
       "      <td>88</td>\n",
       "      <td>80</td>\n",
       "    </tr>\n",
       "    <tr>\n",
       "      <th>2335</th>\n",
       "      <td>This is an Albanian 3 1/2 legged  Episcopalian. Loves well-polished hardwood flooring. Penis on the collar. 9/10 https://t.co/d9NcXFKwLv</td>\n",
       "      <td>1</td>\n",
       "      <td>2</td>\n",
       "    </tr>\n",
       "  </tbody>\n",
       "</table>\n",
       "</div>"
      ],
      "text/plain": [
       "                                                                                                                                                                           text  \\\n",
       "433   The floofs have been released I repeat the floofs have been released. 84/70 https://t.co/NIYC820tmd                                                                         \n",
       "516   Meet Sam. She smiles 24/7 &amp; secretly aspires to be a reindeer. \\nKeep Sam smiling by clicking and sharing this link:\\nhttps://t.co/98tB8y7y7t https://t.co/LouL5vdvxx   \n",
       "902   Why does this never happen at my front door... 165/150 https://t.co/HmwrdfEfUE                                                                                              \n",
       "1068  After so many requests, this is Bretagne. She was the last surviving 9/11 search dog, and our second ever 14/10. RIP https://t.co/XAVDNDaVgQ                                \n",
       "1120  Say hello to this unbelievably well behaved squad of doggos. 204/170 would try to pet all at once https://t.co/yGQI3He3xv                                                   \n",
       "1165  Happy 4/20 from the squad! 13/10 for all https://t.co/eV1diwds8a                                                                                                            \n",
       "1202  This is Bluebert. He just saw that both #FinalFur match ups are split 50/50. Amazed af. 11/10 https://t.co/Kky1DPG4iq                                                       \n",
       "1228  Happy Saturday here's 9 puppers on a bench. 99/90 good work everybody https://t.co/mpvaVxKmc1                                                                               \n",
       "1254  Here's a brigade of puppers. All look very prepared for whatever happens next. 80/80 https://t.co/0eb7R1Om12                                                                \n",
       "1274  From left to right:\\nCletus, Jerome, Alejandro, Burp, &amp; Titson\\nNone know where camera is. 45/50 would hug all at once https://t.co/sedre1ivTK                          \n",
       "1351  Here is a whole flock of puppers.  60/50 I'll take the lot https://t.co/9dpcw6MdWa                                                                                          \n",
       "1433  Happy Wednesday here's a bucket of pups. 44/40 would pet all at once https://t.co/HppvrYuamZ                                                                                \n",
       "1635  Someone help the girl is being mugged. Several are distracting her while two steal her shoes. Clever puppers 121/110 https://t.co/1zfnTJLt55                                \n",
       "1662  This is Darrel. He just robbed a 7/11 and is in a high speed police chase. Was just spotted by the helicopter 10/10 https://t.co/7EsP8LmSp5                                 \n",
       "1779  IT'S PUPPERGEDDON. Total of 144/120 ...I think https://t.co/ZanVtAtvIq                                                                                                      \n",
       "1843  Here we have an entire platoon of puppers. Total score: 88/80 would pet all at once https://t.co/y93p6FLvVw                                                                 \n",
       "2335  This is an Albanian 3 1/2 legged  Episcopalian. Loves well-polished hardwood flooring. Penis on the collar. 9/10 https://t.co/d9NcXFKwLv                                    \n",
       "\n",
       "      rating_numerator  rating_denominator  \n",
       "433   84                70                  \n",
       "516   24                7                   \n",
       "902   165               150                 \n",
       "1068  9                 11                  \n",
       "1120  204               170                 \n",
       "1165  4                 20                  \n",
       "1202  50                50                  \n",
       "1228  99                90                  \n",
       "1254  80                80                  \n",
       "1274  45                50                  \n",
       "1351  60                50                  \n",
       "1433  44                40                  \n",
       "1635  121               110                 \n",
       "1662  7                 11                  \n",
       "1779  144               120                 \n",
       "1843  88                80                  \n",
       "2335  1                 2                   "
      ]
     },
     "execution_count": 54,
     "metadata": {},
     "output_type": "execute_result"
    }
   ],
   "source": [
    "#adjust column width so text can be viewed\n",
    "pd.set_option('display.max_colwidth', -1)\n",
    "#use index from above to create array \n",
    "column_array = np.r_[5,10,11]\n",
    "# query all values were denominator value is not equal to 10\n",
    "df1.iloc[:, column_array].query('rating_denominator != 10')"
   ]
  },
  {
   "cell_type": "code",
   "execution_count": 55,
   "metadata": {},
   "outputs": [],
   "source": [
    "# to remove\n",
    "df1.drop([516], inplace=True)\n",
    "\n",
    "# to adjust\n",
    "df1.loc[1068,'rating_numerator'] = 14 \n",
    "df1.loc[1068,'rating_denominator'] = 10 \n",
    "df1.loc[1165,'rating_numerator'] = 13\n",
    "df1.loc[1165,'rating_denominator'] = 10\n",
    "df1.loc[1202,'rating_numerator'] = 11\n",
    "df1.loc[1202,'rating_denominator'] = 10 \n",
    "df1.loc[1662,'rating_numerator'] = 10\n",
    "df1.loc[1662,'rating_denominator'] = 10\n",
    "df1.loc[2335,'rating_numerator'] = 9\n",
    "df1.loc[2335,'rating_denominator'] = 10 "
   ]
  },
  {
   "cell_type": "markdown",
   "metadata": {},
   "source": [
    "#### Test\n",
    "Query again to see if any abnormal denominators were removed "
   ]
  },
  {
   "cell_type": "code",
   "execution_count": 56,
   "metadata": {},
   "outputs": [
    {
     "data": {
      "text/html": [
       "<div>\n",
       "<style>\n",
       "    .dataframe thead tr:only-child th {\n",
       "        text-align: right;\n",
       "    }\n",
       "\n",
       "    .dataframe thead th {\n",
       "        text-align: left;\n",
       "    }\n",
       "\n",
       "    .dataframe tbody tr th {\n",
       "        vertical-align: top;\n",
       "    }\n",
       "</style>\n",
       "<table border=\"1\" class=\"dataframe\">\n",
       "  <thead>\n",
       "    <tr style=\"text-align: right;\">\n",
       "      <th></th>\n",
       "      <th>text</th>\n",
       "      <th>rating_numerator</th>\n",
       "      <th>rating_denominator</th>\n",
       "    </tr>\n",
       "  </thead>\n",
       "  <tbody>\n",
       "    <tr>\n",
       "      <th>433</th>\n",
       "      <td>The floofs have been released I repeat the floofs have been released. 84/70 https://t.co/NIYC820tmd</td>\n",
       "      <td>84</td>\n",
       "      <td>70</td>\n",
       "    </tr>\n",
       "    <tr>\n",
       "      <th>902</th>\n",
       "      <td>Why does this never happen at my front door... 165/150 https://t.co/HmwrdfEfUE</td>\n",
       "      <td>165</td>\n",
       "      <td>150</td>\n",
       "    </tr>\n",
       "    <tr>\n",
       "      <th>1120</th>\n",
       "      <td>Say hello to this unbelievably well behaved squad of doggos. 204/170 would try to pet all at once https://t.co/yGQI3He3xv</td>\n",
       "      <td>204</td>\n",
       "      <td>170</td>\n",
       "    </tr>\n",
       "    <tr>\n",
       "      <th>1228</th>\n",
       "      <td>Happy Saturday here's 9 puppers on a bench. 99/90 good work everybody https://t.co/mpvaVxKmc1</td>\n",
       "      <td>99</td>\n",
       "      <td>90</td>\n",
       "    </tr>\n",
       "    <tr>\n",
       "      <th>1254</th>\n",
       "      <td>Here's a brigade of puppers. All look very prepared for whatever happens next. 80/80 https://t.co/0eb7R1Om12</td>\n",
       "      <td>80</td>\n",
       "      <td>80</td>\n",
       "    </tr>\n",
       "    <tr>\n",
       "      <th>1274</th>\n",
       "      <td>From left to right:\\nCletus, Jerome, Alejandro, Burp, &amp;amp; Titson\\nNone know where camera is. 45/50 would hug all at once https://t.co/sedre1ivTK</td>\n",
       "      <td>45</td>\n",
       "      <td>50</td>\n",
       "    </tr>\n",
       "    <tr>\n",
       "      <th>1351</th>\n",
       "      <td>Here is a whole flock of puppers.  60/50 I'll take the lot https://t.co/9dpcw6MdWa</td>\n",
       "      <td>60</td>\n",
       "      <td>50</td>\n",
       "    </tr>\n",
       "    <tr>\n",
       "      <th>1433</th>\n",
       "      <td>Happy Wednesday here's a bucket of pups. 44/40 would pet all at once https://t.co/HppvrYuamZ</td>\n",
       "      <td>44</td>\n",
       "      <td>40</td>\n",
       "    </tr>\n",
       "    <tr>\n",
       "      <th>1635</th>\n",
       "      <td>Someone help the girl is being mugged. Several are distracting her while two steal her shoes. Clever puppers 121/110 https://t.co/1zfnTJLt55</td>\n",
       "      <td>121</td>\n",
       "      <td>110</td>\n",
       "    </tr>\n",
       "    <tr>\n",
       "      <th>1779</th>\n",
       "      <td>IT'S PUPPERGEDDON. Total of 144/120 ...I think https://t.co/ZanVtAtvIq</td>\n",
       "      <td>144</td>\n",
       "      <td>120</td>\n",
       "    </tr>\n",
       "    <tr>\n",
       "      <th>1843</th>\n",
       "      <td>Here we have an entire platoon of puppers. Total score: 88/80 would pet all at once https://t.co/y93p6FLvVw</td>\n",
       "      <td>88</td>\n",
       "      <td>80</td>\n",
       "    </tr>\n",
       "  </tbody>\n",
       "</table>\n",
       "</div>"
      ],
      "text/plain": [
       "                                                                                                                                                    text  \\\n",
       "433   The floofs have been released I repeat the floofs have been released. 84/70 https://t.co/NIYC820tmd                                                  \n",
       "902   Why does this never happen at my front door... 165/150 https://t.co/HmwrdfEfUE                                                                       \n",
       "1120  Say hello to this unbelievably well behaved squad of doggos. 204/170 would try to pet all at once https://t.co/yGQI3He3xv                            \n",
       "1228  Happy Saturday here's 9 puppers on a bench. 99/90 good work everybody https://t.co/mpvaVxKmc1                                                        \n",
       "1254  Here's a brigade of puppers. All look very prepared for whatever happens next. 80/80 https://t.co/0eb7R1Om12                                         \n",
       "1274  From left to right:\\nCletus, Jerome, Alejandro, Burp, &amp; Titson\\nNone know where camera is. 45/50 would hug all at once https://t.co/sedre1ivTK   \n",
       "1351  Here is a whole flock of puppers.  60/50 I'll take the lot https://t.co/9dpcw6MdWa                                                                   \n",
       "1433  Happy Wednesday here's a bucket of pups. 44/40 would pet all at once https://t.co/HppvrYuamZ                                                         \n",
       "1635  Someone help the girl is being mugged. Several are distracting her while two steal her shoes. Clever puppers 121/110 https://t.co/1zfnTJLt55         \n",
       "1779  IT'S PUPPERGEDDON. Total of 144/120 ...I think https://t.co/ZanVtAtvIq                                                                               \n",
       "1843  Here we have an entire platoon of puppers. Total score: 88/80 would pet all at once https://t.co/y93p6FLvVw                                          \n",
       "\n",
       "      rating_numerator  rating_denominator  \n",
       "433   84                70                  \n",
       "902   165               150                 \n",
       "1120  204               170                 \n",
       "1228  99                90                  \n",
       "1254  80                80                  \n",
       "1274  45                50                  \n",
       "1351  60                50                  \n",
       "1433  44                40                  \n",
       "1635  121               110                 \n",
       "1779  144               120                 \n",
       "1843  88                80                  "
      ]
     },
     "execution_count": 56,
     "metadata": {},
     "output_type": "execute_result"
    }
   ],
   "source": [
    "df1.iloc[:, column_array].query('rating_denominator != 10')"
   ]
  },
  {
   "cell_type": "markdown",
   "metadata": {},
   "source": [
    "#### Issue\n",
    "Various numerator ratings inaccuracies and inconsistencies putting rating above 14"
   ]
  },
  {
   "cell_type": "markdown",
   "metadata": {},
   "source": [
    "#### Define\n",
    "Re-assess using numerator value greater than 14 and adjust float numerator values as not captured properly and remove any 'novelty' ratings that are unusually high eg: 666 for dog dressed with devil horns. Any float type ratings will rounded to the nearst integer"
   ]
  },
  {
   "cell_type": "code",
   "execution_count": 57,
   "metadata": {},
   "outputs": [
    {
     "data": {
      "text/html": [
       "<div>\n",
       "<style>\n",
       "    .dataframe thead tr:only-child th {\n",
       "        text-align: right;\n",
       "    }\n",
       "\n",
       "    .dataframe thead th {\n",
       "        text-align: left;\n",
       "    }\n",
       "\n",
       "    .dataframe tbody tr th {\n",
       "        vertical-align: top;\n",
       "    }\n",
       "</style>\n",
       "<table border=\"1\" class=\"dataframe\">\n",
       "  <thead>\n",
       "    <tr style=\"text-align: right;\">\n",
       "      <th></th>\n",
       "      <th>text</th>\n",
       "      <th>rating_numerator</th>\n",
       "      <th>rating_denominator</th>\n",
       "    </tr>\n",
       "  </thead>\n",
       "  <tbody>\n",
       "    <tr>\n",
       "      <th>433</th>\n",
       "      <td>The floofs have been released I repeat the floofs have been released. 84/70 https://t.co/NIYC820tmd</td>\n",
       "      <td>84</td>\n",
       "      <td>70</td>\n",
       "    </tr>\n",
       "    <tr>\n",
       "      <th>695</th>\n",
       "      <td>This is Logan, the Chow who lived. He solemnly swears he's up to lots of good. H*ckin magical af 9.75/10 https://t.co/yBO5wuqaPS</td>\n",
       "      <td>75</td>\n",
       "      <td>10</td>\n",
       "    </tr>\n",
       "    <tr>\n",
       "      <th>763</th>\n",
       "      <td>This is Sophie. She's a Jubilant Bush Pupper. Super h*ckin rare. Appears at random just to smile at the locals. 11.27/10 would smile back https://t.co/QFaUiIHxHq</td>\n",
       "      <td>27</td>\n",
       "      <td>10</td>\n",
       "    </tr>\n",
       "    <tr>\n",
       "      <th>902</th>\n",
       "      <td>Why does this never happen at my front door... 165/150 https://t.co/HmwrdfEfUE</td>\n",
       "      <td>165</td>\n",
       "      <td>150</td>\n",
       "    </tr>\n",
       "    <tr>\n",
       "      <th>979</th>\n",
       "      <td>This is Atticus. He's quite simply America af. 1776/10 https://t.co/GRXwMxLBkh</td>\n",
       "      <td>1776</td>\n",
       "      <td>10</td>\n",
       "    </tr>\n",
       "    <tr>\n",
       "      <th>1120</th>\n",
       "      <td>Say hello to this unbelievably well behaved squad of doggos. 204/170 would try to pet all at once https://t.co/yGQI3He3xv</td>\n",
       "      <td>204</td>\n",
       "      <td>170</td>\n",
       "    </tr>\n",
       "    <tr>\n",
       "      <th>1228</th>\n",
       "      <td>Happy Saturday here's 9 puppers on a bench. 99/90 good work everybody https://t.co/mpvaVxKmc1</td>\n",
       "      <td>99</td>\n",
       "      <td>90</td>\n",
       "    </tr>\n",
       "    <tr>\n",
       "      <th>1254</th>\n",
       "      <td>Here's a brigade of puppers. All look very prepared for whatever happens next. 80/80 https://t.co/0eb7R1Om12</td>\n",
       "      <td>80</td>\n",
       "      <td>80</td>\n",
       "    </tr>\n",
       "    <tr>\n",
       "      <th>1274</th>\n",
       "      <td>From left to right:\\nCletus, Jerome, Alejandro, Burp, &amp;amp; Titson\\nNone know where camera is. 45/50 would hug all at once https://t.co/sedre1ivTK</td>\n",
       "      <td>45</td>\n",
       "      <td>50</td>\n",
       "    </tr>\n",
       "    <tr>\n",
       "      <th>1351</th>\n",
       "      <td>Here is a whole flock of puppers.  60/50 I'll take the lot https://t.co/9dpcw6MdWa</td>\n",
       "      <td>60</td>\n",
       "      <td>50</td>\n",
       "    </tr>\n",
       "    <tr>\n",
       "      <th>1433</th>\n",
       "      <td>Happy Wednesday here's a bucket of pups. 44/40 would pet all at once https://t.co/HppvrYuamZ</td>\n",
       "      <td>44</td>\n",
       "      <td>40</td>\n",
       "    </tr>\n",
       "    <tr>\n",
       "      <th>1635</th>\n",
       "      <td>Someone help the girl is being mugged. Several are distracting her while two steal her shoes. Clever puppers 121/110 https://t.co/1zfnTJLt55</td>\n",
       "      <td>121</td>\n",
       "      <td>110</td>\n",
       "    </tr>\n",
       "    <tr>\n",
       "      <th>1712</th>\n",
       "      <td>Here we have uncovered an entire battalion of holiday puppers. Average of 11.26/10 https://t.co/eNm2S6p9BD</td>\n",
       "      <td>26</td>\n",
       "      <td>10</td>\n",
       "    </tr>\n",
       "    <tr>\n",
       "      <th>1779</th>\n",
       "      <td>IT'S PUPPERGEDDON. Total of 144/120 ...I think https://t.co/ZanVtAtvIq</td>\n",
       "      <td>144</td>\n",
       "      <td>120</td>\n",
       "    </tr>\n",
       "    <tr>\n",
       "      <th>1843</th>\n",
       "      <td>Here we have an entire platoon of puppers. Total score: 88/80 would pet all at once https://t.co/y93p6FLvVw</td>\n",
       "      <td>88</td>\n",
       "      <td>80</td>\n",
       "    </tr>\n",
       "    <tr>\n",
       "      <th>2074</th>\n",
       "      <td>After so many requests... here you go.\\n\\nGood dogg. 420/10 https://t.co/yfAAo1gdeY</td>\n",
       "      <td>420</td>\n",
       "      <td>10</td>\n",
       "    </tr>\n",
       "  </tbody>\n",
       "</table>\n",
       "</div>"
      ],
      "text/plain": [
       "                                                                                                                                                                   text  \\\n",
       "433   The floofs have been released I repeat the floofs have been released. 84/70 https://t.co/NIYC820tmd                                                                 \n",
       "695   This is Logan, the Chow who lived. He solemnly swears he's up to lots of good. H*ckin magical af 9.75/10 https://t.co/yBO5wuqaPS                                    \n",
       "763   This is Sophie. She's a Jubilant Bush Pupper. Super h*ckin rare. Appears at random just to smile at the locals. 11.27/10 would smile back https://t.co/QFaUiIHxHq   \n",
       "902   Why does this never happen at my front door... 165/150 https://t.co/HmwrdfEfUE                                                                                      \n",
       "979   This is Atticus. He's quite simply America af. 1776/10 https://t.co/GRXwMxLBkh                                                                                      \n",
       "1120  Say hello to this unbelievably well behaved squad of doggos. 204/170 would try to pet all at once https://t.co/yGQI3He3xv                                           \n",
       "1228  Happy Saturday here's 9 puppers on a bench. 99/90 good work everybody https://t.co/mpvaVxKmc1                                                                       \n",
       "1254  Here's a brigade of puppers. All look very prepared for whatever happens next. 80/80 https://t.co/0eb7R1Om12                                                        \n",
       "1274  From left to right:\\nCletus, Jerome, Alejandro, Burp, &amp; Titson\\nNone know where camera is. 45/50 would hug all at once https://t.co/sedre1ivTK                  \n",
       "1351  Here is a whole flock of puppers.  60/50 I'll take the lot https://t.co/9dpcw6MdWa                                                                                  \n",
       "1433  Happy Wednesday here's a bucket of pups. 44/40 would pet all at once https://t.co/HppvrYuamZ                                                                        \n",
       "1635  Someone help the girl is being mugged. Several are distracting her while two steal her shoes. Clever puppers 121/110 https://t.co/1zfnTJLt55                        \n",
       "1712  Here we have uncovered an entire battalion of holiday puppers. Average of 11.26/10 https://t.co/eNm2S6p9BD                                                          \n",
       "1779  IT'S PUPPERGEDDON. Total of 144/120 ...I think https://t.co/ZanVtAtvIq                                                                                              \n",
       "1843  Here we have an entire platoon of puppers. Total score: 88/80 would pet all at once https://t.co/y93p6FLvVw                                                         \n",
       "2074  After so many requests... here you go.\\n\\nGood dogg. 420/10 https://t.co/yfAAo1gdeY                                                                                 \n",
       "\n",
       "      rating_numerator  rating_denominator  \n",
       "433   84                70                  \n",
       "695   75                10                  \n",
       "763   27                10                  \n",
       "902   165               150                 \n",
       "979   1776              10                  \n",
       "1120  204               170                 \n",
       "1228  99                90                  \n",
       "1254  80                80                  \n",
       "1274  45                50                  \n",
       "1351  60                50                  \n",
       "1433  44                40                  \n",
       "1635  121               110                 \n",
       "1712  26                10                  \n",
       "1779  144               120                 \n",
       "1843  88                80                  \n",
       "2074  420               10                  "
      ]
     },
     "execution_count": 57,
     "metadata": {},
     "output_type": "execute_result"
    }
   ],
   "source": [
    "# query all values were numerator value is greater than 10\n",
    "df1.iloc[:, column_array].query('rating_numerator > 14')"
   ]
  },
  {
   "cell_type": "code",
   "execution_count": 58,
   "metadata": {},
   "outputs": [],
   "source": [
    "# to remove\n",
    "df1.drop([979,2074], inplace=True)\n",
    "\n",
    "# adjust float ratings with decimals to nearest round number\n",
    "df1.loc[695,'rating_numerator'] = 10 # exact value is 9.75 \n",
    "df1.loc[763,'rating_numerator'] = 11 # exact value is 11.27 \n",
    "df1.loc[1712,'rating_numerator'] = 11 # exact value is 11.26 \n",
    "\n"
   ]
  },
  {
   "cell_type": "markdown",
   "metadata": {},
   "source": [
    "#### Test \n",
    "Use the same query to observe if abnormal numerators still exist"
   ]
  },
  {
   "cell_type": "code",
   "execution_count": 59,
   "metadata": {},
   "outputs": [
    {
     "data": {
      "text/html": [
       "<div>\n",
       "<style>\n",
       "    .dataframe thead tr:only-child th {\n",
       "        text-align: right;\n",
       "    }\n",
       "\n",
       "    .dataframe thead th {\n",
       "        text-align: left;\n",
       "    }\n",
       "\n",
       "    .dataframe tbody tr th {\n",
       "        vertical-align: top;\n",
       "    }\n",
       "</style>\n",
       "<table border=\"1\" class=\"dataframe\">\n",
       "  <thead>\n",
       "    <tr style=\"text-align: right;\">\n",
       "      <th></th>\n",
       "      <th>text</th>\n",
       "      <th>rating_numerator</th>\n",
       "      <th>rating_denominator</th>\n",
       "    </tr>\n",
       "  </thead>\n",
       "  <tbody>\n",
       "    <tr>\n",
       "      <th>433</th>\n",
       "      <td>The floofs have been released I repeat the floofs have been released. 84/70 https://t.co/NIYC820tmd</td>\n",
       "      <td>84</td>\n",
       "      <td>70</td>\n",
       "    </tr>\n",
       "    <tr>\n",
       "      <th>902</th>\n",
       "      <td>Why does this never happen at my front door... 165/150 https://t.co/HmwrdfEfUE</td>\n",
       "      <td>165</td>\n",
       "      <td>150</td>\n",
       "    </tr>\n",
       "    <tr>\n",
       "      <th>1120</th>\n",
       "      <td>Say hello to this unbelievably well behaved squad of doggos. 204/170 would try to pet all at once https://t.co/yGQI3He3xv</td>\n",
       "      <td>204</td>\n",
       "      <td>170</td>\n",
       "    </tr>\n",
       "    <tr>\n",
       "      <th>1228</th>\n",
       "      <td>Happy Saturday here's 9 puppers on a bench. 99/90 good work everybody https://t.co/mpvaVxKmc1</td>\n",
       "      <td>99</td>\n",
       "      <td>90</td>\n",
       "    </tr>\n",
       "    <tr>\n",
       "      <th>1254</th>\n",
       "      <td>Here's a brigade of puppers. All look very prepared for whatever happens next. 80/80 https://t.co/0eb7R1Om12</td>\n",
       "      <td>80</td>\n",
       "      <td>80</td>\n",
       "    </tr>\n",
       "    <tr>\n",
       "      <th>1274</th>\n",
       "      <td>From left to right:\\nCletus, Jerome, Alejandro, Burp, &amp;amp; Titson\\nNone know where camera is. 45/50 would hug all at once https://t.co/sedre1ivTK</td>\n",
       "      <td>45</td>\n",
       "      <td>50</td>\n",
       "    </tr>\n",
       "    <tr>\n",
       "      <th>1351</th>\n",
       "      <td>Here is a whole flock of puppers.  60/50 I'll take the lot https://t.co/9dpcw6MdWa</td>\n",
       "      <td>60</td>\n",
       "      <td>50</td>\n",
       "    </tr>\n",
       "    <tr>\n",
       "      <th>1433</th>\n",
       "      <td>Happy Wednesday here's a bucket of pups. 44/40 would pet all at once https://t.co/HppvrYuamZ</td>\n",
       "      <td>44</td>\n",
       "      <td>40</td>\n",
       "    </tr>\n",
       "    <tr>\n",
       "      <th>1635</th>\n",
       "      <td>Someone help the girl is being mugged. Several are distracting her while two steal her shoes. Clever puppers 121/110 https://t.co/1zfnTJLt55</td>\n",
       "      <td>121</td>\n",
       "      <td>110</td>\n",
       "    </tr>\n",
       "    <tr>\n",
       "      <th>1779</th>\n",
       "      <td>IT'S PUPPERGEDDON. Total of 144/120 ...I think https://t.co/ZanVtAtvIq</td>\n",
       "      <td>144</td>\n",
       "      <td>120</td>\n",
       "    </tr>\n",
       "    <tr>\n",
       "      <th>1843</th>\n",
       "      <td>Here we have an entire platoon of puppers. Total score: 88/80 would pet all at once https://t.co/y93p6FLvVw</td>\n",
       "      <td>88</td>\n",
       "      <td>80</td>\n",
       "    </tr>\n",
       "  </tbody>\n",
       "</table>\n",
       "</div>"
      ],
      "text/plain": [
       "                                                                                                                                                    text  \\\n",
       "433   The floofs have been released I repeat the floofs have been released. 84/70 https://t.co/NIYC820tmd                                                  \n",
       "902   Why does this never happen at my front door... 165/150 https://t.co/HmwrdfEfUE                                                                       \n",
       "1120  Say hello to this unbelievably well behaved squad of doggos. 204/170 would try to pet all at once https://t.co/yGQI3He3xv                            \n",
       "1228  Happy Saturday here's 9 puppers on a bench. 99/90 good work everybody https://t.co/mpvaVxKmc1                                                        \n",
       "1254  Here's a brigade of puppers. All look very prepared for whatever happens next. 80/80 https://t.co/0eb7R1Om12                                         \n",
       "1274  From left to right:\\nCletus, Jerome, Alejandro, Burp, &amp; Titson\\nNone know where camera is. 45/50 would hug all at once https://t.co/sedre1ivTK   \n",
       "1351  Here is a whole flock of puppers.  60/50 I'll take the lot https://t.co/9dpcw6MdWa                                                                   \n",
       "1433  Happy Wednesday here's a bucket of pups. 44/40 would pet all at once https://t.co/HppvrYuamZ                                                         \n",
       "1635  Someone help the girl is being mugged. Several are distracting her while two steal her shoes. Clever puppers 121/110 https://t.co/1zfnTJLt55         \n",
       "1779  IT'S PUPPERGEDDON. Total of 144/120 ...I think https://t.co/ZanVtAtvIq                                                                               \n",
       "1843  Here we have an entire platoon of puppers. Total score: 88/80 would pet all at once https://t.co/y93p6FLvVw                                          \n",
       "\n",
       "      rating_numerator  rating_denominator  \n",
       "433   84                70                  \n",
       "902   165               150                 \n",
       "1120  204               170                 \n",
       "1228  99                90                  \n",
       "1254  80                80                  \n",
       "1274  45                50                  \n",
       "1351  60                50                  \n",
       "1433  44                40                  \n",
       "1635  121               110                 \n",
       "1779  144               120                 \n",
       "1843  88                80                  "
      ]
     },
     "execution_count": 59,
     "metadata": {},
     "output_type": "execute_result"
    }
   ],
   "source": [
    "df1.iloc[:, column_array].query('rating_numerator > 14')"
   ]
  },
  {
   "cell_type": "markdown",
   "metadata": {},
   "source": [
    "#### Issue\n",
    "'source' identifies a URL which is too specific to be useful as discrete data for analaysis"
   ]
  },
  {
   "cell_type": "markdown",
   "metadata": {},
   "source": [
    "#### Define\n",
    "Change data in 'source' to just indicate 'twitter' or 'vine"
   ]
  },
  {
   "cell_type": "code",
   "execution_count": 60,
   "metadata": {},
   "outputs": [],
   "source": [
    "#use a basic regular expression 'twitter' or 'vine\n",
    "df1['source'] = df1.source.str.extract('(twitter|vine)', expand=True)"
   ]
  },
  {
   "cell_type": "markdown",
   "metadata": {},
   "source": [
    "#### Test\n",
    "Check to see source field as been changed to be more legible with no null values"
   ]
  },
  {
   "cell_type": "code",
   "execution_count": 61,
   "metadata": {},
   "outputs": [
    {
     "data": {
      "text/plain": [
       "twitter    1997\n",
       "vine       91  \n",
       "Name: source, dtype: int64"
      ]
     },
     "execution_count": 61,
     "metadata": {},
     "output_type": "execute_result"
    }
   ],
   "source": [
    "df1.source.value_counts()"
   ]
  },
  {
   "cell_type": "markdown",
   "metadata": {},
   "source": [
    "#### Issue\n",
    "'expanded_urls' is not grouped together in discrete buckets to be useful for data analysis"
   ]
  },
  {
   "cell_type": "markdown",
   "metadata": {},
   "source": [
    "#### Define\n",
    "Change 'expanded_urls' column to indicate whether 'photo','video','vine' or 'external post'"
   ]
  },
  {
   "cell_type": "code",
   "execution_count": 62,
   "metadata": {},
   "outputs": [],
   "source": [
    "# Define 'condition' and 'choice' and use with np.select\n",
    "# REF: https://stackoverflow.com/questions/19913659/pandas-conditional-creation-of-a-series-dataframe-column\n",
    "conditions = [(df1['expanded_urls'].str[-7:-2] == 'photo'), (df1['expanded_urls'].str[-7:-2] == 'video'), \n",
    "             df1['expanded_urls'].str.contains('vine'), df1['expanded_urls'].str.contains('twitter')]\n",
    "choices = ['rateDogs photo', 'rateDogs video', 'rateDogs vine', 'external twitter post']\n"
   ]
  },
  {
   "cell_type": "code",
   "execution_count": 63,
   "metadata": {},
   "outputs": [],
   "source": [
    "# specify a default to ensure all conditions are met\n",
    "df1['expanded_urls'] = np.select(conditions, choices, default='Condition mismatch')"
   ]
  },
  {
   "cell_type": "markdown",
   "metadata": {},
   "source": [
    "#### Test"
   ]
  },
  {
   "cell_type": "code",
   "execution_count": 64,
   "metadata": {},
   "outputs": [
    {
     "data": {
      "text/plain": [
       "rateDogs photo           1896\n",
       "rateDogs vine            91  \n",
       "rateDogs video           72  \n",
       "external twitter post    29  \n",
       "Name: expanded_urls, dtype: int64"
      ]
     },
     "execution_count": 64,
     "metadata": {},
     "output_type": "execute_result"
    }
   ],
   "source": [
    "df1.expanded_urls.value_counts()"
   ]
  },
  {
   "cell_type": "markdown",
   "metadata": {},
   "source": [
    "#### Issue\n",
    "TIDINESS: Ratings is split up into two columns: numerator and denominator"
   ]
  },
  {
   "cell_type": "markdown",
   "metadata": {},
   "source": [
    "#### Define\n",
    "Normalize denominator to 10 to get rating value in a new column called *rating*. Also convert to type 'interger'"
   ]
  },
  {
   "cell_type": "code",
   "execution_count": 65,
   "metadata": {},
   "outputs": [],
   "source": [
    "df1['rating'] = (df1.rating_numerator/(df1.rating_denominator/10)).astype(int)"
   ]
  },
  {
   "cell_type": "markdown",
   "metadata": {},
   "source": [
    "#### Test"
   ]
  },
  {
   "cell_type": "code",
   "execution_count": 66,
   "metadata": {},
   "outputs": [
    {
     "data": {
      "text/plain": [
       "12    489\n",
       "10    435\n",
       "11    421\n",
       "13    287\n",
       "9     154\n",
       "8     98 \n",
       "7     51 \n",
       "14    39 \n",
       "5     34 \n",
       "6     32 \n",
       "3     19 \n",
       "4     15 \n",
       "2     9  \n",
       "1     4  \n",
       "0     1  \n",
       "Name: rating, dtype: int64"
      ]
     },
     "execution_count": 66,
     "metadata": {},
     "output_type": "execute_result"
    }
   ],
   "source": [
    "df1.rating.value_counts()"
   ]
  },
  {
   "cell_type": "markdown",
   "metadata": {},
   "source": [
    "#### Issue\n",
    "Inconsistency in the dog stage values, where confirmation of value received from 'text' field"
   ]
  },
  {
   "cell_type": "markdown",
   "metadata": {},
   "source": [
    "#### Define\n",
    "Fill into values into the appropriate dog stage columns based on values in the text column"
   ]
  },
  {
   "cell_type": "code",
   "execution_count": 67,
   "metadata": {},
   "outputs": [],
   "source": [
    "#Find doggo mismatch indexes and change using .loc\n",
    "doggo_index = df1[df1.text.str.contains('doggo') & (df1.doggo != 'doggo')].index\n",
    "df1.loc[doggo_index, 'doggo'] = 'doggo'\n",
    "#Find floofer mismatch indexes and change using .loc\n",
    "floofer_index = df1[df1.text.str.contains('floofer') & (df1.floofer != 'floofer')].index\n",
    "df1.loc[floofer_index, 'floofer'] = 'floofer'\n",
    "#Find pupper mismatch indexes and change using .loc\n",
    "pupper_index = df1[df1.text.str.contains('pupper') & (df1.pupper != 'pupper')].index\n",
    "df1.loc[pupper_index, 'pupper'] = 'pupper'\n",
    "#Find puppo mismatch indexes and change using .loc\n",
    "puppo_index = df1[df1.text.str.contains('puppo') & (df1.puppo != 'puppo')].index\n",
    "df1.loc[puppo_index, 'puppo'] = 'puppo'"
   ]
  },
  {
   "cell_type": "markdown",
   "metadata": {},
   "source": [
    "#### Test"
   ]
  },
  {
   "cell_type": "code",
   "execution_count": 68,
   "metadata": {},
   "outputs": [
    {
     "data": {
      "text/plain": [
       "'Number of times value in text column mismatches with dog stages: doggo=0, floofer=0, pupper=0, puppo=0'"
      ]
     },
     "execution_count": 68,
     "metadata": {},
     "output_type": "execute_result"
    }
   ],
   "source": [
    "'Number of times value in text column mismatches with dog stages: doggo={0}, floofer={1}, pupper={2}, puppo={3}'.format(len(df1[(df1.doggo!='doggo') & df1.text.str.contains('doggo')]),len(df1[(df1.floofer!='floofer') & df1.text.str.contains('floofer')]),len(df1[(df1.pupper!='pupper') & df1.text.str.contains('pupper')]),len(df1[(df1.puppo!='puppo') & df1.text.str.contains('puppo')]))"
   ]
  },
  {
   "cell_type": "markdown",
   "metadata": {},
   "source": [
    "#### Issue\n",
    "Columns on dataframe not necessary for dataanalysis and also columns need to be removed once used for analysis"
   ]
  },
  {
   "cell_type": "markdown",
   "metadata": {},
   "source": [
    "#### Define\n",
    "Remove columns 'name' as it has too many unknown values and provided no value for analysis\n",
    "Remove columns 'in_reply_to_status_id', 'in_reply_to_user_id', 'text', 'retweeted_status_is', 'retweeted_status_user_id', 'retweeted_status_timestamp', 'rating_numerator', 'rating_denominator'"
   ]
  },
  {
   "cell_type": "code",
   "execution_count": 69,
   "metadata": {},
   "outputs": [
    {
     "data": {
      "text/plain": [
       "Index(['tweet_id', 'in_reply_to_status_id', 'in_reply_to_user_id', 'timestamp',\n",
       "       'source', 'text', 'retweeted_status_id', 'retweeted_status_user_id',\n",
       "       'retweeted_status_timestamp', 'expanded_urls', 'rating_numerator',\n",
       "       'rating_denominator', 'name', 'doggo', 'floofer', 'pupper', 'puppo',\n",
       "       'rating'],\n",
       "      dtype='object')"
      ]
     },
     "execution_count": 69,
     "metadata": {},
     "output_type": "execute_result"
    }
   ],
   "source": [
    "df1.columns"
   ]
  },
  {
   "cell_type": "code",
   "execution_count": 70,
   "metadata": {},
   "outputs": [],
   "source": [
    "# make a copy at this point in case need to go back to reassess and clean\n",
    "df1final = df1.copy()"
   ]
  },
  {
   "cell_type": "code",
   "execution_count": 71,
   "metadata": {},
   "outputs": [],
   "source": [
    "# axis = 1 means drop columns\n",
    "df1final.drop(['in_reply_to_status_id', 'in_reply_to_user_id', 'text', 'retweeted_status_id', 'retweeted_status_user_id', 'retweeted_status_timestamp', 'rating_numerator', 'rating_denominator', 'name'], axis=1, inplace=True)"
   ]
  },
  {
   "cell_type": "markdown",
   "metadata": {},
   "source": [
    "#### Test"
   ]
  },
  {
   "cell_type": "code",
   "execution_count": 72,
   "metadata": {},
   "outputs": [
    {
     "name": "stdout",
     "output_type": "stream",
     "text": [
      "<class 'pandas.core.frame.DataFrame'>\n",
      "Int64Index: 2088 entries, 0 to 2355\n",
      "Data columns (total 9 columns):\n",
      "tweet_id         2088 non-null int64\n",
      "timestamp        2088 non-null datetime64[ns]\n",
      "source           2088 non-null object\n",
      "expanded_urls    2088 non-null object\n",
      "doggo            2088 non-null object\n",
      "floofer          2088 non-null object\n",
      "pupper           2088 non-null object\n",
      "puppo            2088 non-null object\n",
      "rating           2088 non-null int64\n",
      "dtypes: datetime64[ns](1), int64(2), object(6)\n",
      "memory usage: 163.1+ KB\n"
     ]
    }
   ],
   "source": [
    "df1final.info()"
   ]
  },
  {
   "cell_type": "markdown",
   "metadata": {},
   "source": [
    "#### Issue\n",
    "TIDYNESS: dog stages ('doggo', 'floofer', 'pupper', 'puppo') are dog classifications set up as a column header"
   ]
  },
  {
   "cell_type": "markdown",
   "metadata": {},
   "source": [
    "#### Define\n",
    "Melt the 'doggo', 'floofer', 'pupper', 'puppo' columns into a single column"
   ]
  },
  {
   "cell_type": "code",
   "execution_count": 73,
   "metadata": {},
   "outputs": [],
   "source": [
    "meltcol = ['doggo', 'floofer', 'pupper', 'puppo']\n",
    "staycol = ['tweet_id','timestamp', 'source', 'expanded_urls', 'rating']\n",
    "df1final = pd.melt(df1final, id_vars = staycol, value_vars = meltcol, value_name = 'dog_stage').drop('variable', axis=1)"
   ]
  },
  {
   "cell_type": "code",
   "execution_count": 74,
   "metadata": {},
   "outputs": [
    {
     "data": {
      "text/plain": [
       "(8352, 6)"
      ]
     },
     "execution_count": 74,
     "metadata": {},
     "output_type": "execute_result"
    }
   ],
   "source": [
    "df1final.shape"
   ]
  },
  {
   "cell_type": "code",
   "execution_count": 75,
   "metadata": {},
   "outputs": [],
   "source": [
    "## since melt results in many duplicate values\n",
    "df1final = df1final.drop_duplicates().sort_values(['tweet_id', 'dog_stage']).drop_duplicates('tweet_id', keep = 'last')"
   ]
  },
  {
   "cell_type": "markdown",
   "metadata": {},
   "source": [
    "#### Test\n"
   ]
  },
  {
   "cell_type": "code",
   "execution_count": 76,
   "metadata": {},
   "outputs": [
    {
     "data": {
      "text/plain": [
       "None       1718\n",
       "pupper     251 \n",
       "doggo      79  \n",
       "puppo      30  \n",
       "floofer    10  \n",
       "Name: dog_stage, dtype: int64"
      ]
     },
     "execution_count": 76,
     "metadata": {},
     "output_type": "execute_result"
    }
   ],
   "source": [
    "df1final.dog_stage.value_counts()"
   ]
  },
  {
   "cell_type": "markdown",
   "metadata": {},
   "source": [
    "#### Issue\n",
    "DATAFRAME2 - the dog breed predictor data consists of many guesses"
   ]
  },
  {
   "cell_type": "markdown",
   "metadata": {},
   "source": [
    "#### Define\n",
    "Use conditional statements to only output a single guess for dog breed accompanied by its confidence"
   ]
  },
  {
   "cell_type": "code",
   "execution_count": 77,
   "metadata": {},
   "outputs": [],
   "source": [
    "df2 = dfbreed.copy()"
   ]
  },
  {
   "cell_type": "code",
   "execution_count": 78,
   "metadata": {},
   "outputs": [
    {
     "data": {
      "text/html": [
       "<div>\n",
       "<style>\n",
       "    .dataframe thead tr:only-child th {\n",
       "        text-align: right;\n",
       "    }\n",
       "\n",
       "    .dataframe thead th {\n",
       "        text-align: left;\n",
       "    }\n",
       "\n",
       "    .dataframe tbody tr th {\n",
       "        vertical-align: top;\n",
       "    }\n",
       "</style>\n",
       "<table border=\"1\" class=\"dataframe\">\n",
       "  <thead>\n",
       "    <tr style=\"text-align: right;\">\n",
       "      <th></th>\n",
       "      <th>tweet_id</th>\n",
       "      <th>jpg_url</th>\n",
       "      <th>img_num</th>\n",
       "      <th>p1</th>\n",
       "      <th>p1_conf</th>\n",
       "      <th>p1_dog</th>\n",
       "      <th>p2</th>\n",
       "      <th>p2_conf</th>\n",
       "      <th>p2_dog</th>\n",
       "      <th>p3</th>\n",
       "      <th>p3_conf</th>\n",
       "      <th>p3_dog</th>\n",
       "    </tr>\n",
       "  </thead>\n",
       "  <tbody>\n",
       "    <tr>\n",
       "      <th>2070</th>\n",
       "      <td>891327558926688256</td>\n",
       "      <td>https://pbs.twimg.com/media/DF6hr6BUMAAzZgT.jpg</td>\n",
       "      <td>2</td>\n",
       "      <td>basset</td>\n",
       "      <td>0.555712</td>\n",
       "      <td>True</td>\n",
       "      <td>English_springer</td>\n",
       "      <td>0.225770</td>\n",
       "      <td>True</td>\n",
       "      <td>German_short-haired_pointer</td>\n",
       "      <td>0.175219</td>\n",
       "      <td>True</td>\n",
       "    </tr>\n",
       "    <tr>\n",
       "      <th>2071</th>\n",
       "      <td>891689557279858688</td>\n",
       "      <td>https://pbs.twimg.com/media/DF_q7IAWsAEuuN8.jpg</td>\n",
       "      <td>1</td>\n",
       "      <td>paper_towel</td>\n",
       "      <td>0.170278</td>\n",
       "      <td>False</td>\n",
       "      <td>Labrador_retriever</td>\n",
       "      <td>0.168086</td>\n",
       "      <td>True</td>\n",
       "      <td>spatula</td>\n",
       "      <td>0.040836</td>\n",
       "      <td>False</td>\n",
       "    </tr>\n",
       "    <tr>\n",
       "      <th>2072</th>\n",
       "      <td>891815181378084864</td>\n",
       "      <td>https://pbs.twimg.com/media/DGBdLU1WsAANxJ9.jpg</td>\n",
       "      <td>1</td>\n",
       "      <td>Chihuahua</td>\n",
       "      <td>0.716012</td>\n",
       "      <td>True</td>\n",
       "      <td>malamute</td>\n",
       "      <td>0.078253</td>\n",
       "      <td>True</td>\n",
       "      <td>kelpie</td>\n",
       "      <td>0.031379</td>\n",
       "      <td>True</td>\n",
       "    </tr>\n",
       "    <tr>\n",
       "      <th>2073</th>\n",
       "      <td>892177421306343426</td>\n",
       "      <td>https://pbs.twimg.com/media/DGGmoV4XsAAUL6n.jpg</td>\n",
       "      <td>1</td>\n",
       "      <td>Chihuahua</td>\n",
       "      <td>0.323581</td>\n",
       "      <td>True</td>\n",
       "      <td>Pekinese</td>\n",
       "      <td>0.090647</td>\n",
       "      <td>True</td>\n",
       "      <td>papillon</td>\n",
       "      <td>0.068957</td>\n",
       "      <td>True</td>\n",
       "    </tr>\n",
       "    <tr>\n",
       "      <th>2074</th>\n",
       "      <td>892420643555336193</td>\n",
       "      <td>https://pbs.twimg.com/media/DGKD1-bXoAAIAUK.jpg</td>\n",
       "      <td>1</td>\n",
       "      <td>orange</td>\n",
       "      <td>0.097049</td>\n",
       "      <td>False</td>\n",
       "      <td>bagel</td>\n",
       "      <td>0.085851</td>\n",
       "      <td>False</td>\n",
       "      <td>banana</td>\n",
       "      <td>0.076110</td>\n",
       "      <td>False</td>\n",
       "    </tr>\n",
       "  </tbody>\n",
       "</table>\n",
       "</div>"
      ],
      "text/plain": [
       "                tweet_id                                          jpg_url  \\\n",
       "2070  891327558926688256  https://pbs.twimg.com/media/DF6hr6BUMAAzZgT.jpg   \n",
       "2071  891689557279858688  https://pbs.twimg.com/media/DF_q7IAWsAEuuN8.jpg   \n",
       "2072  891815181378084864  https://pbs.twimg.com/media/DGBdLU1WsAANxJ9.jpg   \n",
       "2073  892177421306343426  https://pbs.twimg.com/media/DGGmoV4XsAAUL6n.jpg   \n",
       "2074  892420643555336193  https://pbs.twimg.com/media/DGKD1-bXoAAIAUK.jpg   \n",
       "\n",
       "      img_num           p1   p1_conf  p1_dog                  p2   p2_conf  \\\n",
       "2070  2        basset       0.555712  True    English_springer    0.225770   \n",
       "2071  1        paper_towel  0.170278  False   Labrador_retriever  0.168086   \n",
       "2072  1        Chihuahua    0.716012  True    malamute            0.078253   \n",
       "2073  1        Chihuahua    0.323581  True    Pekinese            0.090647   \n",
       "2074  1        orange       0.097049  False   bagel               0.085851   \n",
       "\n",
       "      p2_dog                           p3   p3_conf  p3_dog  \n",
       "2070  True    German_short-haired_pointer  0.175219  True    \n",
       "2071  True    spatula                      0.040836  False   \n",
       "2072  True    kelpie                       0.031379  True    \n",
       "2073  True    papillon                     0.068957  True    \n",
       "2074  False   banana                       0.076110  False   "
      ]
     },
     "execution_count": 78,
     "metadata": {},
     "output_type": "execute_result"
    }
   ],
   "source": [
    "df2.tail()"
   ]
  },
  {
   "cell_type": "code",
   "execution_count": 79,
   "metadata": {},
   "outputs": [],
   "source": [
    "# Define 'condition' and 'choice' and use with np.select\n",
    "# REF: https://stackoverflow.com/questions/19913659/pandas-conditional-creation-of-a-series-dataframe-column\n",
    "conditions = [(df2.p1_dog == True), (df2.p2_dog == True), (df2.p3_dog == True)]\n",
    "dog_result = [df2.p1, df2.p2, df2.p3]\n",
    "conf_result = [df2.p1_conf, df2.p2_conf, df2.p3_conf]\n",
    "\n",
    "df2['dog_prediction'] = np.select(conditions, dog_result, default = np.nan)\n",
    "df2['prediction_confidence'] = np.select(conditions, conf_result, default = np.nan)"
   ]
  },
  {
   "cell_type": "markdown",
   "metadata": {},
   "source": [
    "#### Test"
   ]
  },
  {
   "cell_type": "code",
   "execution_count": 80,
   "metadata": {},
   "outputs": [
    {
     "data": {
      "text/plain": [
       "golden_retriever      173\n",
       "Labrador_retriever    113\n",
       "Pembroke              96 \n",
       "Chihuahua             95 \n",
       "pug                   65 \n",
       "Name: dog_prediction, dtype: int64"
      ]
     },
     "execution_count": 80,
     "metadata": {},
     "output_type": "execute_result"
    }
   ],
   "source": [
    "df2.dog_prediction.value_counts().head()"
   ]
  },
  {
   "cell_type": "code",
   "execution_count": 81,
   "metadata": {},
   "outputs": [
    {
     "data": {
      "text/plain": [
       "324"
      ]
     },
     "execution_count": 81,
     "metadata": {},
     "output_type": "execute_result"
    }
   ],
   "source": [
    "# check for prediction confidence being null whenever 'dog not found'\n",
    "sum(df2.prediction_confidence.isnull())"
   ]
  },
  {
   "cell_type": "code",
   "execution_count": 82,
   "metadata": {},
   "outputs": [
    {
     "data": {
      "text/html": [
       "<div>\n",
       "<style>\n",
       "    .dataframe thead tr:only-child th {\n",
       "        text-align: right;\n",
       "    }\n",
       "\n",
       "    .dataframe thead th {\n",
       "        text-align: left;\n",
       "    }\n",
       "\n",
       "    .dataframe tbody tr th {\n",
       "        vertical-align: top;\n",
       "    }\n",
       "</style>\n",
       "<table border=\"1\" class=\"dataframe\">\n",
       "  <thead>\n",
       "    <tr style=\"text-align: right;\">\n",
       "      <th></th>\n",
       "      <th>tweet_id</th>\n",
       "      <th>jpg_url</th>\n",
       "      <th>img_num</th>\n",
       "      <th>p1</th>\n",
       "      <th>p1_conf</th>\n",
       "      <th>p1_dog</th>\n",
       "      <th>p2</th>\n",
       "      <th>p2_conf</th>\n",
       "      <th>p2_dog</th>\n",
       "      <th>p3</th>\n",
       "      <th>p3_conf</th>\n",
       "      <th>p3_dog</th>\n",
       "      <th>dog_prediction</th>\n",
       "      <th>prediction_confidence</th>\n",
       "    </tr>\n",
       "  </thead>\n",
       "  <tbody>\n",
       "    <tr>\n",
       "      <th>6</th>\n",
       "      <td>666051853826850816</td>\n",
       "      <td>https://pbs.twimg.com/media/CT5KoJ1WoAAJash.jpg</td>\n",
       "      <td>1</td>\n",
       "      <td>box_turtle</td>\n",
       "      <td>0.933012</td>\n",
       "      <td>False</td>\n",
       "      <td>mud_turtle</td>\n",
       "      <td>0.045885</td>\n",
       "      <td>False</td>\n",
       "      <td>terrapin</td>\n",
       "      <td>0.017885</td>\n",
       "      <td>False</td>\n",
       "      <td>NaN</td>\n",
       "      <td>NaN</td>\n",
       "    </tr>\n",
       "    <tr>\n",
       "      <th>17</th>\n",
       "      <td>666104133288665088</td>\n",
       "      <td>https://pbs.twimg.com/media/CT56LSZWoAAlJj2.jpg</td>\n",
       "      <td>1</td>\n",
       "      <td>hen</td>\n",
       "      <td>0.965932</td>\n",
       "      <td>False</td>\n",
       "      <td>cock</td>\n",
       "      <td>0.033919</td>\n",
       "      <td>False</td>\n",
       "      <td>partridge</td>\n",
       "      <td>0.000052</td>\n",
       "      <td>False</td>\n",
       "      <td>NaN</td>\n",
       "      <td>NaN</td>\n",
       "    </tr>\n",
       "    <tr>\n",
       "      <th>18</th>\n",
       "      <td>666268910803644416</td>\n",
       "      <td>https://pbs.twimg.com/media/CT8QCd1WEAADXws.jpg</td>\n",
       "      <td>1</td>\n",
       "      <td>desktop_computer</td>\n",
       "      <td>0.086502</td>\n",
       "      <td>False</td>\n",
       "      <td>desk</td>\n",
       "      <td>0.085547</td>\n",
       "      <td>False</td>\n",
       "      <td>bookcase</td>\n",
       "      <td>0.079480</td>\n",
       "      <td>False</td>\n",
       "      <td>NaN</td>\n",
       "      <td>NaN</td>\n",
       "    </tr>\n",
       "    <tr>\n",
       "      <th>21</th>\n",
       "      <td>666293911632134144</td>\n",
       "      <td>https://pbs.twimg.com/media/CT8mx7KW4AEQu8N.jpg</td>\n",
       "      <td>1</td>\n",
       "      <td>three-toed_sloth</td>\n",
       "      <td>0.914671</td>\n",
       "      <td>False</td>\n",
       "      <td>otter</td>\n",
       "      <td>0.015250</td>\n",
       "      <td>False</td>\n",
       "      <td>great_grey_owl</td>\n",
       "      <td>0.013207</td>\n",
       "      <td>False</td>\n",
       "      <td>NaN</td>\n",
       "      <td>NaN</td>\n",
       "    </tr>\n",
       "    <tr>\n",
       "      <th>25</th>\n",
       "      <td>666362758909284353</td>\n",
       "      <td>https://pbs.twimg.com/media/CT9lXGsUcAAyUFt.jpg</td>\n",
       "      <td>1</td>\n",
       "      <td>guinea_pig</td>\n",
       "      <td>0.996496</td>\n",
       "      <td>False</td>\n",
       "      <td>skunk</td>\n",
       "      <td>0.002402</td>\n",
       "      <td>False</td>\n",
       "      <td>hamster</td>\n",
       "      <td>0.000461</td>\n",
       "      <td>False</td>\n",
       "      <td>NaN</td>\n",
       "      <td>NaN</td>\n",
       "    </tr>\n",
       "  </tbody>\n",
       "</table>\n",
       "</div>"
      ],
      "text/plain": [
       "              tweet_id                                          jpg_url  \\\n",
       "6   666051853826850816  https://pbs.twimg.com/media/CT5KoJ1WoAAJash.jpg   \n",
       "17  666104133288665088  https://pbs.twimg.com/media/CT56LSZWoAAlJj2.jpg   \n",
       "18  666268910803644416  https://pbs.twimg.com/media/CT8QCd1WEAADXws.jpg   \n",
       "21  666293911632134144  https://pbs.twimg.com/media/CT8mx7KW4AEQu8N.jpg   \n",
       "25  666362758909284353  https://pbs.twimg.com/media/CT9lXGsUcAAyUFt.jpg   \n",
       "\n",
       "    img_num                p1   p1_conf  p1_dog          p2   p2_conf  p2_dog  \\\n",
       "6   1        box_turtle        0.933012  False   mud_turtle  0.045885  False    \n",
       "17  1        hen               0.965932  False   cock        0.033919  False    \n",
       "18  1        desktop_computer  0.086502  False   desk        0.085547  False    \n",
       "21  1        three-toed_sloth  0.914671  False   otter       0.015250  False    \n",
       "25  1        guinea_pig        0.996496  False   skunk       0.002402  False    \n",
       "\n",
       "                p3   p3_conf  p3_dog dog_prediction  prediction_confidence  \n",
       "6   terrapin        0.017885  False   NaN           NaN                     \n",
       "17  partridge       0.000052  False   NaN           NaN                     \n",
       "18  bookcase        0.079480  False   NaN           NaN                     \n",
       "21  great_grey_owl  0.013207  False   NaN           NaN                     \n",
       "25  hamster         0.000461  False   NaN           NaN                     "
      ]
     },
     "execution_count": 82,
     "metadata": {},
     "output_type": "execute_result"
    }
   ],
   "source": [
    "df2[df2.dog_prediction.isnull()].head()"
   ]
  },
  {
   "cell_type": "markdown",
   "metadata": {},
   "source": [
    "#### Define\n",
    "Remove all columns except the Primary key column(tweet_id) and the newly created dog and confidence columns"
   ]
  },
  {
   "cell_type": "code",
   "execution_count": 83,
   "metadata": {},
   "outputs": [],
   "source": [
    "# Drop statemnt\n",
    "df2.drop(['jpg_url', 'img_num', 'p1', 'p1_conf', 'p1_dog', 'p2','p2_conf', 'p2_dog', 'p3', 'p3_conf', 'p3_dog'], axis=1, inplace = True)"
   ]
  },
  {
   "cell_type": "markdown",
   "metadata": {},
   "source": [
    "#### Test (and Analyze)"
   ]
  },
  {
   "cell_type": "code",
   "execution_count": 84,
   "metadata": {},
   "outputs": [
    {
     "name": "stdout",
     "output_type": "stream",
     "text": [
      "<class 'pandas.core.frame.DataFrame'>\n",
      "RangeIndex: 2075 entries, 0 to 2074\n",
      "Data columns (total 3 columns):\n",
      "tweet_id                 2075 non-null int64\n",
      "dog_prediction           1751 non-null object\n",
      "prediction_confidence    1751 non-null float64\n",
      "dtypes: float64(1), int64(1), object(1)\n",
      "memory usage: 48.7+ KB\n"
     ]
    }
   ],
   "source": [
    "df2.info()"
   ]
  },
  {
   "cell_type": "code",
   "execution_count": 85,
   "metadata": {},
   "outputs": [
    {
     "data": {
      "text/plain": [
       "0    0.465074\n",
       "Name: prediction_confidence, dtype: float64"
      ]
     },
     "execution_count": 85,
     "metadata": {},
     "output_type": "execute_result"
    }
   ],
   "source": [
    "# Convert prediction confidence to a float type\n",
    "df2.prediction_confidence.astype(float).head(1)"
   ]
  },
  {
   "cell_type": "code",
   "execution_count": 86,
   "metadata": {},
   "outputs": [
    {
     "data": {
      "text/html": [
       "<div>\n",
       "<style>\n",
       "    .dataframe thead tr:only-child th {\n",
       "        text-align: right;\n",
       "    }\n",
       "\n",
       "    .dataframe thead th {\n",
       "        text-align: left;\n",
       "    }\n",
       "\n",
       "    .dataframe tbody tr th {\n",
       "        vertical-align: top;\n",
       "    }\n",
       "</style>\n",
       "<table border=\"1\" class=\"dataframe\">\n",
       "  <thead>\n",
       "    <tr style=\"text-align: right;\">\n",
       "      <th></th>\n",
       "      <th>dog_prediction</th>\n",
       "      <th>prediction_confidence</th>\n",
       "    </tr>\n",
       "  </thead>\n",
       "  <tbody>\n",
       "    <tr>\n",
       "      <th>34</th>\n",
       "      <td>Irish_wolfhound</td>\n",
       "      <td>0.063078</td>\n",
       "    </tr>\n",
       "    <tr>\n",
       "      <th>11</th>\n",
       "      <td>Bouvier_des_Flandres</td>\n",
       "      <td>0.082610</td>\n",
       "    </tr>\n",
       "    <tr>\n",
       "      <th>57</th>\n",
       "      <td>Scottish_deerhound</td>\n",
       "      <td>0.143519</td>\n",
       "    </tr>\n",
       "    <tr>\n",
       "      <th>46</th>\n",
       "      <td>Norwich_terrier</td>\n",
       "      <td>0.246893</td>\n",
       "    </tr>\n",
       "    <tr>\n",
       "      <th>80</th>\n",
       "      <td>cairn</td>\n",
       "      <td>0.262196</td>\n",
       "    </tr>\n",
       "  </tbody>\n",
       "</table>\n",
       "</div>"
      ],
      "text/plain": [
       "          dog_prediction  prediction_confidence\n",
       "34  Irish_wolfhound       0.063078             \n",
       "11  Bouvier_des_Flandres  0.082610             \n",
       "57  Scottish_deerhound    0.143519             \n",
       "46  Norwich_terrier       0.246893             \n",
       "80  cairn                 0.262196             "
      ]
     },
     "execution_count": 86,
     "metadata": {},
     "output_type": "execute_result"
    }
   ],
   "source": [
    "# Use group by to observe the mean prediction confidence values\n",
    "df2.groupby(['dog_prediction'], as_index=False)['prediction_confidence'].mean().sort_values('prediction_confidence').head()"
   ]
  },
  {
   "cell_type": "code",
   "execution_count": 87,
   "metadata": {},
   "outputs": [
    {
     "data": {
      "text/plain": [
       "'1 1 4'"
      ]
     },
     "execution_count": 87,
     "metadata": {},
     "output_type": "execute_result"
    }
   ],
   "source": [
    "# Count for dogs of the lowest predictions confidence levels\n",
    "'{} {} {}'.format(df2.dog_prediction.value_counts()['Irish_wolfhound'],df2.dog_prediction.value_counts()['Bouvier_des_Flandres'],df2.dog_prediction.value_counts()['Scottish_deerhound']) "
   ]
  },
  {
   "cell_type": "markdown",
   "metadata": {},
   "source": [
    "* Very low prediction confidence values which is of very little consequence due to the small count of dog predictions in that breed"
   ]
  },
  {
   "cell_type": "code",
   "execution_count": 88,
   "metadata": {},
   "outputs": [
    {
     "data": {
      "text/plain": [
       "(2342, 3)"
      ]
     },
     "execution_count": 88,
     "metadata": {},
     "output_type": "execute_result"
    }
   ],
   "source": [
    "dfapi.shape"
   ]
  },
  {
   "cell_type": "markdown",
   "metadata": {},
   "source": [
    "#### Issue\n",
    "TIDYNESS: Main dataframe requires more info from the data acquired using API"
   ]
  },
  {
   "cell_type": "markdown",
   "metadata": {},
   "source": [
    "#### Define\n",
    "Join dataframe with the API fetch information to the main dataframe to also include 'favorite_count' and 'retweet_count' data"
   ]
  },
  {
   "cell_type": "code",
   "execution_count": 89,
   "metadata": {},
   "outputs": [],
   "source": [
    "# copy dfapi first\n",
    "df3 = dfapi.copy()"
   ]
  },
  {
   "cell_type": "code",
   "execution_count": 90,
   "metadata": {},
   "outputs": [
    {
     "data": {
      "text/plain": [
       "favorite_count    0\n",
       "retweet_count     0\n",
       "tweet_id          0\n",
       "dtype: int64"
      ]
     },
     "execution_count": 90,
     "metadata": {},
     "output_type": "execute_result"
    }
   ],
   "source": [
    "df3.isnull().sum()"
   ]
  },
  {
   "cell_type": "code",
   "execution_count": 91,
   "metadata": {},
   "outputs": [
    {
     "data": {
      "text/plain": [
       "tweet_id         0\n",
       "timestamp        0\n",
       "source           0\n",
       "expanded_urls    0\n",
       "rating           0\n",
       "dog_stage        0\n",
       "dtype: int64"
      ]
     },
     "execution_count": 91,
     "metadata": {},
     "output_type": "execute_result"
    }
   ],
   "source": [
    "df1final.isnull().sum()"
   ]
  },
  {
   "cell_type": "code",
   "execution_count": 92,
   "metadata": {},
   "outputs": [
    {
     "data": {
      "text/plain": [
       "(2088, 6)"
      ]
     },
     "execution_count": 92,
     "metadata": {},
     "output_type": "execute_result"
    }
   ],
   "source": [
    "df1final.shape"
   ]
  },
  {
   "cell_type": "code",
   "execution_count": 93,
   "metadata": {},
   "outputs": [
    {
     "data": {
      "text/plain": [
       "(2342, 3)"
      ]
     },
     "execution_count": 93,
     "metadata": {},
     "output_type": "execute_result"
    }
   ],
   "source": [
    "df3.shape"
   ]
  },
  {
   "cell_type": "code",
   "execution_count": 94,
   "metadata": {},
   "outputs": [],
   "source": [
    "dftidy_master = pd.merge(df1final, df3, on='tweet_id', how='inner')"
   ]
  },
  {
   "cell_type": "markdown",
   "metadata": {},
   "source": [
    "#### Test"
   ]
  },
  {
   "cell_type": "code",
   "execution_count": 95,
   "metadata": {},
   "outputs": [
    {
     "data": {
      "text/html": [
       "<div>\n",
       "<style>\n",
       "    .dataframe thead tr:only-child th {\n",
       "        text-align: right;\n",
       "    }\n",
       "\n",
       "    .dataframe thead th {\n",
       "        text-align: left;\n",
       "    }\n",
       "\n",
       "    .dataframe tbody tr th {\n",
       "        vertical-align: top;\n",
       "    }\n",
       "</style>\n",
       "<table border=\"1\" class=\"dataframe\">\n",
       "  <thead>\n",
       "    <tr style=\"text-align: right;\">\n",
       "      <th></th>\n",
       "      <th>tweet_id</th>\n",
       "      <th>timestamp</th>\n",
       "      <th>source</th>\n",
       "      <th>expanded_urls</th>\n",
       "      <th>rating</th>\n",
       "      <th>dog_stage</th>\n",
       "      <th>favorite_count</th>\n",
       "      <th>retweet_count</th>\n",
       "    </tr>\n",
       "  </thead>\n",
       "  <tbody>\n",
       "    <tr>\n",
       "      <th>0</th>\n",
       "      <td>666020888022790149</td>\n",
       "      <td>2015-11-15</td>\n",
       "      <td>twitter</td>\n",
       "      <td>rateDogs photo</td>\n",
       "      <td>8</td>\n",
       "      <td>None</td>\n",
       "      <td>2560</td>\n",
       "      <td>513</td>\n",
       "    </tr>\n",
       "    <tr>\n",
       "      <th>1</th>\n",
       "      <td>666029285002620928</td>\n",
       "      <td>2015-11-15</td>\n",
       "      <td>twitter</td>\n",
       "      <td>rateDogs photo</td>\n",
       "      <td>7</td>\n",
       "      <td>None</td>\n",
       "      <td>130</td>\n",
       "      <td>47</td>\n",
       "    </tr>\n",
       "    <tr>\n",
       "      <th>2</th>\n",
       "      <td>666033412701032449</td>\n",
       "      <td>2015-11-15</td>\n",
       "      <td>twitter</td>\n",
       "      <td>rateDogs photo</td>\n",
       "      <td>9</td>\n",
       "      <td>None</td>\n",
       "      <td>125</td>\n",
       "      <td>44</td>\n",
       "    </tr>\n",
       "    <tr>\n",
       "      <th>3</th>\n",
       "      <td>666044226329800704</td>\n",
       "      <td>2015-11-16</td>\n",
       "      <td>twitter</td>\n",
       "      <td>rateDogs photo</td>\n",
       "      <td>6</td>\n",
       "      <td>None</td>\n",
       "      <td>298</td>\n",
       "      <td>141</td>\n",
       "    </tr>\n",
       "    <tr>\n",
       "      <th>4</th>\n",
       "      <td>666049248165822465</td>\n",
       "      <td>2015-11-16</td>\n",
       "      <td>twitter</td>\n",
       "      <td>rateDogs photo</td>\n",
       "      <td>5</td>\n",
       "      <td>None</td>\n",
       "      <td>109</td>\n",
       "      <td>40</td>\n",
       "    </tr>\n",
       "  </tbody>\n",
       "</table>\n",
       "</div>"
      ],
      "text/plain": [
       "             tweet_id  timestamp   source   expanded_urls  rating dog_stage  \\\n",
       "0  666020888022790149 2015-11-15  twitter  rateDogs photo  8       None       \n",
       "1  666029285002620928 2015-11-15  twitter  rateDogs photo  7       None       \n",
       "2  666033412701032449 2015-11-15  twitter  rateDogs photo  9       None       \n",
       "3  666044226329800704 2015-11-16  twitter  rateDogs photo  6       None       \n",
       "4  666049248165822465 2015-11-16  twitter  rateDogs photo  5       None       \n",
       "\n",
       "   favorite_count  retweet_count  \n",
       "0  2560            513            \n",
       "1  130             47             \n",
       "2  125             44             \n",
       "3  298             141            \n",
       "4  109             40             "
      ]
     },
     "execution_count": 95,
     "metadata": {},
     "output_type": "execute_result"
    }
   ],
   "source": [
    "dftidy_master.head()"
   ]
  },
  {
   "cell_type": "code",
   "execution_count": 96,
   "metadata": {},
   "outputs": [
    {
     "name": "stdout",
     "output_type": "stream",
     "text": [
      "<class 'pandas.core.frame.DataFrame'>\n",
      "Int64Index: 2087 entries, 0 to 2086\n",
      "Data columns (total 8 columns):\n",
      "tweet_id          2087 non-null int64\n",
      "timestamp         2087 non-null datetime64[ns]\n",
      "source            2087 non-null object\n",
      "expanded_urls     2087 non-null object\n",
      "rating            2087 non-null int64\n",
      "dog_stage         2087 non-null object\n",
      "favorite_count    2087 non-null int64\n",
      "retweet_count     2087 non-null int64\n",
      "dtypes: datetime64[ns](1), int64(4), object(3)\n",
      "memory usage: 146.7+ KB\n"
     ]
    }
   ],
   "source": [
    "dftidy_master.info()"
   ]
  },
  {
   "cell_type": "markdown",
   "metadata": {},
   "source": [
    "#### Issue\n",
    "TIDYNESS: Include the dog breed predictions to the main dataframe"
   ]
  },
  {
   "cell_type": "markdown",
   "metadata": {},
   "source": [
    "#### Define\n",
    "Due to the lower number of rows on the dog breed dataframe, another dataframe will be created combining main dataframe with the dog ratings (df1final) and joining it with dog breed dataframe"
   ]
  },
  {
   "cell_type": "code",
   "execution_count": 97,
   "metadata": {},
   "outputs": [
    {
     "data": {
      "text/plain": [
       "Index(['tweet_id', 'dog_prediction', 'prediction_confidence'], dtype='object')"
      ]
     },
     "execution_count": 97,
     "metadata": {},
     "output_type": "execute_result"
    }
   ],
   "source": [
    "df2.columns"
   ]
  },
  {
   "cell_type": "code",
   "execution_count": 98,
   "metadata": {},
   "outputs": [],
   "source": [
    "dftidy_breed = pd.merge(df1final, df2, on='tweet_id', how='inner')"
   ]
  },
  {
   "cell_type": "code",
   "execution_count": 99,
   "metadata": {},
   "outputs": [
    {
     "name": "stdout",
     "output_type": "stream",
     "text": [
      "<class 'pandas.core.frame.DataFrame'>\n",
      "Int64Index: 1968 entries, 0 to 1967\n",
      "Data columns (total 8 columns):\n",
      "tweet_id                 1968 non-null int64\n",
      "timestamp                1968 non-null datetime64[ns]\n",
      "source                   1968 non-null object\n",
      "expanded_urls            1968 non-null object\n",
      "rating                   1968 non-null int64\n",
      "dog_stage                1968 non-null object\n",
      "dog_prediction           1665 non-null object\n",
      "prediction_confidence    1665 non-null float64\n",
      "dtypes: datetime64[ns](1), float64(1), int64(2), object(4)\n",
      "memory usage: 138.4+ KB\n"
     ]
    }
   ],
   "source": [
    "dftidy_breed.info()"
   ]
  },
  {
   "cell_type": "code",
   "execution_count": 100,
   "metadata": {},
   "outputs": [],
   "source": [
    "# drop null values\n",
    "dftidy_breed.dropna(inplace=True)"
   ]
  },
  {
   "cell_type": "markdown",
   "metadata": {},
   "source": [
    "#### Test"
   ]
  },
  {
   "cell_type": "code",
   "execution_count": 101,
   "metadata": {},
   "outputs": [
    {
     "name": "stdout",
     "output_type": "stream",
     "text": [
      "<class 'pandas.core.frame.DataFrame'>\n",
      "Int64Index: 1665 entries, 0 to 1966\n",
      "Data columns (total 8 columns):\n",
      "tweet_id                 1665 non-null int64\n",
      "timestamp                1665 non-null datetime64[ns]\n",
      "source                   1665 non-null object\n",
      "expanded_urls            1665 non-null object\n",
      "rating                   1665 non-null int64\n",
      "dog_stage                1665 non-null object\n",
      "dog_prediction           1665 non-null object\n",
      "prediction_confidence    1665 non-null float64\n",
      "dtypes: datetime64[ns](1), float64(1), int64(2), object(4)\n",
      "memory usage: 117.1+ KB\n"
     ]
    }
   ],
   "source": [
    "dftidy_breed.info()"
   ]
  },
  {
   "cell_type": "markdown",
   "metadata": {},
   "source": [
    "#### Define\n",
    "Also create a slightly untidy master that consists of all the dataframes combined, including the null values from the dog breeds that could not be predicted"
   ]
  },
  {
   "cell_type": "code",
   "execution_count": 102,
   "metadata": {},
   "outputs": [],
   "source": [
    "df_master = pd.merge(dftidy_master, df2, on='tweet_id', how='left')"
   ]
  },
  {
   "cell_type": "markdown",
   "metadata": {},
   "source": [
    "#### Test\n"
   ]
  },
  {
   "cell_type": "code",
   "execution_count": 103,
   "metadata": {},
   "outputs": [
    {
     "name": "stdout",
     "output_type": "stream",
     "text": [
      "<class 'pandas.core.frame.DataFrame'>\n",
      "Int64Index: 2087 entries, 0 to 2086\n",
      "Data columns (total 10 columns):\n",
      "tweet_id                 2087 non-null int64\n",
      "timestamp                2087 non-null datetime64[ns]\n",
      "source                   2087 non-null object\n",
      "expanded_urls            2087 non-null object\n",
      "rating                   2087 non-null int64\n",
      "dog_stage                2087 non-null object\n",
      "favorite_count           2087 non-null int64\n",
      "retweet_count            2087 non-null int64\n",
      "dog_prediction           1664 non-null object\n",
      "prediction_confidence    1664 non-null float64\n",
      "dtypes: datetime64[ns](1), float64(1), int64(4), object(4)\n",
      "memory usage: 179.4+ KB\n"
     ]
    }
   ],
   "source": [
    "df_master.info()"
   ]
  },
  {
   "cell_type": "markdown",
   "metadata": {},
   "source": [
    "#### Final Steps\n",
    "Export the three versions of the dataframes into its own CSV for further visualization analysis"
   ]
  },
  {
   "cell_type": "code",
   "execution_count": 104,
   "metadata": {},
   "outputs": [],
   "source": [
    "# Main file that includes all data\n",
    "df_master.to_csv('twitter_archive_master.csv', index=False)\n",
    "# File that does not include the dog breed predictions\n",
    "dftidy_master.to_csv('twitter_archive_tidymaster.csv', index=False)\n",
    "# File that includes breed data and tidies up the dataframe leaving out NA values\n",
    "dftidy_breed.to_csv('twitter_archive_tidybreed.csv', index=False)\n"
   ]
  },
  {
   "cell_type": "markdown",
   "metadata": {},
   "source": [
    "# Visualizations and Analysis"
   ]
  },
  {
   "cell_type": "code",
   "execution_count": 2,
   "metadata": {},
   "outputs": [],
   "source": [
    "import pandas as pd\n",
    "import numpy as np\n",
    "import matplotlib.pyplot as plt\n",
    "%matplotlib inline\n",
    "df_master = pd.read_csv('twitter_archive_master.csv')"
   ]
  },
  {
   "cell_type": "code",
   "execution_count": 3,
   "metadata": {},
   "outputs": [
    {
     "data": {
      "text/html": [
       "<div>\n",
       "<style>\n",
       "    .dataframe thead tr:only-child th {\n",
       "        text-align: right;\n",
       "    }\n",
       "\n",
       "    .dataframe thead th {\n",
       "        text-align: left;\n",
       "    }\n",
       "\n",
       "    .dataframe tbody tr th {\n",
       "        vertical-align: top;\n",
       "    }\n",
       "</style>\n",
       "<table border=\"1\" class=\"dataframe\">\n",
       "  <thead>\n",
       "    <tr style=\"text-align: right;\">\n",
       "      <th></th>\n",
       "      <th>tweet_id</th>\n",
       "      <th>timestamp</th>\n",
       "      <th>source</th>\n",
       "      <th>expanded_urls</th>\n",
       "      <th>rating</th>\n",
       "      <th>dog_stage</th>\n",
       "      <th>favorite_count</th>\n",
       "      <th>retweet_count</th>\n",
       "      <th>dog_prediction</th>\n",
       "      <th>prediction_confidence</th>\n",
       "    </tr>\n",
       "  </thead>\n",
       "  <tbody>\n",
       "    <tr>\n",
       "      <th>0</th>\n",
       "      <td>666020888022790149</td>\n",
       "      <td>2015-11-15</td>\n",
       "      <td>twitter</td>\n",
       "      <td>rateDogs photo</td>\n",
       "      <td>8</td>\n",
       "      <td>None</td>\n",
       "      <td>2560</td>\n",
       "      <td>513</td>\n",
       "      <td>Welsh_springer_spaniel</td>\n",
       "      <td>0.465074</td>\n",
       "    </tr>\n",
       "    <tr>\n",
       "      <th>1</th>\n",
       "      <td>666029285002620928</td>\n",
       "      <td>2015-11-15</td>\n",
       "      <td>twitter</td>\n",
       "      <td>rateDogs photo</td>\n",
       "      <td>7</td>\n",
       "      <td>None</td>\n",
       "      <td>130</td>\n",
       "      <td>47</td>\n",
       "      <td>redbone</td>\n",
       "      <td>0.506826</td>\n",
       "    </tr>\n",
       "    <tr>\n",
       "      <th>2</th>\n",
       "      <td>666033412701032449</td>\n",
       "      <td>2015-11-15</td>\n",
       "      <td>twitter</td>\n",
       "      <td>rateDogs photo</td>\n",
       "      <td>9</td>\n",
       "      <td>None</td>\n",
       "      <td>125</td>\n",
       "      <td>44</td>\n",
       "      <td>German_shepherd</td>\n",
       "      <td>0.596461</td>\n",
       "    </tr>\n",
       "    <tr>\n",
       "      <th>3</th>\n",
       "      <td>666044226329800704</td>\n",
       "      <td>2015-11-16</td>\n",
       "      <td>twitter</td>\n",
       "      <td>rateDogs photo</td>\n",
       "      <td>6</td>\n",
       "      <td>None</td>\n",
       "      <td>298</td>\n",
       "      <td>141</td>\n",
       "      <td>Rhodesian_ridgeback</td>\n",
       "      <td>0.408143</td>\n",
       "    </tr>\n",
       "    <tr>\n",
       "      <th>4</th>\n",
       "      <td>666049248165822465</td>\n",
       "      <td>2015-11-16</td>\n",
       "      <td>twitter</td>\n",
       "      <td>rateDogs photo</td>\n",
       "      <td>5</td>\n",
       "      <td>None</td>\n",
       "      <td>109</td>\n",
       "      <td>40</td>\n",
       "      <td>miniature_pinscher</td>\n",
       "      <td>0.560311</td>\n",
       "    </tr>\n",
       "  </tbody>\n",
       "</table>\n",
       "</div>"
      ],
      "text/plain": [
       "             tweet_id   timestamp   source   expanded_urls  rating dog_stage  \\\n",
       "0  666020888022790149  2015-11-15  twitter  rateDogs photo       8      None   \n",
       "1  666029285002620928  2015-11-15  twitter  rateDogs photo       7      None   \n",
       "2  666033412701032449  2015-11-15  twitter  rateDogs photo       9      None   \n",
       "3  666044226329800704  2015-11-16  twitter  rateDogs photo       6      None   \n",
       "4  666049248165822465  2015-11-16  twitter  rateDogs photo       5      None   \n",
       "\n",
       "   favorite_count  retweet_count          dog_prediction  \\\n",
       "0            2560            513  Welsh_springer_spaniel   \n",
       "1             130             47                 redbone   \n",
       "2             125             44         German_shepherd   \n",
       "3             298            141     Rhodesian_ridgeback   \n",
       "4             109             40      miniature_pinscher   \n",
       "\n",
       "   prediction_confidence  \n",
       "0               0.465074  \n",
       "1               0.506826  \n",
       "2               0.596461  \n",
       "3               0.408143  \n",
       "4               0.560311  "
      ]
     },
     "execution_count": 3,
     "metadata": {},
     "output_type": "execute_result"
    }
   ],
   "source": [
    "df_master.head()"
   ]
  },
  {
   "cell_type": "code",
   "execution_count": 4,
   "metadata": {},
   "outputs": [
    {
     "data": {
      "image/png": "[encoded data removed]",
      "text/plain": [
       "<matplotlib.figure.Figure at 0x7f14e66bdcf8>"
      ]
     },
     "metadata": {},
     "output_type": "display_data"
    }
   ],
   "source": [
    "# ratings distribution on master dataframe\n",
    "plt.hist(df_master.rating, bins = 15)\n",
    "plt.title('Distribution of \"ratings\"');"
   ]
  },
  {
   "cell_type": "code",
   "execution_count": 5,
   "metadata": {},
   "outputs": [
    {
     "data": {
      "text/plain": [
       "12    488\n",
       "10    435\n",
       "11    421\n",
       "13    287\n",
       "9     154\n",
       "8      98\n",
       "7      51\n",
       "14     39\n",
       "5      34\n",
       "6      32\n",
       "3      19\n",
       "4      15\n",
       "2       9\n",
       "1       4\n",
       "0       1\n",
       "Name: rating, dtype: int64"
      ]
     },
     "execution_count": 5,
     "metadata": {},
     "output_type": "execute_result"
    }
   ],
   "source": [
    "df_master.rating.value_counts()"
   ]
  },
  {
   "cell_type": "markdown",
   "metadata": {},
   "source": [
    "* largest number of ratings are 12/10"
   ]
  },
  {
   "cell_type": "code",
   "execution_count": 80,
   "metadata": {},
   "outputs": [
    {
     "data": {
      "text/html": [
       "<div>\n",
       "<style>\n",
       "    .dataframe thead tr:only-child th {\n",
       "        text-align: right;\n",
       "    }\n",
       "\n",
       "    .dataframe thead th {\n",
       "        text-align: left;\n",
       "    }\n",
       "\n",
       "    .dataframe tbody tr th {\n",
       "        vertical-align: top;\n",
       "    }\n",
       "</style>\n",
       "<table border=\"1\" class=\"dataframe\">\n",
       "  <thead>\n",
       "    <tr style=\"text-align: right;\">\n",
       "      <th></th>\n",
       "      <th>dog_stage</th>\n",
       "      <th>rating</th>\n",
       "    </tr>\n",
       "  </thead>\n",
       "  <tbody>\n",
       "    <tr>\n",
       "      <th>0</th>\n",
       "      <td>None</td>\n",
       "      <td>10.508445</td>\n",
       "    </tr>\n",
       "    <tr>\n",
       "      <th>1</th>\n",
       "      <td>doggo</td>\n",
       "      <td>11.772152</td>\n",
       "    </tr>\n",
       "    <tr>\n",
       "      <th>2</th>\n",
       "      <td>floofer</td>\n",
       "      <td>11.800000</td>\n",
       "    </tr>\n",
       "    <tr>\n",
       "      <th>3</th>\n",
       "      <td>pupper</td>\n",
       "      <td>10.701195</td>\n",
       "    </tr>\n",
       "    <tr>\n",
       "      <th>4</th>\n",
       "      <td>puppo</td>\n",
       "      <td>12.166667</td>\n",
       "    </tr>\n",
       "  </tbody>\n",
       "</table>\n",
       "</div>"
      ],
      "text/plain": [
       "  dog_stage     rating\n",
       "0      None  10.508445\n",
       "1     doggo  11.772152\n",
       "2   floofer  11.800000\n",
       "3    pupper  10.701195\n",
       "4     puppo  12.166667"
      ]
     },
     "execution_count": 80,
     "metadata": {},
     "output_type": "execute_result"
    }
   ],
   "source": [
    "# dog stage influence on quality\n",
    "df_master.groupby(['dog_stage'], as_index = False)['rating'].mean()"
   ]
  },
  {
   "cell_type": "code",
   "execution_count": 7,
   "metadata": {},
   "outputs": [
    {
     "data": {
      "text/html": [
       "<div>\n",
       "<style>\n",
       "    .dataframe thead tr:only-child th {\n",
       "        text-align: right;\n",
       "    }\n",
       "\n",
       "    .dataframe thead th {\n",
       "        text-align: left;\n",
       "    }\n",
       "\n",
       "    .dataframe tbody tr th {\n",
       "        vertical-align: top;\n",
       "    }\n",
       "</style>\n",
       "<table border=\"1\" class=\"dataframe\">\n",
       "  <thead>\n",
       "    <tr style=\"text-align: right;\">\n",
       "      <th></th>\n",
       "      <th>dog_stage</th>\n",
       "      <th>rating</th>\n",
       "    </tr>\n",
       "  </thead>\n",
       "  <tbody>\n",
       "    <tr>\n",
       "      <th>0</th>\n",
       "      <td>None</td>\n",
       "      <td>11.407846</td>\n",
       "    </tr>\n",
       "    <tr>\n",
       "      <th>1</th>\n",
       "      <td>doggo</td>\n",
       "      <td>12.013514</td>\n",
       "    </tr>\n",
       "    <tr>\n",
       "      <th>2</th>\n",
       "      <td>floofer</td>\n",
       "      <td>11.800000</td>\n",
       "    </tr>\n",
       "    <tr>\n",
       "      <th>3</th>\n",
       "      <td>pupper</td>\n",
       "      <td>11.354369</td>\n",
       "    </tr>\n",
       "    <tr>\n",
       "      <th>4</th>\n",
       "      <td>puppo</td>\n",
       "      <td>12.275862</td>\n",
       "    </tr>\n",
       "  </tbody>\n",
       "</table>\n",
       "</div>"
      ],
      "text/plain": [
       "  dog_stage     rating\n",
       "0      None  11.407846\n",
       "1     doggo  12.013514\n",
       "2   floofer  11.800000\n",
       "3    pupper  11.354369\n",
       "4     puppo  12.275862"
      ]
     },
     "execution_count": 7,
     "metadata": {},
     "output_type": "execute_result"
    }
   ],
   "source": [
    "# Create a subset of the rating data for ratings greater and equal to 10\n",
    "df_subset = df_master[df_master.rating >= 10]\n",
    "df_subset.groupby(['dog_stage'], as_index = False)['rating'].mean()"
   ]
  },
  {
   "cell_type": "code",
   "execution_count": 8,
   "metadata": {},
   "outputs": [
    {
     "data": {
      "text/plain": [
       "None       0.786838\n",
       "pupper     0.820717\n",
       "doggo      0.936709\n",
       "puppo      0.966667\n",
       "floofer    1.000000\n",
       "Name: dog_stage, dtype: float64"
      ]
     },
     "execution_count": 8,
     "metadata": {},
     "output_type": "execute_result"
    }
   ],
   "source": [
    "# Proportion of 10+ ratings for the different dog stages\n",
    "df_subset.dog_stage.value_counts()/df_master.dog_stage.value_counts()"
   ]
  },
  {
   "cell_type": "markdown",
   "metadata": {},
   "source": [
    "* Twitter postings that mention dog_stages are most often ranked 10 or greater. 'Floofer' is always ranked 10 or higher, while  'pupper' consists of a few ratings below 10"
   ]
  },
  {
   "cell_type": "code",
   "execution_count": 95,
   "metadata": {},
   "outputs": [
    {
     "data": {
      "text/html": [
       "<div>\n",
       "<style>\n",
       "    .dataframe thead tr:only-child th {\n",
       "        text-align: right;\n",
       "    }\n",
       "\n",
       "    .dataframe thead th {\n",
       "        text-align: left;\n",
       "    }\n",
       "\n",
       "    .dataframe tbody tr th {\n",
       "        vertical-align: top;\n",
       "    }\n",
       "</style>\n",
       "<table border=\"1\" class=\"dataframe\">\n",
       "  <thead>\n",
       "    <tr style=\"text-align: right;\">\n",
       "      <th></th>\n",
       "      <th>source</th>\n",
       "      <th>rating</th>\n",
       "    </tr>\n",
       "  </thead>\n",
       "  <tbody>\n",
       "    <tr>\n",
       "      <th>0</th>\n",
       "      <td>twitter</td>\n",
       "      <td>10.573647</td>\n",
       "    </tr>\n",
       "    <tr>\n",
       "      <th>1</th>\n",
       "      <td>vine</td>\n",
       "      <td>11.395604</td>\n",
       "    </tr>\n",
       "  </tbody>\n",
       "</table>\n",
       "</div>"
      ],
      "text/plain": [
       "    source     rating\n",
       "0  twitter  10.573647\n",
       "1     vine  11.395604"
      ]
     },
     "execution_count": 95,
     "metadata": {},
     "output_type": "execute_result"
    }
   ],
   "source": [
    "# Average ratings for Twitter postings vs Vine postings\n",
    "df_master.groupby(['source'], as_index = False)['rating'].mean()"
   ]
  },
  {
   "cell_type": "markdown",
   "metadata": {},
   "source": [
    "* vines rated higher than a twitter post"
   ]
  },
  {
   "cell_type": "code",
   "execution_count": 9,
   "metadata": {},
   "outputs": [
    {
     "data": {
      "text/plain": [
       "rateDogs photo           1895\n",
       "rateDogs vine              91\n",
       "rateDogs video             72\n",
       "external twitter post      29\n",
       "Name: expanded_urls, dtype: int64"
      ]
     },
     "execution_count": 9,
     "metadata": {},
     "output_type": "execute_result"
    }
   ],
   "source": [
    "# observe distrubution for expanded_urls\n",
    "df_master.expanded_urls.value_counts()"
   ]
  },
  {
   "cell_type": "code",
   "execution_count": 10,
   "metadata": {},
   "outputs": [
    {
     "data": {
      "text/html": [
       "<div>\n",
       "<style>\n",
       "    .dataframe thead tr:only-child th {\n",
       "        text-align: right;\n",
       "    }\n",
       "\n",
       "    .dataframe thead th {\n",
       "        text-align: left;\n",
       "    }\n",
       "\n",
       "    .dataframe tbody tr th {\n",
       "        vertical-align: top;\n",
       "    }\n",
       "</style>\n",
       "<table border=\"1\" class=\"dataframe\">\n",
       "  <thead>\n",
       "    <tr style=\"text-align: right;\">\n",
       "      <th></th>\n",
       "      <th>expanded_urls</th>\n",
       "      <th>rating</th>\n",
       "    </tr>\n",
       "  </thead>\n",
       "  <tbody>\n",
       "    <tr>\n",
       "      <th>0</th>\n",
       "      <td>external twitter post</td>\n",
       "      <td>12.655172</td>\n",
       "    </tr>\n",
       "    <tr>\n",
       "      <th>1</th>\n",
       "      <td>rateDogs photo</td>\n",
       "      <td>10.490765</td>\n",
       "    </tr>\n",
       "    <tr>\n",
       "      <th>2</th>\n",
       "      <td>rateDogs video</td>\n",
       "      <td>11.916667</td>\n",
       "    </tr>\n",
       "    <tr>\n",
       "      <th>3</th>\n",
       "      <td>rateDogs vine</td>\n",
       "      <td>11.395604</td>\n",
       "    </tr>\n",
       "  </tbody>\n",
       "</table>\n",
       "</div>"
      ],
      "text/plain": [
       "           expanded_urls     rating\n",
       "0  external twitter post  12.655172\n",
       "1         rateDogs photo  10.490765\n",
       "2         rateDogs video  11.916667\n",
       "3          rateDogs vine  11.395604"
      ]
     },
     "execution_count": 10,
     "metadata": {},
     "output_type": "execute_result"
    }
   ],
   "source": [
    "# Average ratings \n",
    "df_master.groupby(['expanded_urls'], as_index = False)['rating'].mean()"
   ]
  },
  {
   "cell_type": "markdown",
   "metadata": {},
   "source": [
    "* External twitter posts and Videos generally rated higher. It is worth noting though that the number of video and external posts is also significantly lower"
   ]
  },
  {
   "cell_type": "code",
   "execution_count": 105,
   "metadata": {},
   "outputs": [
    {
     "data": {
      "text/html": [
       "<div>\n",
       "<style>\n",
       "    .dataframe thead tr:only-child th {\n",
       "        text-align: right;\n",
       "    }\n",
       "\n",
       "    .dataframe thead th {\n",
       "        text-align: left;\n",
       "    }\n",
       "\n",
       "    .dataframe tbody tr th {\n",
       "        vertical-align: top;\n",
       "    }\n",
       "</style>\n",
       "<table border=\"1\" class=\"dataframe\">\n",
       "  <thead>\n",
       "    <tr style=\"text-align: right;\">\n",
       "      <th></th>\n",
       "      <th>rating</th>\n",
       "      <th>favorite_count</th>\n",
       "    </tr>\n",
       "  </thead>\n",
       "  <tbody>\n",
       "    <tr>\n",
       "      <th>0</th>\n",
       "      <td>10</td>\n",
       "      <td>4168.947126</td>\n",
       "    </tr>\n",
       "    <tr>\n",
       "      <th>1</th>\n",
       "      <td>11</td>\n",
       "      <td>6729.178147</td>\n",
       "    </tr>\n",
       "    <tr>\n",
       "      <th>2</th>\n",
       "      <td>12</td>\n",
       "      <td>10828.920082</td>\n",
       "    </tr>\n",
       "    <tr>\n",
       "      <th>3</th>\n",
       "      <td>13</td>\n",
       "      <td>22310.397213</td>\n",
       "    </tr>\n",
       "    <tr>\n",
       "      <th>4</th>\n",
       "      <td>14</td>\n",
       "      <td>29032.871795</td>\n",
       "    </tr>\n",
       "  </tbody>\n",
       "</table>\n",
       "</div>"
      ],
      "text/plain": [
       "   rating  favorite_count\n",
       "0      10     4168.947126\n",
       "1      11     6729.178147\n",
       "2      12    10828.920082\n",
       "3      13    22310.397213\n",
       "4      14    29032.871795"
      ]
     },
     "execution_count": 105,
     "metadata": {},
     "output_type": "execute_result"
    }
   ],
   "source": [
    "df_subset.groupby(['rating'], as_index = False)['favorite_count'].mean()"
   ]
  },
  {
   "cell_type": "markdown",
   "metadata": {},
   "source": [
    "* Higher the rating, higher the favorite count"
   ]
  },
  {
   "cell_type": "code",
   "execution_count": 80,
   "metadata": {},
   "outputs": [
    {
     "data": {
      "text/html": [
       "<div>\n",
       "<style>\n",
       "    .dataframe thead tr:only-child th {\n",
       "        text-align: right;\n",
       "    }\n",
       "\n",
       "    .dataframe thead th {\n",
       "        text-align: left;\n",
       "    }\n",
       "\n",
       "    .dataframe tbody tr th {\n",
       "        vertical-align: top;\n",
       "    }\n",
       "</style>\n",
       "<table border=\"1\" class=\"dataframe\">\n",
       "  <thead>\n",
       "    <tr style=\"text-align: right;\">\n",
       "      <th></th>\n",
       "      <th>rating</th>\n",
       "      <th>retweet_count</th>\n",
       "    </tr>\n",
       "  </thead>\n",
       "  <tbody>\n",
       "    <tr>\n",
       "      <th>0</th>\n",
       "      <td>10</td>\n",
       "      <td>1519.777011</td>\n",
       "    </tr>\n",
       "    <tr>\n",
       "      <th>1</th>\n",
       "      <td>11</td>\n",
       "      <td>2174.339667</td>\n",
       "    </tr>\n",
       "    <tr>\n",
       "      <th>2</th>\n",
       "      <td>12</td>\n",
       "      <td>3050.352459</td>\n",
       "    </tr>\n",
       "    <tr>\n",
       "      <th>3</th>\n",
       "      <td>13</td>\n",
       "      <td>6822.013937</td>\n",
       "    </tr>\n",
       "    <tr>\n",
       "      <th>4</th>\n",
       "      <td>14</td>\n",
       "      <td>9430.384615</td>\n",
       "    </tr>\n",
       "  </tbody>\n",
       "</table>\n",
       "</div>"
      ],
      "text/plain": [
       "   rating  retweet_count\n",
       "0      10    1519.777011\n",
       "1      11    2174.339667\n",
       "2      12    3050.352459\n",
       "3      13    6822.013937\n",
       "4      14    9430.384615"
      ]
     },
     "execution_count": 80,
     "metadata": {},
     "output_type": "execute_result"
    }
   ],
   "source": [
    "df_subset.groupby(['rating'], as_index = False)['retweet_count'].mean()"
   ]
  },
  {
   "cell_type": "markdown",
   "metadata": {},
   "source": [
    "* retweets are also proportional to rating"
   ]
  },
  {
   "cell_type": "code",
   "execution_count": 75,
   "metadata": {},
   "outputs": [],
   "source": [
    "# group list of retweet counts by rating and plot it\n",
    "retweet_rating_list = df_master.groupby('rating')['retweet_count'].apply(list)"
   ]
  },
  {
   "cell_type": "code",
   "execution_count": 76,
   "metadata": {},
   "outputs": [
    {
     "data": {
      "text/plain": [
       "rating\n",
       "0                                                [3309]\n",
       "1                               [6576, 2366, 414, 2778]\n",
       "2      [846, 325, 490, 121, 297, 4264, 893, 2760, 1609]\n",
       "3     [354, 563, 822, 554, 342, 344, 600, 1717, 675,...\n",
       "4     [587, 472, 538, 320, 729, 2647, 2208, 1149, 13...\n",
       "5     [40, 175, 315, 331, 244, 460, 292, 255, 701, 8...\n",
       "6     [141, 44, 568, 198, 597, 252, 761, 973, 337, 3...\n",
       "7     [47, 40, 83, 48, 129, 223, 61, 233, 328, 202, ...\n",
       "8     [513, 57, 67, 72, 47, 222, 94, 48, 56, 58, 198...\n",
       "9     [44, 141, 60, 73, 64, 91, 84, 20, 83, 258, 227...\n",
       "10    [58, 249, 217, 163, 35, 135, 46, 53, 209, 66, ...\n",
       "11    [12, 76, 93, 1003, 63, 268, 92, 100, 224, 153,...\n",
       "12    [111, 98, 51, 17597, 109, 85, 2200, 1151, 97, ...\n",
       "13    [646, 1134, 120, 7588, 3650, 492, 2186, 270, 1...\n",
       "14    [17073, 14485, 4221, 5912, 17209, 6196, 4840, ...\n",
       "Name: retweet_count, dtype: object"
      ]
     },
     "execution_count": 76,
     "metadata": {},
     "output_type": "execute_result"
    }
   ],
   "source": [
    "retweet_rating_list"
   ]
  },
  {
   "cell_type": "code",
   "execution_count": 86,
   "metadata": {},
   "outputs": [
    {
     "data": {
      "image/png": "[encoded data removed]",
      "text/plain": [
       "<matplotlib.figure.Figure at 0x7f14e3e512e8>"
      ]
     },
     "metadata": {},
     "output_type": "display_data"
    }
   ],
   "source": [
    "#REF: https://stackoverflow.com/questions/37759475/scatter-plot-same-point-repeated-several-times-python\n",
    "size_constant = 20\n",
    "for xe, ye in retweet_rating_list.items():\n",
    "    xAxis = [xe] * len(ye)\n",
    "    #square it to amplify the effect, if you do ye.count(num)*size_constant the effect is barely noticeable\n",
    "    sizes = [ye.count(num)**2.5 * size_constant for num in ye]\n",
    "    plt.scatter(xAxis, ye, s=sizes)\n",
    "\n",
    "plt.title('Retweet count across different ratings');"
   ]
  },
  {
   "cell_type": "markdown",
   "metadata": {},
   "source": [
    "* Note for the rating 8,10,11,12 there is high frequency of retweets under 10000. Rating 13 has the highest range, and the maximum is close to 80000!The variation fo different retweet counts also jumps after 10"
   ]
  },
  {
   "cell_type": "code",
   "execution_count": 87,
   "metadata": {},
   "outputs": [
    {
     "data": {
      "text/plain": [
       "rating\n",
       "0                                               [23896]\n",
       "1                              [14293, 5922, 842, 6566]\n",
       "2     [1210, 445, 771, 402, 577, 5740, 1700, 5733, 3...\n",
       "3     [500, 828, 1307, 910, 701, 690, 1484, 3304, 14...\n",
       "4     [890, 620, 909, 556, 1150, 3606, 3675, 3432, 3...\n",
       "5     [109, 354, 505, 740, 454, 830, 603, 651, 1226,...\n",
       "6     [298, 118, 778, 319, 801, 683, 1374, 1531, 585...\n",
       "7     [130, 109, 165, 125, 339, 474, 193, 545, 498, ...\n",
       "8     [2560, 111, 154, 220, 187, 435, 242, 168, 192,...\n",
       "9     [125, 297, 147, 164, 149, 198, 168, 104, 233, ...\n",
       "10    [133, 433, 476, 321, 102, 296, 125, 165, 523, ...\n",
       "11    [80, 174, 188, 2587, 261, 623, 320, 264, 541, ...\n",
       "12    [316, 255, 187, 48639, 393, 309, 6933, 1734, 3...\n",
       "13    [1339, 1707, 589, 13233, 7285, 1418, 6456, 114...\n",
       "14    [35065, 36908, 7707, 17657, 34383, 23478, 1474...\n",
       "Name: favorite_count, dtype: object"
      ]
     },
     "execution_count": 87,
     "metadata": {},
     "output_type": "execute_result"
    }
   ],
   "source": [
    "# Doing the same process for Favorite counts\n",
    "# group list of favorite counts by rating and plot it\n",
    "favorite_rating_list = df_master.groupby('rating')['favorite_count'].apply(list)\n",
    "favorite_rating_list"
   ]
  },
  {
   "cell_type": "code",
   "execution_count": 88,
   "metadata": {},
   "outputs": [
    {
     "data": {
      "image/png": "[encoded data removed]",
      "text/plain": [
       "<matplotlib.figure.Figure at 0x7f14e3e6d9e8>"
      ]
     },
     "metadata": {},
     "output_type": "display_data"
    }
   ],
   "source": [
    "# plot favorite distribution the same way as done for retweet count\n",
    "size_constant = 20\n",
    "for xe, ye in favorite_rating_list.items():\n",
    "    xAxis = [xe] * len(ye)\n",
    "    #square it to amplify the effect, if you do ye.count(num)*size_constant the effect is barely noticeable\n",
    "    sizes = [ye.count(num)**2.5 * size_constant for num in ye]\n",
    "    plt.scatter(xAxis, ye, s=sizes)\n",
    "\n",
    "plt.title('Favorite count across different ratings');"
   ]
  },
  {
   "cell_type": "markdown",
   "metadata": {},
   "source": [
    "* Similar behavior for 'favorite count' as it was for 'retweet count': The largest variations occur for rating 13. "
   ]
  },
  {
   "cell_type": "code",
   "execution_count": 151,
   "metadata": {},
   "outputs": [
    {
     "data": {
      "text/plain": [
       "golden_retriever      155\n",
       "Labrador_retriever    106\n",
       "Pembroke               94\n",
       "Chihuahua              90\n",
       "pug                    62\n",
       "Name: dog_prediction, dtype: int64"
      ]
     },
     "execution_count": 151,
     "metadata": {},
     "output_type": "execute_result"
    }
   ],
   "source": [
    "# Now we will look at the variation for ratings across the top dog breeds\n",
    "## Start by looking at the top dog breeds\n",
    "df_master.dog_prediction.value_counts().head()"
   ]
  },
  {
   "cell_type": "markdown",
   "metadata": {},
   "source": [
    "* Top 4 dog with high enough counts to warrant further analysis across different ratings"
   ]
  },
  {
   "cell_type": "code",
   "execution_count": 153,
   "metadata": {},
   "outputs": [
    {
     "data": {
      "text/plain": [
       "Index(['tweet_id', 'timestamp', 'source', 'expanded_urls', 'rating',\n",
       "       'dog_stage', 'favorite_count', 'retweet_count', 'dog_prediction',\n",
       "       'prediction_confidence'],\n",
       "      dtype='object')"
      ]
     },
     "execution_count": 153,
     "metadata": {},
     "output_type": "execute_result"
    }
   ],
   "source": [
    "df_master.columns"
   ]
  },
  {
   "cell_type": "code",
   "execution_count": 12,
   "metadata": {},
   "outputs": [],
   "source": [
    "#group count per breed for specific dogs\n",
    "golden_list = df_master.query('dog_prediction == \"golden_retriever\" & rating >= 10')['rating'].value_counts().sort_index().values.tolist()\n",
    "labrador_list = df_master.query('dog_prediction == \"Labrador_retriever\" & rating >= 10')['rating'].value_counts().sort_index().values.tolist()\n",
    "pembroke_list = df_master.query('dog_prediction == \"Pembroke\" & rating >= 10')['rating'].value_counts().sort_index().values.tolist()\n",
    "chihuahua_list = df_master.query('dog_prediction == \"Chihuahua\" & rating >= 10')['rating'].value_counts().sort_index().values.tolist()\n"
   ]
  },
  {
   "cell_type": "code",
   "execution_count": 13,
   "metadata": {},
   "outputs": [
    {
     "data": {
      "image/png": "[encoded data removed]",
      "text/plain": [
       "<matplotlib.figure.Figure at 0x7f14e461e128>"
      ]
     },
     "metadata": {},
     "output_type": "display_data"
    }
   ],
   "source": [
    "ind = np.arange(len(golden_list))\n",
    "width = 0.2\n",
    "golden_bars = plt.bar(ind, golden_list, width, color = 'yellow', alpha=0.7, label = 'Golden Retreiver')\n",
    "labrador_bars = plt.bar(ind+width, labrador_list, width, color = 'green', alpha=0.7, label = 'Labrador')\n",
    "pembroke_bars = plt.bar(ind+width+width, pembroke_list, width, color = 'blue', alpha=0.7, label = 'Pembroke')\n",
    "chihuahua_bars = plt.bar(ind+width+width+width, chihuahua_list, width, color = 'red', alpha=0.7, label = 'Chihuahua')\n",
    "plt.ylabel('Count')\n",
    "plt.xlabel('Ratings')\n",
    "plt.title('Overall top dog changing across ratings')\n",
    "locations = ind + 1.5*width # xtick locations\n",
    "labels = ['10', '11', '12', '13', '14']  # xtick labels\n",
    "# specify x coordinates of tick labels and their labels\n",
    "plt.xticks(locations, labels)\n",
    "plt.legend();"
   ]
  },
  {
   "cell_type": "markdown",
   "metadata": {},
   "source": [
    "* More or less a 'bell shaped' distribution around the rating range of 10 to 14. however 'Chihuahua' see a dip at the 11 rating, while a huge jump for 'golden retrievers' at ratings 12 and 13"
   ]
  }
 ],
 "metadata": {
  "kernelspec": {
   "display_name": "Python 3",
   "language": "python",
   "name": "python3"
  },
  "language_info": {
   "codemirror_mode": {
    "name": "ipython",
    "version": 3
   },
   "file_extension": ".py",
   "mimetype": "text/x-python",
   "name": "python",
   "nbconvert_exporter": "python",
   "pygments_lexer": "ipython3",
   "version": "3.6.3"
  }
 },
 "nbformat": 4,
 "nbformat_minor": 2
}
